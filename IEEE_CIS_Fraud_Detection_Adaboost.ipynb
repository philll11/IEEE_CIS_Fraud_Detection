{
 "cells": [
  {
   "cell_type": "markdown",
   "metadata": {},
   "source": [
    "Questions \n"
   ]
  },
  {
   "cell_type": "markdown",
   "metadata": {
    "hide_input": true
   },
   "source": [
    "### Transaction Table *\n",
    "- TransactionDT: timedelta from a given reference datetime (not an actual timestamp)\n",
    "- TransactionAMT: transaction payment amount in USD\n",
    "- ProductCD: product code, the product for each transaction\n",
    "- card1 - card6: payment card information, such as card type, card category, issue bank, country, etc.\n",
    "- addr: address\n",
    "- dist: distance\n",
    "- P_ and (R__) emaildomain: purchaser and recipient email domain\n",
    "- C1-C14: counting, such as how many addresses are found to be associated with the payment card, etc. The actual meaning is masked.\n",
    "- D1-D15: timedelta, such as days between previous transaction, etc.\n",
    "- M1-M9: match, such as names on card and address, etc.\n",
    "- Vxxx: Vesta engineered rich features, including ranking, counting, and other entity relations.\n",
    "\n",
    "Categorical Features:\n",
    "- ProductCD\n",
    "- card1 - card6\n",
    "- addr1, addr2\n",
    "- Pemaildomain Remaildomain\n",
    "- M1 - M9\n",
    "\n",
    "### Identity Table *\n",
    "Variables in this table are identity information – network connection information (IP, ISP, Proxy, etc) and digital signature (UA/browser/os/version, etc) associated with transactions. \n",
    "They're collected by Vesta’s fraud protection system and digital security partners.\n",
    "(The field names are masked and pairwise dictionary will not be provided for privacy protection and contract agreement)\n",
    "\n",
    "Categorical Features:\n",
    "- DeviceType\n",
    "- DeviceInfo\n",
    "- id12 - id38"
   ]
  },
  {
   "cell_type": "markdown",
   "metadata": {},
   "source": [
    "I have decided to exclude all Vxxx features from the analysis as we do not know what they are or how they were created."
   ]
  },
  {
   "cell_type": "code",
   "execution_count": 1,
   "metadata": {
    "ExecuteTime": {
     "end_time": "2019-08-15T03:30:43.295229Z",
     "start_time": "2019-08-15T03:30:39.557813Z"
    },
    "hide_input": false
   },
   "outputs": [],
   "source": [
    "import pandas as pd\n",
    "import os\n",
    "import matplotlib.pyplot as plt\n",
    "import seaborn as sns\n",
    "import numpy as np\n",
    "\n",
    "from sklearn.preprocessing import LabelEncoder\n",
    "\n",
    "from sklearn.model_selection import train_test_split"
   ]
  },
  {
   "cell_type": "code",
   "execution_count": 2,
   "metadata": {
    "ExecuteTime": {
     "end_time": "2019-08-15T03:30:57.854902Z",
     "start_time": "2019-08-15T03:30:43.297218Z"
    }
   },
   "outputs": [],
   "source": [
    "dataset_path = '../datasets/fraud_datasets/'\n",
    "\n",
    "\n",
    "# sample_submission_df = pd.read_csv(f'{dataset_path}sample_submission.csv')\n",
    "\n",
    "train_transaction_df = pd.read_csv(\n",
    "    f'{dataset_path}train_transaction.csv', usecols=[i for i in range(55)])\n",
    "test_transaction_df = pd.read_csv(\n",
    "    f'{dataset_path}test_transaction.csv', usecols=[i for i in range(54)])\n",
    "\n",
    "train_id_df = pd.read_csv(f'{dataset_path}train_identity.csv')\n",
    "test_id_df = pd.read_csv(f'{dataset_path}test_identity.csv')"
   ]
  },
  {
   "cell_type": "markdown",
   "metadata": {},
   "source": [
    "After importing our raw datasets, they need to be merged by TransactionID's.\n",
    "\n",
    "<b>(Note: throughout this notebook, it will be important to delete any dataframes that will not be used again as they take up space in memory and slow our machine down.)</b>"
   ]
  },
  {
   "cell_type": "code",
   "execution_count": 3,
   "metadata": {
    "ExecuteTime": {
     "end_time": "2019-08-15T03:31:03.479795Z",
     "start_time": "2019-08-15T03:30:57.856669Z"
    }
   },
   "outputs": [],
   "source": [
    "train = train_transaction_df.merge(train_id_df, on='TransactionID', how='left')\n",
    "test = test_transaction_df.merge(test_id_df, on='TransactionID', how='left')\n",
    "\n",
    "# Renaming columns for better description\n",
    "names = {\n",
    "    'addr1': 'billing zipcode',\n",
    "    'addr2': 'country codes',\n",
    "    'P_emaildomain': 'Purchaser_emaildom',\n",
    "    'R_emaildomain': 'Retailer_email.dom'\n",
    "}\n",
    "\n",
    "train.rename(columns=names, inplace=True)\n",
    "test.rename(columns=names, inplace=True)"
   ]
  },
  {
   "cell_type": "code",
   "execution_count": 4,
   "metadata": {
    "ExecuteTime": {
     "end_time": "2019-08-15T03:31:03.898261Z",
     "start_time": "2019-08-15T03:31:03.481790Z"
    }
   },
   "outputs": [
    {
     "data": {
      "text/html": [
       "<div>\n",
       "<style scoped>\n",
       "    .dataframe tbody tr th:only-of-type {\n",
       "        vertical-align: middle;\n",
       "    }\n",
       "\n",
       "    .dataframe tbody tr th {\n",
       "        vertical-align: top;\n",
       "    }\n",
       "\n",
       "    .dataframe thead th {\n",
       "        text-align: right;\n",
       "    }\n",
       "</style>\n",
       "<table border=\"1\" class=\"dataframe\">\n",
       "  <thead>\n",
       "    <tr style=\"text-align: right;\">\n",
       "      <th></th>\n",
       "      <th>TransactionID</th>\n",
       "      <th>TransactionDT</th>\n",
       "      <th>TransactionAmt</th>\n",
       "      <th>ProductCD</th>\n",
       "      <th>card1</th>\n",
       "      <th>card2</th>\n",
       "      <th>card3</th>\n",
       "      <th>card4</th>\n",
       "      <th>card5</th>\n",
       "      <th>card6</th>\n",
       "      <th>...</th>\n",
       "      <th>id_31</th>\n",
       "      <th>id_32</th>\n",
       "      <th>id_33</th>\n",
       "      <th>id_34</th>\n",
       "      <th>id_35</th>\n",
       "      <th>id_36</th>\n",
       "      <th>id_37</th>\n",
       "      <th>id_38</th>\n",
       "      <th>DeviceType</th>\n",
       "      <th>DeviceInfo</th>\n",
       "    </tr>\n",
       "  </thead>\n",
       "  <tbody>\n",
       "    <tr>\n",
       "      <th>0</th>\n",
       "      <td>3663549</td>\n",
       "      <td>18403224</td>\n",
       "      <td>31.950</td>\n",
       "      <td>W</td>\n",
       "      <td>10409</td>\n",
       "      <td>111.0</td>\n",
       "      <td>150.0</td>\n",
       "      <td>visa</td>\n",
       "      <td>226.0</td>\n",
       "      <td>debit</td>\n",
       "      <td>...</td>\n",
       "      <td>NaN</td>\n",
       "      <td>NaN</td>\n",
       "      <td>NaN</td>\n",
       "      <td>NaN</td>\n",
       "      <td>NaN</td>\n",
       "      <td>NaN</td>\n",
       "      <td>NaN</td>\n",
       "      <td>NaN</td>\n",
       "      <td>NaN</td>\n",
       "      <td>NaN</td>\n",
       "    </tr>\n",
       "    <tr>\n",
       "      <th>1</th>\n",
       "      <td>3663550</td>\n",
       "      <td>18403263</td>\n",
       "      <td>49.000</td>\n",
       "      <td>W</td>\n",
       "      <td>4272</td>\n",
       "      <td>111.0</td>\n",
       "      <td>150.0</td>\n",
       "      <td>visa</td>\n",
       "      <td>226.0</td>\n",
       "      <td>debit</td>\n",
       "      <td>...</td>\n",
       "      <td>NaN</td>\n",
       "      <td>NaN</td>\n",
       "      <td>NaN</td>\n",
       "      <td>NaN</td>\n",
       "      <td>NaN</td>\n",
       "      <td>NaN</td>\n",
       "      <td>NaN</td>\n",
       "      <td>NaN</td>\n",
       "      <td>NaN</td>\n",
       "      <td>NaN</td>\n",
       "    </tr>\n",
       "    <tr>\n",
       "      <th>2</th>\n",
       "      <td>3663551</td>\n",
       "      <td>18403310</td>\n",
       "      <td>171.000</td>\n",
       "      <td>W</td>\n",
       "      <td>4476</td>\n",
       "      <td>574.0</td>\n",
       "      <td>150.0</td>\n",
       "      <td>visa</td>\n",
       "      <td>226.0</td>\n",
       "      <td>debit</td>\n",
       "      <td>...</td>\n",
       "      <td>NaN</td>\n",
       "      <td>NaN</td>\n",
       "      <td>NaN</td>\n",
       "      <td>NaN</td>\n",
       "      <td>NaN</td>\n",
       "      <td>NaN</td>\n",
       "      <td>NaN</td>\n",
       "      <td>NaN</td>\n",
       "      <td>NaN</td>\n",
       "      <td>NaN</td>\n",
       "    </tr>\n",
       "    <tr>\n",
       "      <th>3</th>\n",
       "      <td>3663552</td>\n",
       "      <td>18403310</td>\n",
       "      <td>284.950</td>\n",
       "      <td>W</td>\n",
       "      <td>10989</td>\n",
       "      <td>360.0</td>\n",
       "      <td>150.0</td>\n",
       "      <td>visa</td>\n",
       "      <td>166.0</td>\n",
       "      <td>debit</td>\n",
       "      <td>...</td>\n",
       "      <td>NaN</td>\n",
       "      <td>NaN</td>\n",
       "      <td>NaN</td>\n",
       "      <td>NaN</td>\n",
       "      <td>NaN</td>\n",
       "      <td>NaN</td>\n",
       "      <td>NaN</td>\n",
       "      <td>NaN</td>\n",
       "      <td>NaN</td>\n",
       "      <td>NaN</td>\n",
       "    </tr>\n",
       "    <tr>\n",
       "      <th>4</th>\n",
       "      <td>3663553</td>\n",
       "      <td>18403317</td>\n",
       "      <td>67.950</td>\n",
       "      <td>W</td>\n",
       "      <td>18018</td>\n",
       "      <td>452.0</td>\n",
       "      <td>150.0</td>\n",
       "      <td>mastercard</td>\n",
       "      <td>117.0</td>\n",
       "      <td>debit</td>\n",
       "      <td>...</td>\n",
       "      <td>NaN</td>\n",
       "      <td>NaN</td>\n",
       "      <td>NaN</td>\n",
       "      <td>NaN</td>\n",
       "      <td>NaN</td>\n",
       "      <td>NaN</td>\n",
       "      <td>NaN</td>\n",
       "      <td>NaN</td>\n",
       "      <td>NaN</td>\n",
       "      <td>NaN</td>\n",
       "    </tr>\n",
       "    <tr>\n",
       "      <th>5</th>\n",
       "      <td>3663554</td>\n",
       "      <td>18403323</td>\n",
       "      <td>57.950</td>\n",
       "      <td>W</td>\n",
       "      <td>12839</td>\n",
       "      <td>321.0</td>\n",
       "      <td>150.0</td>\n",
       "      <td>visa</td>\n",
       "      <td>226.0</td>\n",
       "      <td>debit</td>\n",
       "      <td>...</td>\n",
       "      <td>NaN</td>\n",
       "      <td>NaN</td>\n",
       "      <td>NaN</td>\n",
       "      <td>NaN</td>\n",
       "      <td>NaN</td>\n",
       "      <td>NaN</td>\n",
       "      <td>NaN</td>\n",
       "      <td>NaN</td>\n",
       "      <td>NaN</td>\n",
       "      <td>NaN</td>\n",
       "    </tr>\n",
       "    <tr>\n",
       "      <th>6</th>\n",
       "      <td>3663555</td>\n",
       "      <td>18403350</td>\n",
       "      <td>87.000</td>\n",
       "      <td>W</td>\n",
       "      <td>16560</td>\n",
       "      <td>476.0</td>\n",
       "      <td>150.0</td>\n",
       "      <td>visa</td>\n",
       "      <td>126.0</td>\n",
       "      <td>debit</td>\n",
       "      <td>...</td>\n",
       "      <td>NaN</td>\n",
       "      <td>NaN</td>\n",
       "      <td>NaN</td>\n",
       "      <td>NaN</td>\n",
       "      <td>NaN</td>\n",
       "      <td>NaN</td>\n",
       "      <td>NaN</td>\n",
       "      <td>NaN</td>\n",
       "      <td>NaN</td>\n",
       "      <td>NaN</td>\n",
       "    </tr>\n",
       "    <tr>\n",
       "      <th>7</th>\n",
       "      <td>3663556</td>\n",
       "      <td>18403387</td>\n",
       "      <td>390.000</td>\n",
       "      <td>W</td>\n",
       "      <td>15066</td>\n",
       "      <td>170.0</td>\n",
       "      <td>150.0</td>\n",
       "      <td>mastercard</td>\n",
       "      <td>102.0</td>\n",
       "      <td>credit</td>\n",
       "      <td>...</td>\n",
       "      <td>NaN</td>\n",
       "      <td>NaN</td>\n",
       "      <td>NaN</td>\n",
       "      <td>NaN</td>\n",
       "      <td>NaN</td>\n",
       "      <td>NaN</td>\n",
       "      <td>NaN</td>\n",
       "      <td>NaN</td>\n",
       "      <td>NaN</td>\n",
       "      <td>NaN</td>\n",
       "    </tr>\n",
       "    <tr>\n",
       "      <th>8</th>\n",
       "      <td>3663557</td>\n",
       "      <td>18403405</td>\n",
       "      <td>103.950</td>\n",
       "      <td>W</td>\n",
       "      <td>2803</td>\n",
       "      <td>100.0</td>\n",
       "      <td>150.0</td>\n",
       "      <td>visa</td>\n",
       "      <td>226.0</td>\n",
       "      <td>debit</td>\n",
       "      <td>...</td>\n",
       "      <td>NaN</td>\n",
       "      <td>NaN</td>\n",
       "      <td>NaN</td>\n",
       "      <td>NaN</td>\n",
       "      <td>NaN</td>\n",
       "      <td>NaN</td>\n",
       "      <td>NaN</td>\n",
       "      <td>NaN</td>\n",
       "      <td>NaN</td>\n",
       "      <td>NaN</td>\n",
       "    </tr>\n",
       "    <tr>\n",
       "      <th>9</th>\n",
       "      <td>3663558</td>\n",
       "      <td>18403416</td>\n",
       "      <td>117.000</td>\n",
       "      <td>W</td>\n",
       "      <td>12544</td>\n",
       "      <td>321.0</td>\n",
       "      <td>150.0</td>\n",
       "      <td>visa</td>\n",
       "      <td>226.0</td>\n",
       "      <td>debit</td>\n",
       "      <td>...</td>\n",
       "      <td>NaN</td>\n",
       "      <td>NaN</td>\n",
       "      <td>NaN</td>\n",
       "      <td>NaN</td>\n",
       "      <td>NaN</td>\n",
       "      <td>NaN</td>\n",
       "      <td>NaN</td>\n",
       "      <td>NaN</td>\n",
       "      <td>NaN</td>\n",
       "      <td>NaN</td>\n",
       "    </tr>\n",
       "    <tr>\n",
       "      <th>10</th>\n",
       "      <td>3663559</td>\n",
       "      <td>18403474</td>\n",
       "      <td>261.950</td>\n",
       "      <td>W</td>\n",
       "      <td>16982</td>\n",
       "      <td>127.0</td>\n",
       "      <td>150.0</td>\n",
       "      <td>mastercard</td>\n",
       "      <td>224.0</td>\n",
       "      <td>debit</td>\n",
       "      <td>...</td>\n",
       "      <td>NaN</td>\n",
       "      <td>NaN</td>\n",
       "      <td>NaN</td>\n",
       "      <td>NaN</td>\n",
       "      <td>NaN</td>\n",
       "      <td>NaN</td>\n",
       "      <td>NaN</td>\n",
       "      <td>NaN</td>\n",
       "      <td>NaN</td>\n",
       "      <td>NaN</td>\n",
       "    </tr>\n",
       "    <tr>\n",
       "      <th>11</th>\n",
       "      <td>3663560</td>\n",
       "      <td>18403504</td>\n",
       "      <td>107.950</td>\n",
       "      <td>W</td>\n",
       "      <td>9500</td>\n",
       "      <td>321.0</td>\n",
       "      <td>150.0</td>\n",
       "      <td>visa</td>\n",
       "      <td>226.0</td>\n",
       "      <td>debit</td>\n",
       "      <td>...</td>\n",
       "      <td>NaN</td>\n",
       "      <td>NaN</td>\n",
       "      <td>NaN</td>\n",
       "      <td>NaN</td>\n",
       "      <td>NaN</td>\n",
       "      <td>NaN</td>\n",
       "      <td>NaN</td>\n",
       "      <td>NaN</td>\n",
       "      <td>NaN</td>\n",
       "      <td>NaN</td>\n",
       "    </tr>\n",
       "    <tr>\n",
       "      <th>12</th>\n",
       "      <td>3663561</td>\n",
       "      <td>18403508</td>\n",
       "      <td>335.000</td>\n",
       "      <td>W</td>\n",
       "      <td>18366</td>\n",
       "      <td>111.0</td>\n",
       "      <td>150.0</td>\n",
       "      <td>visa</td>\n",
       "      <td>226.0</td>\n",
       "      <td>debit</td>\n",
       "      <td>...</td>\n",
       "      <td>NaN</td>\n",
       "      <td>NaN</td>\n",
       "      <td>NaN</td>\n",
       "      <td>NaN</td>\n",
       "      <td>NaN</td>\n",
       "      <td>NaN</td>\n",
       "      <td>NaN</td>\n",
       "      <td>NaN</td>\n",
       "      <td>NaN</td>\n",
       "      <td>NaN</td>\n",
       "    </tr>\n",
       "    <tr>\n",
       "      <th>13</th>\n",
       "      <td>3663562</td>\n",
       "      <td>18403543</td>\n",
       "      <td>107.950</td>\n",
       "      <td>W</td>\n",
       "      <td>6900</td>\n",
       "      <td>225.0</td>\n",
       "      <td>150.0</td>\n",
       "      <td>mastercard</td>\n",
       "      <td>117.0</td>\n",
       "      <td>debit</td>\n",
       "      <td>...</td>\n",
       "      <td>NaN</td>\n",
       "      <td>NaN</td>\n",
       "      <td>NaN</td>\n",
       "      <td>NaN</td>\n",
       "      <td>NaN</td>\n",
       "      <td>NaN</td>\n",
       "      <td>NaN</td>\n",
       "      <td>NaN</td>\n",
       "      <td>NaN</td>\n",
       "      <td>NaN</td>\n",
       "    </tr>\n",
       "    <tr>\n",
       "      <th>14</th>\n",
       "      <td>3663563</td>\n",
       "      <td>18403553</td>\n",
       "      <td>117.000</td>\n",
       "      <td>W</td>\n",
       "      <td>12686</td>\n",
       "      <td>215.0</td>\n",
       "      <td>150.0</td>\n",
       "      <td>visa</td>\n",
       "      <td>226.0</td>\n",
       "      <td>debit</td>\n",
       "      <td>...</td>\n",
       "      <td>NaN</td>\n",
       "      <td>NaN</td>\n",
       "      <td>NaN</td>\n",
       "      <td>NaN</td>\n",
       "      <td>NaN</td>\n",
       "      <td>NaN</td>\n",
       "      <td>NaN</td>\n",
       "      <td>NaN</td>\n",
       "      <td>NaN</td>\n",
       "      <td>NaN</td>\n",
       "    </tr>\n",
       "    <tr>\n",
       "      <th>15</th>\n",
       "      <td>3663564</td>\n",
       "      <td>18403582</td>\n",
       "      <td>57.950</td>\n",
       "      <td>W</td>\n",
       "      <td>7826</td>\n",
       "      <td>481.0</td>\n",
       "      <td>150.0</td>\n",
       "      <td>mastercard</td>\n",
       "      <td>224.0</td>\n",
       "      <td>debit</td>\n",
       "      <td>...</td>\n",
       "      <td>NaN</td>\n",
       "      <td>NaN</td>\n",
       "      <td>NaN</td>\n",
       "      <td>NaN</td>\n",
       "      <td>NaN</td>\n",
       "      <td>NaN</td>\n",
       "      <td>NaN</td>\n",
       "      <td>NaN</td>\n",
       "      <td>NaN</td>\n",
       "      <td>NaN</td>\n",
       "    </tr>\n",
       "    <tr>\n",
       "      <th>16</th>\n",
       "      <td>3663565</td>\n",
       "      <td>18403598</td>\n",
       "      <td>57.950</td>\n",
       "      <td>W</td>\n",
       "      <td>8489</td>\n",
       "      <td>230.0</td>\n",
       "      <td>150.0</td>\n",
       "      <td>mastercard</td>\n",
       "      <td>224.0</td>\n",
       "      <td>debit</td>\n",
       "      <td>...</td>\n",
       "      <td>NaN</td>\n",
       "      <td>NaN</td>\n",
       "      <td>NaN</td>\n",
       "      <td>NaN</td>\n",
       "      <td>NaN</td>\n",
       "      <td>NaN</td>\n",
       "      <td>NaN</td>\n",
       "      <td>NaN</td>\n",
       "      <td>NaN</td>\n",
       "      <td>NaN</td>\n",
       "    </tr>\n",
       "    <tr>\n",
       "      <th>17</th>\n",
       "      <td>3663566</td>\n",
       "      <td>18403632</td>\n",
       "      <td>29.000</td>\n",
       "      <td>W</td>\n",
       "      <td>12544</td>\n",
       "      <td>321.0</td>\n",
       "      <td>150.0</td>\n",
       "      <td>visa</td>\n",
       "      <td>226.0</td>\n",
       "      <td>debit</td>\n",
       "      <td>...</td>\n",
       "      <td>NaN</td>\n",
       "      <td>NaN</td>\n",
       "      <td>NaN</td>\n",
       "      <td>NaN</td>\n",
       "      <td>NaN</td>\n",
       "      <td>NaN</td>\n",
       "      <td>NaN</td>\n",
       "      <td>NaN</td>\n",
       "      <td>NaN</td>\n",
       "      <td>NaN</td>\n",
       "    </tr>\n",
       "    <tr>\n",
       "      <th>18</th>\n",
       "      <td>3663567</td>\n",
       "      <td>18403632</td>\n",
       "      <td>49.000</td>\n",
       "      <td>W</td>\n",
       "      <td>16560</td>\n",
       "      <td>476.0</td>\n",
       "      <td>150.0</td>\n",
       "      <td>visa</td>\n",
       "      <td>126.0</td>\n",
       "      <td>debit</td>\n",
       "      <td>...</td>\n",
       "      <td>NaN</td>\n",
       "      <td>NaN</td>\n",
       "      <td>NaN</td>\n",
       "      <td>NaN</td>\n",
       "      <td>NaN</td>\n",
       "      <td>NaN</td>\n",
       "      <td>NaN</td>\n",
       "      <td>NaN</td>\n",
       "      <td>NaN</td>\n",
       "      <td>NaN</td>\n",
       "    </tr>\n",
       "    <tr>\n",
       "      <th>19</th>\n",
       "      <td>3663568</td>\n",
       "      <td>18403678</td>\n",
       "      <td>77.000</td>\n",
       "      <td>W</td>\n",
       "      <td>12839</td>\n",
       "      <td>321.0</td>\n",
       "      <td>150.0</td>\n",
       "      <td>visa</td>\n",
       "      <td>226.0</td>\n",
       "      <td>debit</td>\n",
       "      <td>...</td>\n",
       "      <td>NaN</td>\n",
       "      <td>NaN</td>\n",
       "      <td>NaN</td>\n",
       "      <td>NaN</td>\n",
       "      <td>NaN</td>\n",
       "      <td>NaN</td>\n",
       "      <td>NaN</td>\n",
       "      <td>NaN</td>\n",
       "      <td>NaN</td>\n",
       "      <td>NaN</td>\n",
       "    </tr>\n",
       "    <tr>\n",
       "      <th>20</th>\n",
       "      <td>3663569</td>\n",
       "      <td>18403686</td>\n",
       "      <td>445.000</td>\n",
       "      <td>W</td>\n",
       "      <td>7919</td>\n",
       "      <td>194.0</td>\n",
       "      <td>150.0</td>\n",
       "      <td>mastercard</td>\n",
       "      <td>166.0</td>\n",
       "      <td>debit</td>\n",
       "      <td>...</td>\n",
       "      <td>NaN</td>\n",
       "      <td>NaN</td>\n",
       "      <td>NaN</td>\n",
       "      <td>NaN</td>\n",
       "      <td>NaN</td>\n",
       "      <td>NaN</td>\n",
       "      <td>NaN</td>\n",
       "      <td>NaN</td>\n",
       "      <td>NaN</td>\n",
       "      <td>NaN</td>\n",
       "    </tr>\n",
       "    <tr>\n",
       "      <th>21</th>\n",
       "      <td>3663570</td>\n",
       "      <td>18403735</td>\n",
       "      <td>209.950</td>\n",
       "      <td>W</td>\n",
       "      <td>15066</td>\n",
       "      <td>170.0</td>\n",
       "      <td>150.0</td>\n",
       "      <td>mastercard</td>\n",
       "      <td>102.0</td>\n",
       "      <td>credit</td>\n",
       "      <td>...</td>\n",
       "      <td>NaN</td>\n",
       "      <td>NaN</td>\n",
       "      <td>NaN</td>\n",
       "      <td>NaN</td>\n",
       "      <td>NaN</td>\n",
       "      <td>NaN</td>\n",
       "      <td>NaN</td>\n",
       "      <td>NaN</td>\n",
       "      <td>NaN</td>\n",
       "      <td>NaN</td>\n",
       "    </tr>\n",
       "    <tr>\n",
       "      <th>22</th>\n",
       "      <td>3663571</td>\n",
       "      <td>18403755</td>\n",
       "      <td>554.000</td>\n",
       "      <td>W</td>\n",
       "      <td>16338</td>\n",
       "      <td>555.0</td>\n",
       "      <td>150.0</td>\n",
       "      <td>mastercard</td>\n",
       "      <td>117.0</td>\n",
       "      <td>debit</td>\n",
       "      <td>...</td>\n",
       "      <td>NaN</td>\n",
       "      <td>NaN</td>\n",
       "      <td>NaN</td>\n",
       "      <td>NaN</td>\n",
       "      <td>NaN</td>\n",
       "      <td>NaN</td>\n",
       "      <td>NaN</td>\n",
       "      <td>NaN</td>\n",
       "      <td>NaN</td>\n",
       "      <td>NaN</td>\n",
       "    </tr>\n",
       "    <tr>\n",
       "      <th>23</th>\n",
       "      <td>3663572</td>\n",
       "      <td>18403788</td>\n",
       "      <td>117.000</td>\n",
       "      <td>W</td>\n",
       "      <td>6530</td>\n",
       "      <td>206.0</td>\n",
       "      <td>150.0</td>\n",
       "      <td>mastercard</td>\n",
       "      <td>126.0</td>\n",
       "      <td>debit</td>\n",
       "      <td>...</td>\n",
       "      <td>NaN</td>\n",
       "      <td>NaN</td>\n",
       "      <td>NaN</td>\n",
       "      <td>NaN</td>\n",
       "      <td>NaN</td>\n",
       "      <td>NaN</td>\n",
       "      <td>NaN</td>\n",
       "      <td>NaN</td>\n",
       "      <td>NaN</td>\n",
       "      <td>NaN</td>\n",
       "    </tr>\n",
       "    <tr>\n",
       "      <th>24</th>\n",
       "      <td>3663573</td>\n",
       "      <td>18403829</td>\n",
       "      <td>131.000</td>\n",
       "      <td>W</td>\n",
       "      <td>10752</td>\n",
       "      <td>555.0</td>\n",
       "      <td>150.0</td>\n",
       "      <td>visa</td>\n",
       "      <td>226.0</td>\n",
       "      <td>debit</td>\n",
       "      <td>...</td>\n",
       "      <td>NaN</td>\n",
       "      <td>NaN</td>\n",
       "      <td>NaN</td>\n",
       "      <td>NaN</td>\n",
       "      <td>NaN</td>\n",
       "      <td>NaN</td>\n",
       "      <td>NaN</td>\n",
       "      <td>NaN</td>\n",
       "      <td>NaN</td>\n",
       "      <td>NaN</td>\n",
       "    </tr>\n",
       "    <tr>\n",
       "      <th>25</th>\n",
       "      <td>3663574</td>\n",
       "      <td>18403844</td>\n",
       "      <td>77.000</td>\n",
       "      <td>W</td>\n",
       "      <td>17188</td>\n",
       "      <td>321.0</td>\n",
       "      <td>150.0</td>\n",
       "      <td>visa</td>\n",
       "      <td>226.0</td>\n",
       "      <td>debit</td>\n",
       "      <td>...</td>\n",
       "      <td>NaN</td>\n",
       "      <td>NaN</td>\n",
       "      <td>NaN</td>\n",
       "      <td>NaN</td>\n",
       "      <td>NaN</td>\n",
       "      <td>NaN</td>\n",
       "      <td>NaN</td>\n",
       "      <td>NaN</td>\n",
       "      <td>NaN</td>\n",
       "      <td>NaN</td>\n",
       "    </tr>\n",
       "    <tr>\n",
       "      <th>26</th>\n",
       "      <td>3663575</td>\n",
       "      <td>18403848</td>\n",
       "      <td>209.950</td>\n",
       "      <td>W</td>\n",
       "      <td>15066</td>\n",
       "      <td>170.0</td>\n",
       "      <td>150.0</td>\n",
       "      <td>mastercard</td>\n",
       "      <td>102.0</td>\n",
       "      <td>credit</td>\n",
       "      <td>...</td>\n",
       "      <td>NaN</td>\n",
       "      <td>NaN</td>\n",
       "      <td>NaN</td>\n",
       "      <td>NaN</td>\n",
       "      <td>NaN</td>\n",
       "      <td>NaN</td>\n",
       "      <td>NaN</td>\n",
       "      <td>NaN</td>\n",
       "      <td>NaN</td>\n",
       "      <td>NaN</td>\n",
       "    </tr>\n",
       "    <tr>\n",
       "      <th>27</th>\n",
       "      <td>3663576</td>\n",
       "      <td>18403854</td>\n",
       "      <td>141.000</td>\n",
       "      <td>W</td>\n",
       "      <td>11839</td>\n",
       "      <td>490.0</td>\n",
       "      <td>150.0</td>\n",
       "      <td>visa</td>\n",
       "      <td>226.0</td>\n",
       "      <td>debit</td>\n",
       "      <td>...</td>\n",
       "      <td>NaN</td>\n",
       "      <td>NaN</td>\n",
       "      <td>NaN</td>\n",
       "      <td>NaN</td>\n",
       "      <td>NaN</td>\n",
       "      <td>NaN</td>\n",
       "      <td>NaN</td>\n",
       "      <td>NaN</td>\n",
       "      <td>NaN</td>\n",
       "      <td>NaN</td>\n",
       "    </tr>\n",
       "    <tr>\n",
       "      <th>28</th>\n",
       "      <td>3663577</td>\n",
       "      <td>18403857</td>\n",
       "      <td>117.000</td>\n",
       "      <td>W</td>\n",
       "      <td>6530</td>\n",
       "      <td>206.0</td>\n",
       "      <td>150.0</td>\n",
       "      <td>mastercard</td>\n",
       "      <td>126.0</td>\n",
       "      <td>debit</td>\n",
       "      <td>...</td>\n",
       "      <td>NaN</td>\n",
       "      <td>NaN</td>\n",
       "      <td>NaN</td>\n",
       "      <td>NaN</td>\n",
       "      <td>NaN</td>\n",
       "      <td>NaN</td>\n",
       "      <td>NaN</td>\n",
       "      <td>NaN</td>\n",
       "      <td>NaN</td>\n",
       "      <td>NaN</td>\n",
       "    </tr>\n",
       "    <tr>\n",
       "      <th>29</th>\n",
       "      <td>3663578</td>\n",
       "      <td>18403863</td>\n",
       "      <td>34.000</td>\n",
       "      <td>W</td>\n",
       "      <td>14991</td>\n",
       "      <td>555.0</td>\n",
       "      <td>150.0</td>\n",
       "      <td>mastercard</td>\n",
       "      <td>117.0</td>\n",
       "      <td>debit</td>\n",
       "      <td>...</td>\n",
       "      <td>NaN</td>\n",
       "      <td>NaN</td>\n",
       "      <td>NaN</td>\n",
       "      <td>NaN</td>\n",
       "      <td>NaN</td>\n",
       "      <td>NaN</td>\n",
       "      <td>NaN</td>\n",
       "      <td>NaN</td>\n",
       "      <td>NaN</td>\n",
       "      <td>NaN</td>\n",
       "    </tr>\n",
       "    <tr>\n",
       "      <th>...</th>\n",
       "      <td>...</td>\n",
       "      <td>...</td>\n",
       "      <td>...</td>\n",
       "      <td>...</td>\n",
       "      <td>...</td>\n",
       "      <td>...</td>\n",
       "      <td>...</td>\n",
       "      <td>...</td>\n",
       "      <td>...</td>\n",
       "      <td>...</td>\n",
       "      <td>...</td>\n",
       "      <td>...</td>\n",
       "      <td>...</td>\n",
       "      <td>...</td>\n",
       "      <td>...</td>\n",
       "      <td>...</td>\n",
       "      <td>...</td>\n",
       "      <td>...</td>\n",
       "      <td>...</td>\n",
       "      <td>...</td>\n",
       "      <td>...</td>\n",
       "    </tr>\n",
       "    <tr>\n",
       "      <th>506661</th>\n",
       "      <td>4170210</td>\n",
       "      <td>34213723</td>\n",
       "      <td>49.000</td>\n",
       "      <td>W</td>\n",
       "      <td>12386</td>\n",
       "      <td>555.0</td>\n",
       "      <td>150.0</td>\n",
       "      <td>visa</td>\n",
       "      <td>226.0</td>\n",
       "      <td>debit</td>\n",
       "      <td>...</td>\n",
       "      <td>NaN</td>\n",
       "      <td>NaN</td>\n",
       "      <td>NaN</td>\n",
       "      <td>NaN</td>\n",
       "      <td>NaN</td>\n",
       "      <td>NaN</td>\n",
       "      <td>NaN</td>\n",
       "      <td>NaN</td>\n",
       "      <td>NaN</td>\n",
       "      <td>NaN</td>\n",
       "    </tr>\n",
       "    <tr>\n",
       "      <th>506662</th>\n",
       "      <td>4170211</td>\n",
       "      <td>34213751</td>\n",
       "      <td>280.000</td>\n",
       "      <td>W</td>\n",
       "      <td>2440</td>\n",
       "      <td>111.0</td>\n",
       "      <td>150.0</td>\n",
       "      <td>visa</td>\n",
       "      <td>226.0</td>\n",
       "      <td>debit</td>\n",
       "      <td>...</td>\n",
       "      <td>NaN</td>\n",
       "      <td>NaN</td>\n",
       "      <td>NaN</td>\n",
       "      <td>NaN</td>\n",
       "      <td>NaN</td>\n",
       "      <td>NaN</td>\n",
       "      <td>NaN</td>\n",
       "      <td>NaN</td>\n",
       "      <td>NaN</td>\n",
       "      <td>NaN</td>\n",
       "    </tr>\n",
       "    <tr>\n",
       "      <th>506663</th>\n",
       "      <td>4170212</td>\n",
       "      <td>34213763</td>\n",
       "      <td>107.950</td>\n",
       "      <td>W</td>\n",
       "      <td>12866</td>\n",
       "      <td>303.0</td>\n",
       "      <td>150.0</td>\n",
       "      <td>visa</td>\n",
       "      <td>226.0</td>\n",
       "      <td>debit</td>\n",
       "      <td>...</td>\n",
       "      <td>NaN</td>\n",
       "      <td>NaN</td>\n",
       "      <td>NaN</td>\n",
       "      <td>NaN</td>\n",
       "      <td>NaN</td>\n",
       "      <td>NaN</td>\n",
       "      <td>NaN</td>\n",
       "      <td>NaN</td>\n",
       "      <td>NaN</td>\n",
       "      <td>NaN</td>\n",
       "    </tr>\n",
       "    <tr>\n",
       "      <th>506664</th>\n",
       "      <td>4170213</td>\n",
       "      <td>34213767</td>\n",
       "      <td>186.000</td>\n",
       "      <td>W</td>\n",
       "      <td>5137</td>\n",
       "      <td>555.0</td>\n",
       "      <td>150.0</td>\n",
       "      <td>visa</td>\n",
       "      <td>226.0</td>\n",
       "      <td>debit</td>\n",
       "      <td>...</td>\n",
       "      <td>NaN</td>\n",
       "      <td>NaN</td>\n",
       "      <td>NaN</td>\n",
       "      <td>NaN</td>\n",
       "      <td>NaN</td>\n",
       "      <td>NaN</td>\n",
       "      <td>NaN</td>\n",
       "      <td>NaN</td>\n",
       "      <td>NaN</td>\n",
       "      <td>NaN</td>\n",
       "    </tr>\n",
       "    <tr>\n",
       "      <th>506665</th>\n",
       "      <td>4170214</td>\n",
       "      <td>34213780</td>\n",
       "      <td>20.903</td>\n",
       "      <td>C</td>\n",
       "      <td>4461</td>\n",
       "      <td>375.0</td>\n",
       "      <td>185.0</td>\n",
       "      <td>mastercard</td>\n",
       "      <td>224.0</td>\n",
       "      <td>debit</td>\n",
       "      <td>...</td>\n",
       "      <td>chrome 71.0</td>\n",
       "      <td>NaN</td>\n",
       "      <td>NaN</td>\n",
       "      <td>NaN</td>\n",
       "      <td>F</td>\n",
       "      <td>F</td>\n",
       "      <td>T</td>\n",
       "      <td>F</td>\n",
       "      <td>desktop</td>\n",
       "      <td>Windows</td>\n",
       "    </tr>\n",
       "    <tr>\n",
       "      <th>506666</th>\n",
       "      <td>4170215</td>\n",
       "      <td>34213798</td>\n",
       "      <td>73.000</td>\n",
       "      <td>W</td>\n",
       "      <td>4702</td>\n",
       "      <td>111.0</td>\n",
       "      <td>150.0</td>\n",
       "      <td>mastercard</td>\n",
       "      <td>224.0</td>\n",
       "      <td>debit</td>\n",
       "      <td>...</td>\n",
       "      <td>NaN</td>\n",
       "      <td>NaN</td>\n",
       "      <td>NaN</td>\n",
       "      <td>NaN</td>\n",
       "      <td>NaN</td>\n",
       "      <td>NaN</td>\n",
       "      <td>NaN</td>\n",
       "      <td>NaN</td>\n",
       "      <td>NaN</td>\n",
       "      <td>NaN</td>\n",
       "    </tr>\n",
       "    <tr>\n",
       "      <th>506667</th>\n",
       "      <td>4170216</td>\n",
       "      <td>34213812</td>\n",
       "      <td>77.000</td>\n",
       "      <td>W</td>\n",
       "      <td>7690</td>\n",
       "      <td>122.0</td>\n",
       "      <td>150.0</td>\n",
       "      <td>mastercard</td>\n",
       "      <td>166.0</td>\n",
       "      <td>debit</td>\n",
       "      <td>...</td>\n",
       "      <td>NaN</td>\n",
       "      <td>NaN</td>\n",
       "      <td>NaN</td>\n",
       "      <td>NaN</td>\n",
       "      <td>NaN</td>\n",
       "      <td>NaN</td>\n",
       "      <td>NaN</td>\n",
       "      <td>NaN</td>\n",
       "      <td>NaN</td>\n",
       "      <td>NaN</td>\n",
       "    </tr>\n",
       "    <tr>\n",
       "      <th>506668</th>\n",
       "      <td>4170217</td>\n",
       "      <td>34213826</td>\n",
       "      <td>67.950</td>\n",
       "      <td>W</td>\n",
       "      <td>17399</td>\n",
       "      <td>111.0</td>\n",
       "      <td>150.0</td>\n",
       "      <td>mastercard</td>\n",
       "      <td>224.0</td>\n",
       "      <td>debit</td>\n",
       "      <td>...</td>\n",
       "      <td>NaN</td>\n",
       "      <td>NaN</td>\n",
       "      <td>NaN</td>\n",
       "      <td>NaN</td>\n",
       "      <td>NaN</td>\n",
       "      <td>NaN</td>\n",
       "      <td>NaN</td>\n",
       "      <td>NaN</td>\n",
       "      <td>NaN</td>\n",
       "      <td>NaN</td>\n",
       "    </tr>\n",
       "    <tr>\n",
       "      <th>506669</th>\n",
       "      <td>4170218</td>\n",
       "      <td>34213834</td>\n",
       "      <td>77.000</td>\n",
       "      <td>W</td>\n",
       "      <td>1675</td>\n",
       "      <td>174.0</td>\n",
       "      <td>150.0</td>\n",
       "      <td>visa</td>\n",
       "      <td>226.0</td>\n",
       "      <td>debit</td>\n",
       "      <td>...</td>\n",
       "      <td>NaN</td>\n",
       "      <td>NaN</td>\n",
       "      <td>NaN</td>\n",
       "      <td>NaN</td>\n",
       "      <td>NaN</td>\n",
       "      <td>NaN</td>\n",
       "      <td>NaN</td>\n",
       "      <td>NaN</td>\n",
       "      <td>NaN</td>\n",
       "      <td>NaN</td>\n",
       "    </tr>\n",
       "    <tr>\n",
       "      <th>506670</th>\n",
       "      <td>4170219</td>\n",
       "      <td>34213938</td>\n",
       "      <td>142.019</td>\n",
       "      <td>C</td>\n",
       "      <td>4461</td>\n",
       "      <td>375.0</td>\n",
       "      <td>185.0</td>\n",
       "      <td>mastercard</td>\n",
       "      <td>224.0</td>\n",
       "      <td>debit</td>\n",
       "      <td>...</td>\n",
       "      <td>chrome 71.0</td>\n",
       "      <td>NaN</td>\n",
       "      <td>NaN</td>\n",
       "      <td>NaN</td>\n",
       "      <td>F</td>\n",
       "      <td>F</td>\n",
       "      <td>T</td>\n",
       "      <td>F</td>\n",
       "      <td>desktop</td>\n",
       "      <td>Windows</td>\n",
       "    </tr>\n",
       "    <tr>\n",
       "      <th>506671</th>\n",
       "      <td>4170220</td>\n",
       "      <td>34213992</td>\n",
       "      <td>107.950</td>\n",
       "      <td>W</td>\n",
       "      <td>10023</td>\n",
       "      <td>111.0</td>\n",
       "      <td>150.0</td>\n",
       "      <td>visa</td>\n",
       "      <td>226.0</td>\n",
       "      <td>debit</td>\n",
       "      <td>...</td>\n",
       "      <td>NaN</td>\n",
       "      <td>NaN</td>\n",
       "      <td>NaN</td>\n",
       "      <td>NaN</td>\n",
       "      <td>NaN</td>\n",
       "      <td>NaN</td>\n",
       "      <td>NaN</td>\n",
       "      <td>NaN</td>\n",
       "      <td>NaN</td>\n",
       "      <td>NaN</td>\n",
       "    </tr>\n",
       "    <tr>\n",
       "      <th>506672</th>\n",
       "      <td>4170221</td>\n",
       "      <td>34214060</td>\n",
       "      <td>59.000</td>\n",
       "      <td>W</td>\n",
       "      <td>1675</td>\n",
       "      <td>174.0</td>\n",
       "      <td>150.0</td>\n",
       "      <td>visa</td>\n",
       "      <td>226.0</td>\n",
       "      <td>debit</td>\n",
       "      <td>...</td>\n",
       "      <td>NaN</td>\n",
       "      <td>NaN</td>\n",
       "      <td>NaN</td>\n",
       "      <td>NaN</td>\n",
       "      <td>NaN</td>\n",
       "      <td>NaN</td>\n",
       "      <td>NaN</td>\n",
       "      <td>NaN</td>\n",
       "      <td>NaN</td>\n",
       "      <td>NaN</td>\n",
       "    </tr>\n",
       "    <tr>\n",
       "      <th>506673</th>\n",
       "      <td>4170222</td>\n",
       "      <td>34214073</td>\n",
       "      <td>19.500</td>\n",
       "      <td>W</td>\n",
       "      <td>5561</td>\n",
       "      <td>555.0</td>\n",
       "      <td>150.0</td>\n",
       "      <td>visa</td>\n",
       "      <td>226.0</td>\n",
       "      <td>debit</td>\n",
       "      <td>...</td>\n",
       "      <td>NaN</td>\n",
       "      <td>NaN</td>\n",
       "      <td>NaN</td>\n",
       "      <td>NaN</td>\n",
       "      <td>NaN</td>\n",
       "      <td>NaN</td>\n",
       "      <td>NaN</td>\n",
       "      <td>NaN</td>\n",
       "      <td>NaN</td>\n",
       "      <td>NaN</td>\n",
       "    </tr>\n",
       "    <tr>\n",
       "      <th>506674</th>\n",
       "      <td>4170223</td>\n",
       "      <td>34214101</td>\n",
       "      <td>31.355</td>\n",
       "      <td>C</td>\n",
       "      <td>16136</td>\n",
       "      <td>204.0</td>\n",
       "      <td>185.0</td>\n",
       "      <td>visa</td>\n",
       "      <td>138.0</td>\n",
       "      <td>debit</td>\n",
       "      <td>...</td>\n",
       "      <td>chrome 71.0 for android</td>\n",
       "      <td>NaN</td>\n",
       "      <td>NaN</td>\n",
       "      <td>NaN</td>\n",
       "      <td>F</td>\n",
       "      <td>F</td>\n",
       "      <td>T</td>\n",
       "      <td>F</td>\n",
       "      <td>mobile</td>\n",
       "      <td>ANE-LX3</td>\n",
       "    </tr>\n",
       "    <tr>\n",
       "      <th>506675</th>\n",
       "      <td>4170224</td>\n",
       "      <td>34214125</td>\n",
       "      <td>7.009</td>\n",
       "      <td>C</td>\n",
       "      <td>2650</td>\n",
       "      <td>142.0</td>\n",
       "      <td>185.0</td>\n",
       "      <td>mastercard</td>\n",
       "      <td>224.0</td>\n",
       "      <td>debit</td>\n",
       "      <td>...</td>\n",
       "      <td>mobile safari 12.0</td>\n",
       "      <td>NaN</td>\n",
       "      <td>NaN</td>\n",
       "      <td>NaN</td>\n",
       "      <td>F</td>\n",
       "      <td>F</td>\n",
       "      <td>F</td>\n",
       "      <td>F</td>\n",
       "      <td>mobile</td>\n",
       "      <td>NaN</td>\n",
       "    </tr>\n",
       "    <tr>\n",
       "      <th>506676</th>\n",
       "      <td>4170225</td>\n",
       "      <td>34214138</td>\n",
       "      <td>15.493</td>\n",
       "      <td>C</td>\n",
       "      <td>18250</td>\n",
       "      <td>545.0</td>\n",
       "      <td>185.0</td>\n",
       "      <td>visa</td>\n",
       "      <td>226.0</td>\n",
       "      <td>credit</td>\n",
       "      <td>...</td>\n",
       "      <td>chrome 71.0</td>\n",
       "      <td>NaN</td>\n",
       "      <td>NaN</td>\n",
       "      <td>NaN</td>\n",
       "      <td>F</td>\n",
       "      <td>F</td>\n",
       "      <td>T</td>\n",
       "      <td>F</td>\n",
       "      <td>desktop</td>\n",
       "      <td>Windows</td>\n",
       "    </tr>\n",
       "    <tr>\n",
       "      <th>506677</th>\n",
       "      <td>4170226</td>\n",
       "      <td>34214147</td>\n",
       "      <td>7.009</td>\n",
       "      <td>C</td>\n",
       "      <td>15885</td>\n",
       "      <td>545.0</td>\n",
       "      <td>185.0</td>\n",
       "      <td>visa</td>\n",
       "      <td>138.0</td>\n",
       "      <td>debit</td>\n",
       "      <td>...</td>\n",
       "      <td>chrome 71.0 for android</td>\n",
       "      <td>NaN</td>\n",
       "      <td>NaN</td>\n",
       "      <td>NaN</td>\n",
       "      <td>F</td>\n",
       "      <td>F</td>\n",
       "      <td>T</td>\n",
       "      <td>F</td>\n",
       "      <td>mobile</td>\n",
       "      <td>LG-M250</td>\n",
       "    </tr>\n",
       "    <tr>\n",
       "      <th>506678</th>\n",
       "      <td>4170227</td>\n",
       "      <td>34214153</td>\n",
       "      <td>25.950</td>\n",
       "      <td>W</td>\n",
       "      <td>7069</td>\n",
       "      <td>111.0</td>\n",
       "      <td>150.0</td>\n",
       "      <td>mastercard</td>\n",
       "      <td>166.0</td>\n",
       "      <td>debit</td>\n",
       "      <td>...</td>\n",
       "      <td>NaN</td>\n",
       "      <td>NaN</td>\n",
       "      <td>NaN</td>\n",
       "      <td>NaN</td>\n",
       "      <td>NaN</td>\n",
       "      <td>NaN</td>\n",
       "      <td>NaN</td>\n",
       "      <td>NaN</td>\n",
       "      <td>NaN</td>\n",
       "      <td>NaN</td>\n",
       "    </tr>\n",
       "    <tr>\n",
       "      <th>506679</th>\n",
       "      <td>4170228</td>\n",
       "      <td>34214214</td>\n",
       "      <td>82.383</td>\n",
       "      <td>C</td>\n",
       "      <td>2275</td>\n",
       "      <td>555.0</td>\n",
       "      <td>119.0</td>\n",
       "      <td>visa</td>\n",
       "      <td>137.0</td>\n",
       "      <td>credit</td>\n",
       "      <td>...</td>\n",
       "      <td>chrome 71.0 for android</td>\n",
       "      <td>NaN</td>\n",
       "      <td>NaN</td>\n",
       "      <td>NaN</td>\n",
       "      <td>F</td>\n",
       "      <td>F</td>\n",
       "      <td>T</td>\n",
       "      <td>F</td>\n",
       "      <td>mobile</td>\n",
       "      <td>Moto G (5) Plus</td>\n",
       "    </tr>\n",
       "    <tr>\n",
       "      <th>506680</th>\n",
       "      <td>4170229</td>\n",
       "      <td>34214216</td>\n",
       "      <td>56.131</td>\n",
       "      <td>C</td>\n",
       "      <td>5812</td>\n",
       "      <td>408.0</td>\n",
       "      <td>185.0</td>\n",
       "      <td>mastercard</td>\n",
       "      <td>224.0</td>\n",
       "      <td>debit</td>\n",
       "      <td>...</td>\n",
       "      <td>chrome 71.0</td>\n",
       "      <td>NaN</td>\n",
       "      <td>NaN</td>\n",
       "      <td>NaN</td>\n",
       "      <td>F</td>\n",
       "      <td>F</td>\n",
       "      <td>T</td>\n",
       "      <td>F</td>\n",
       "      <td>desktop</td>\n",
       "      <td>NaN</td>\n",
       "    </tr>\n",
       "    <tr>\n",
       "      <th>506681</th>\n",
       "      <td>4170230</td>\n",
       "      <td>34214253</td>\n",
       "      <td>10.452</td>\n",
       "      <td>C</td>\n",
       "      <td>5812</td>\n",
       "      <td>408.0</td>\n",
       "      <td>185.0</td>\n",
       "      <td>mastercard</td>\n",
       "      <td>224.0</td>\n",
       "      <td>debit</td>\n",
       "      <td>...</td>\n",
       "      <td>chrome 71.0 for android</td>\n",
       "      <td>NaN</td>\n",
       "      <td>NaN</td>\n",
       "      <td>NaN</td>\n",
       "      <td>F</td>\n",
       "      <td>F</td>\n",
       "      <td>T</td>\n",
       "      <td>F</td>\n",
       "      <td>mobile</td>\n",
       "      <td>SM-J700M</td>\n",
       "    </tr>\n",
       "    <tr>\n",
       "      <th>506682</th>\n",
       "      <td>4170231</td>\n",
       "      <td>34214261</td>\n",
       "      <td>68.500</td>\n",
       "      <td>W</td>\n",
       "      <td>7690</td>\n",
       "      <td>122.0</td>\n",
       "      <td>150.0</td>\n",
       "      <td>mastercard</td>\n",
       "      <td>166.0</td>\n",
       "      <td>debit</td>\n",
       "      <td>...</td>\n",
       "      <td>NaN</td>\n",
       "      <td>NaN</td>\n",
       "      <td>NaN</td>\n",
       "      <td>NaN</td>\n",
       "      <td>NaN</td>\n",
       "      <td>NaN</td>\n",
       "      <td>NaN</td>\n",
       "      <td>NaN</td>\n",
       "      <td>NaN</td>\n",
       "      <td>NaN</td>\n",
       "    </tr>\n",
       "    <tr>\n",
       "      <th>506683</th>\n",
       "      <td>4170232</td>\n",
       "      <td>34214269</td>\n",
       "      <td>67.950</td>\n",
       "      <td>W</td>\n",
       "      <td>12544</td>\n",
       "      <td>321.0</td>\n",
       "      <td>150.0</td>\n",
       "      <td>visa</td>\n",
       "      <td>226.0</td>\n",
       "      <td>debit</td>\n",
       "      <td>...</td>\n",
       "      <td>NaN</td>\n",
       "      <td>NaN</td>\n",
       "      <td>NaN</td>\n",
       "      <td>NaN</td>\n",
       "      <td>NaN</td>\n",
       "      <td>NaN</td>\n",
       "      <td>NaN</td>\n",
       "      <td>NaN</td>\n",
       "      <td>NaN</td>\n",
       "      <td>NaN</td>\n",
       "    </tr>\n",
       "    <tr>\n",
       "      <th>506684</th>\n",
       "      <td>4170233</td>\n",
       "      <td>34214271</td>\n",
       "      <td>13.403</td>\n",
       "      <td>C</td>\n",
       "      <td>3154</td>\n",
       "      <td>408.0</td>\n",
       "      <td>185.0</td>\n",
       "      <td>mastercard</td>\n",
       "      <td>224.0</td>\n",
       "      <td>debit</td>\n",
       "      <td>...</td>\n",
       "      <td>chrome 71.0 for android</td>\n",
       "      <td>NaN</td>\n",
       "      <td>NaN</td>\n",
       "      <td>NaN</td>\n",
       "      <td>F</td>\n",
       "      <td>F</td>\n",
       "      <td>T</td>\n",
       "      <td>F</td>\n",
       "      <td>mobile</td>\n",
       "      <td>SM-J320M</td>\n",
       "    </tr>\n",
       "    <tr>\n",
       "      <th>506685</th>\n",
       "      <td>4170234</td>\n",
       "      <td>34214277</td>\n",
       "      <td>50.000</td>\n",
       "      <td>H</td>\n",
       "      <td>9002</td>\n",
       "      <td>453.0</td>\n",
       "      <td>150.0</td>\n",
       "      <td>visa</td>\n",
       "      <td>226.0</td>\n",
       "      <td>debit</td>\n",
       "      <td>...</td>\n",
       "      <td>mobile safari 10.0</td>\n",
       "      <td>32.0</td>\n",
       "      <td>1334x750</td>\n",
       "      <td>match_status:2</td>\n",
       "      <td>T</td>\n",
       "      <td>F</td>\n",
       "      <td>F</td>\n",
       "      <td>T</td>\n",
       "      <td>mobile</td>\n",
       "      <td>iOS Device</td>\n",
       "    </tr>\n",
       "    <tr>\n",
       "      <th>506686</th>\n",
       "      <td>4170235</td>\n",
       "      <td>34214279</td>\n",
       "      <td>94.679</td>\n",
       "      <td>C</td>\n",
       "      <td>13832</td>\n",
       "      <td>375.0</td>\n",
       "      <td>185.0</td>\n",
       "      <td>mastercard</td>\n",
       "      <td>224.0</td>\n",
       "      <td>debit</td>\n",
       "      <td>...</td>\n",
       "      <td>NaN</td>\n",
       "      <td>NaN</td>\n",
       "      <td>NaN</td>\n",
       "      <td>NaN</td>\n",
       "      <td>NaN</td>\n",
       "      <td>NaN</td>\n",
       "      <td>NaN</td>\n",
       "      <td>NaN</td>\n",
       "      <td>NaN</td>\n",
       "      <td>NaN</td>\n",
       "    </tr>\n",
       "    <tr>\n",
       "      <th>506687</th>\n",
       "      <td>4170236</td>\n",
       "      <td>34214287</td>\n",
       "      <td>12.173</td>\n",
       "      <td>C</td>\n",
       "      <td>3154</td>\n",
       "      <td>408.0</td>\n",
       "      <td>185.0</td>\n",
       "      <td>mastercard</td>\n",
       "      <td>224.0</td>\n",
       "      <td>debit</td>\n",
       "      <td>...</td>\n",
       "      <td>chrome 43.0 for android</td>\n",
       "      <td>NaN</td>\n",
       "      <td>NaN</td>\n",
       "      <td>NaN</td>\n",
       "      <td>F</td>\n",
       "      <td>F</td>\n",
       "      <td>T</td>\n",
       "      <td>F</td>\n",
       "      <td>mobile</td>\n",
       "      <td>ALE-L23 Build/HuaweiALE-L23</td>\n",
       "    </tr>\n",
       "    <tr>\n",
       "      <th>506688</th>\n",
       "      <td>4170237</td>\n",
       "      <td>34214326</td>\n",
       "      <td>49.000</td>\n",
       "      <td>W</td>\n",
       "      <td>16661</td>\n",
       "      <td>490.0</td>\n",
       "      <td>150.0</td>\n",
       "      <td>visa</td>\n",
       "      <td>226.0</td>\n",
       "      <td>debit</td>\n",
       "      <td>...</td>\n",
       "      <td>NaN</td>\n",
       "      <td>NaN</td>\n",
       "      <td>NaN</td>\n",
       "      <td>NaN</td>\n",
       "      <td>NaN</td>\n",
       "      <td>NaN</td>\n",
       "      <td>NaN</td>\n",
       "      <td>NaN</td>\n",
       "      <td>NaN</td>\n",
       "      <td>NaN</td>\n",
       "    </tr>\n",
       "    <tr>\n",
       "      <th>506689</th>\n",
       "      <td>4170238</td>\n",
       "      <td>34214337</td>\n",
       "      <td>202.000</td>\n",
       "      <td>W</td>\n",
       "      <td>16621</td>\n",
       "      <td>516.0</td>\n",
       "      <td>150.0</td>\n",
       "      <td>mastercard</td>\n",
       "      <td>224.0</td>\n",
       "      <td>debit</td>\n",
       "      <td>...</td>\n",
       "      <td>NaN</td>\n",
       "      <td>NaN</td>\n",
       "      <td>NaN</td>\n",
       "      <td>NaN</td>\n",
       "      <td>NaN</td>\n",
       "      <td>NaN</td>\n",
       "      <td>NaN</td>\n",
       "      <td>NaN</td>\n",
       "      <td>NaN</td>\n",
       "      <td>NaN</td>\n",
       "    </tr>\n",
       "    <tr>\n",
       "      <th>506690</th>\n",
       "      <td>4170239</td>\n",
       "      <td>34214345</td>\n",
       "      <td>24.346</td>\n",
       "      <td>C</td>\n",
       "      <td>5713</td>\n",
       "      <td>168.0</td>\n",
       "      <td>144.0</td>\n",
       "      <td>visa</td>\n",
       "      <td>147.0</td>\n",
       "      <td>credit</td>\n",
       "      <td>...</td>\n",
       "      <td>samsung browser 8.2</td>\n",
       "      <td>NaN</td>\n",
       "      <td>NaN</td>\n",
       "      <td>NaN</td>\n",
       "      <td>F</td>\n",
       "      <td>F</td>\n",
       "      <td>T</td>\n",
       "      <td>F</td>\n",
       "      <td>mobile</td>\n",
       "      <td>SAMSUNG</td>\n",
       "    </tr>\n",
       "  </tbody>\n",
       "</table>\n",
       "<p>506691 rows × 94 columns</p>\n",
       "</div>"
      ],
      "text/plain": [
       "        TransactionID  TransactionDT  TransactionAmt ProductCD  card1  card2  \\\n",
       "0             3663549       18403224          31.950         W  10409  111.0   \n",
       "1             3663550       18403263          49.000         W   4272  111.0   \n",
       "2             3663551       18403310         171.000         W   4476  574.0   \n",
       "3             3663552       18403310         284.950         W  10989  360.0   \n",
       "4             3663553       18403317          67.950         W  18018  452.0   \n",
       "5             3663554       18403323          57.950         W  12839  321.0   \n",
       "6             3663555       18403350          87.000         W  16560  476.0   \n",
       "7             3663556       18403387         390.000         W  15066  170.0   \n",
       "8             3663557       18403405         103.950         W   2803  100.0   \n",
       "9             3663558       18403416         117.000         W  12544  321.0   \n",
       "10            3663559       18403474         261.950         W  16982  127.0   \n",
       "11            3663560       18403504         107.950         W   9500  321.0   \n",
       "12            3663561       18403508         335.000         W  18366  111.0   \n",
       "13            3663562       18403543         107.950         W   6900  225.0   \n",
       "14            3663563       18403553         117.000         W  12686  215.0   \n",
       "15            3663564       18403582          57.950         W   7826  481.0   \n",
       "16            3663565       18403598          57.950         W   8489  230.0   \n",
       "17            3663566       18403632          29.000         W  12544  321.0   \n",
       "18            3663567       18403632          49.000         W  16560  476.0   \n",
       "19            3663568       18403678          77.000         W  12839  321.0   \n",
       "20            3663569       18403686         445.000         W   7919  194.0   \n",
       "21            3663570       18403735         209.950         W  15066  170.0   \n",
       "22            3663571       18403755         554.000         W  16338  555.0   \n",
       "23            3663572       18403788         117.000         W   6530  206.0   \n",
       "24            3663573       18403829         131.000         W  10752  555.0   \n",
       "25            3663574       18403844          77.000         W  17188  321.0   \n",
       "26            3663575       18403848         209.950         W  15066  170.0   \n",
       "27            3663576       18403854         141.000         W  11839  490.0   \n",
       "28            3663577       18403857         117.000         W   6530  206.0   \n",
       "29            3663578       18403863          34.000         W  14991  555.0   \n",
       "...               ...            ...             ...       ...    ...    ...   \n",
       "506661        4170210       34213723          49.000         W  12386  555.0   \n",
       "506662        4170211       34213751         280.000         W   2440  111.0   \n",
       "506663        4170212       34213763         107.950         W  12866  303.0   \n",
       "506664        4170213       34213767         186.000         W   5137  555.0   \n",
       "506665        4170214       34213780          20.903         C   4461  375.0   \n",
       "506666        4170215       34213798          73.000         W   4702  111.0   \n",
       "506667        4170216       34213812          77.000         W   7690  122.0   \n",
       "506668        4170217       34213826          67.950         W  17399  111.0   \n",
       "506669        4170218       34213834          77.000         W   1675  174.0   \n",
       "506670        4170219       34213938         142.019         C   4461  375.0   \n",
       "506671        4170220       34213992         107.950         W  10023  111.0   \n",
       "506672        4170221       34214060          59.000         W   1675  174.0   \n",
       "506673        4170222       34214073          19.500         W   5561  555.0   \n",
       "506674        4170223       34214101          31.355         C  16136  204.0   \n",
       "506675        4170224       34214125           7.009         C   2650  142.0   \n",
       "506676        4170225       34214138          15.493         C  18250  545.0   \n",
       "506677        4170226       34214147           7.009         C  15885  545.0   \n",
       "506678        4170227       34214153          25.950         W   7069  111.0   \n",
       "506679        4170228       34214214          82.383         C   2275  555.0   \n",
       "506680        4170229       34214216          56.131         C   5812  408.0   \n",
       "506681        4170230       34214253          10.452         C   5812  408.0   \n",
       "506682        4170231       34214261          68.500         W   7690  122.0   \n",
       "506683        4170232       34214269          67.950         W  12544  321.0   \n",
       "506684        4170233       34214271          13.403         C   3154  408.0   \n",
       "506685        4170234       34214277          50.000         H   9002  453.0   \n",
       "506686        4170235       34214279          94.679         C  13832  375.0   \n",
       "506687        4170236       34214287          12.173         C   3154  408.0   \n",
       "506688        4170237       34214326          49.000         W  16661  490.0   \n",
       "506689        4170238       34214337         202.000         W  16621  516.0   \n",
       "506690        4170239       34214345          24.346         C   5713  168.0   \n",
       "\n",
       "        card3       card4  card5   card6  ...                    id_31  id_32  \\\n",
       "0       150.0        visa  226.0   debit  ...                      NaN    NaN   \n",
       "1       150.0        visa  226.0   debit  ...                      NaN    NaN   \n",
       "2       150.0        visa  226.0   debit  ...                      NaN    NaN   \n",
       "3       150.0        visa  166.0   debit  ...                      NaN    NaN   \n",
       "4       150.0  mastercard  117.0   debit  ...                      NaN    NaN   \n",
       "5       150.0        visa  226.0   debit  ...                      NaN    NaN   \n",
       "6       150.0        visa  126.0   debit  ...                      NaN    NaN   \n",
       "7       150.0  mastercard  102.0  credit  ...                      NaN    NaN   \n",
       "8       150.0        visa  226.0   debit  ...                      NaN    NaN   \n",
       "9       150.0        visa  226.0   debit  ...                      NaN    NaN   \n",
       "10      150.0  mastercard  224.0   debit  ...                      NaN    NaN   \n",
       "11      150.0        visa  226.0   debit  ...                      NaN    NaN   \n",
       "12      150.0        visa  226.0   debit  ...                      NaN    NaN   \n",
       "13      150.0  mastercard  117.0   debit  ...                      NaN    NaN   \n",
       "14      150.0        visa  226.0   debit  ...                      NaN    NaN   \n",
       "15      150.0  mastercard  224.0   debit  ...                      NaN    NaN   \n",
       "16      150.0  mastercard  224.0   debit  ...                      NaN    NaN   \n",
       "17      150.0        visa  226.0   debit  ...                      NaN    NaN   \n",
       "18      150.0        visa  126.0   debit  ...                      NaN    NaN   \n",
       "19      150.0        visa  226.0   debit  ...                      NaN    NaN   \n",
       "20      150.0  mastercard  166.0   debit  ...                      NaN    NaN   \n",
       "21      150.0  mastercard  102.0  credit  ...                      NaN    NaN   \n",
       "22      150.0  mastercard  117.0   debit  ...                      NaN    NaN   \n",
       "23      150.0  mastercard  126.0   debit  ...                      NaN    NaN   \n",
       "24      150.0        visa  226.0   debit  ...                      NaN    NaN   \n",
       "25      150.0        visa  226.0   debit  ...                      NaN    NaN   \n",
       "26      150.0  mastercard  102.0  credit  ...                      NaN    NaN   \n",
       "27      150.0        visa  226.0   debit  ...                      NaN    NaN   \n",
       "28      150.0  mastercard  126.0   debit  ...                      NaN    NaN   \n",
       "29      150.0  mastercard  117.0   debit  ...                      NaN    NaN   \n",
       "...       ...         ...    ...     ...  ...                      ...    ...   \n",
       "506661  150.0        visa  226.0   debit  ...                      NaN    NaN   \n",
       "506662  150.0        visa  226.0   debit  ...                      NaN    NaN   \n",
       "506663  150.0        visa  226.0   debit  ...                      NaN    NaN   \n",
       "506664  150.0        visa  226.0   debit  ...                      NaN    NaN   \n",
       "506665  185.0  mastercard  224.0   debit  ...              chrome 71.0    NaN   \n",
       "506666  150.0  mastercard  224.0   debit  ...                      NaN    NaN   \n",
       "506667  150.0  mastercard  166.0   debit  ...                      NaN    NaN   \n",
       "506668  150.0  mastercard  224.0   debit  ...                      NaN    NaN   \n",
       "506669  150.0        visa  226.0   debit  ...                      NaN    NaN   \n",
       "506670  185.0  mastercard  224.0   debit  ...              chrome 71.0    NaN   \n",
       "506671  150.0        visa  226.0   debit  ...                      NaN    NaN   \n",
       "506672  150.0        visa  226.0   debit  ...                      NaN    NaN   \n",
       "506673  150.0        visa  226.0   debit  ...                      NaN    NaN   \n",
       "506674  185.0        visa  138.0   debit  ...  chrome 71.0 for android    NaN   \n",
       "506675  185.0  mastercard  224.0   debit  ...       mobile safari 12.0    NaN   \n",
       "506676  185.0        visa  226.0  credit  ...              chrome 71.0    NaN   \n",
       "506677  185.0        visa  138.0   debit  ...  chrome 71.0 for android    NaN   \n",
       "506678  150.0  mastercard  166.0   debit  ...                      NaN    NaN   \n",
       "506679  119.0        visa  137.0  credit  ...  chrome 71.0 for android    NaN   \n",
       "506680  185.0  mastercard  224.0   debit  ...              chrome 71.0    NaN   \n",
       "506681  185.0  mastercard  224.0   debit  ...  chrome 71.0 for android    NaN   \n",
       "506682  150.0  mastercard  166.0   debit  ...                      NaN    NaN   \n",
       "506683  150.0        visa  226.0   debit  ...                      NaN    NaN   \n",
       "506684  185.0  mastercard  224.0   debit  ...  chrome 71.0 for android    NaN   \n",
       "506685  150.0        visa  226.0   debit  ...       mobile safari 10.0   32.0   \n",
       "506686  185.0  mastercard  224.0   debit  ...                      NaN    NaN   \n",
       "506687  185.0  mastercard  224.0   debit  ...  chrome 43.0 for android    NaN   \n",
       "506688  150.0        visa  226.0   debit  ...                      NaN    NaN   \n",
       "506689  150.0  mastercard  224.0   debit  ...                      NaN    NaN   \n",
       "506690  144.0        visa  147.0  credit  ...      samsung browser 8.2    NaN   \n",
       "\n",
       "           id_33           id_34 id_35 id_36  id_37  id_38  DeviceType  \\\n",
       "0            NaN             NaN   NaN   NaN    NaN    NaN         NaN   \n",
       "1            NaN             NaN   NaN   NaN    NaN    NaN         NaN   \n",
       "2            NaN             NaN   NaN   NaN    NaN    NaN         NaN   \n",
       "3            NaN             NaN   NaN   NaN    NaN    NaN         NaN   \n",
       "4            NaN             NaN   NaN   NaN    NaN    NaN         NaN   \n",
       "5            NaN             NaN   NaN   NaN    NaN    NaN         NaN   \n",
       "6            NaN             NaN   NaN   NaN    NaN    NaN         NaN   \n",
       "7            NaN             NaN   NaN   NaN    NaN    NaN         NaN   \n",
       "8            NaN             NaN   NaN   NaN    NaN    NaN         NaN   \n",
       "9            NaN             NaN   NaN   NaN    NaN    NaN         NaN   \n",
       "10           NaN             NaN   NaN   NaN    NaN    NaN         NaN   \n",
       "11           NaN             NaN   NaN   NaN    NaN    NaN         NaN   \n",
       "12           NaN             NaN   NaN   NaN    NaN    NaN         NaN   \n",
       "13           NaN             NaN   NaN   NaN    NaN    NaN         NaN   \n",
       "14           NaN             NaN   NaN   NaN    NaN    NaN         NaN   \n",
       "15           NaN             NaN   NaN   NaN    NaN    NaN         NaN   \n",
       "16           NaN             NaN   NaN   NaN    NaN    NaN         NaN   \n",
       "17           NaN             NaN   NaN   NaN    NaN    NaN         NaN   \n",
       "18           NaN             NaN   NaN   NaN    NaN    NaN         NaN   \n",
       "19           NaN             NaN   NaN   NaN    NaN    NaN         NaN   \n",
       "20           NaN             NaN   NaN   NaN    NaN    NaN         NaN   \n",
       "21           NaN             NaN   NaN   NaN    NaN    NaN         NaN   \n",
       "22           NaN             NaN   NaN   NaN    NaN    NaN         NaN   \n",
       "23           NaN             NaN   NaN   NaN    NaN    NaN         NaN   \n",
       "24           NaN             NaN   NaN   NaN    NaN    NaN         NaN   \n",
       "25           NaN             NaN   NaN   NaN    NaN    NaN         NaN   \n",
       "26           NaN             NaN   NaN   NaN    NaN    NaN         NaN   \n",
       "27           NaN             NaN   NaN   NaN    NaN    NaN         NaN   \n",
       "28           NaN             NaN   NaN   NaN    NaN    NaN         NaN   \n",
       "29           NaN             NaN   NaN   NaN    NaN    NaN         NaN   \n",
       "...          ...             ...   ...   ...    ...    ...         ...   \n",
       "506661       NaN             NaN   NaN   NaN    NaN    NaN         NaN   \n",
       "506662       NaN             NaN   NaN   NaN    NaN    NaN         NaN   \n",
       "506663       NaN             NaN   NaN   NaN    NaN    NaN         NaN   \n",
       "506664       NaN             NaN   NaN   NaN    NaN    NaN         NaN   \n",
       "506665       NaN             NaN     F     F      T      F     desktop   \n",
       "506666       NaN             NaN   NaN   NaN    NaN    NaN         NaN   \n",
       "506667       NaN             NaN   NaN   NaN    NaN    NaN         NaN   \n",
       "506668       NaN             NaN   NaN   NaN    NaN    NaN         NaN   \n",
       "506669       NaN             NaN   NaN   NaN    NaN    NaN         NaN   \n",
       "506670       NaN             NaN     F     F      T      F     desktop   \n",
       "506671       NaN             NaN   NaN   NaN    NaN    NaN         NaN   \n",
       "506672       NaN             NaN   NaN   NaN    NaN    NaN         NaN   \n",
       "506673       NaN             NaN   NaN   NaN    NaN    NaN         NaN   \n",
       "506674       NaN             NaN     F     F      T      F      mobile   \n",
       "506675       NaN             NaN     F     F      F      F      mobile   \n",
       "506676       NaN             NaN     F     F      T      F     desktop   \n",
       "506677       NaN             NaN     F     F      T      F      mobile   \n",
       "506678       NaN             NaN   NaN   NaN    NaN    NaN         NaN   \n",
       "506679       NaN             NaN     F     F      T      F      mobile   \n",
       "506680       NaN             NaN     F     F      T      F     desktop   \n",
       "506681       NaN             NaN     F     F      T      F      mobile   \n",
       "506682       NaN             NaN   NaN   NaN    NaN    NaN         NaN   \n",
       "506683       NaN             NaN   NaN   NaN    NaN    NaN         NaN   \n",
       "506684       NaN             NaN     F     F      T      F      mobile   \n",
       "506685  1334x750  match_status:2     T     F      F      T      mobile   \n",
       "506686       NaN             NaN   NaN   NaN    NaN    NaN         NaN   \n",
       "506687       NaN             NaN     F     F      T      F      mobile   \n",
       "506688       NaN             NaN   NaN   NaN    NaN    NaN         NaN   \n",
       "506689       NaN             NaN   NaN   NaN    NaN    NaN         NaN   \n",
       "506690       NaN             NaN     F     F      T      F      mobile   \n",
       "\n",
       "                         DeviceInfo  \n",
       "0                               NaN  \n",
       "1                               NaN  \n",
       "2                               NaN  \n",
       "3                               NaN  \n",
       "4                               NaN  \n",
       "5                               NaN  \n",
       "6                               NaN  \n",
       "7                               NaN  \n",
       "8                               NaN  \n",
       "9                               NaN  \n",
       "10                              NaN  \n",
       "11                              NaN  \n",
       "12                              NaN  \n",
       "13                              NaN  \n",
       "14                              NaN  \n",
       "15                              NaN  \n",
       "16                              NaN  \n",
       "17                              NaN  \n",
       "18                              NaN  \n",
       "19                              NaN  \n",
       "20                              NaN  \n",
       "21                              NaN  \n",
       "22                              NaN  \n",
       "23                              NaN  \n",
       "24                              NaN  \n",
       "25                              NaN  \n",
       "26                              NaN  \n",
       "27                              NaN  \n",
       "28                              NaN  \n",
       "29                              NaN  \n",
       "...                             ...  \n",
       "506661                          NaN  \n",
       "506662                          NaN  \n",
       "506663                          NaN  \n",
       "506664                          NaN  \n",
       "506665                      Windows  \n",
       "506666                          NaN  \n",
       "506667                          NaN  \n",
       "506668                          NaN  \n",
       "506669                          NaN  \n",
       "506670                      Windows  \n",
       "506671                          NaN  \n",
       "506672                          NaN  \n",
       "506673                          NaN  \n",
       "506674                      ANE-LX3  \n",
       "506675                          NaN  \n",
       "506676                      Windows  \n",
       "506677                      LG-M250  \n",
       "506678                          NaN  \n",
       "506679              Moto G (5) Plus  \n",
       "506680                          NaN  \n",
       "506681                     SM-J700M  \n",
       "506682                          NaN  \n",
       "506683                          NaN  \n",
       "506684                     SM-J320M  \n",
       "506685                   iOS Device  \n",
       "506686                          NaN  \n",
       "506687  ALE-L23 Build/HuaweiALE-L23  \n",
       "506688                          NaN  \n",
       "506689                          NaN  \n",
       "506690                      SAMSUNG  \n",
       "\n",
       "[506691 rows x 94 columns]"
      ]
     },
     "execution_count": 4,
     "metadata": {},
     "output_type": "execute_result"
    }
   ],
   "source": [
    "test"
   ]
  },
  {
   "cell_type": "code",
   "execution_count": 5,
   "metadata": {
    "ExecuteTime": {
     "end_time": "2019-08-15T03:31:03.997995Z",
     "start_time": "2019-08-15T03:31:03.900258Z"
    }
   },
   "outputs": [],
   "source": [
    "del train_transaction_df, train_id_df, test_transaction_df, test_id_df"
   ]
  },
  {
   "cell_type": "code",
   "execution_count": 6,
   "metadata": {
    "ExecuteTime": {
     "end_time": "2019-08-15T03:31:04.011958Z",
     "start_time": "2019-08-15T03:31:03.998993Z"
    }
   },
   "outputs": [
    {
     "name": "stdout",
     "output_type": "stream",
     "text": [
      "Training data has 590540 rows and 95 columns\n",
      "Training data has 506691 rows and 94 columns\n"
     ]
    }
   ],
   "source": [
    "print(f'Training data has {train.shape[0]} rows and {train.shape[1]} columns')\n",
    "print(f'Training data has {test.shape[0]} rows and {test.shape[1]} columns')"
   ]
  },
  {
   "cell_type": "code",
   "execution_count": 7,
   "metadata": {
    "ExecuteTime": {
     "end_time": "2019-08-15T03:31:04.043874Z",
     "start_time": "2019-08-15T03:31:04.013953Z"
    }
   },
   "outputs": [
    {
     "data": {
      "text/html": [
       "<div>\n",
       "<style scoped>\n",
       "    .dataframe tbody tr th:only-of-type {\n",
       "        vertical-align: middle;\n",
       "    }\n",
       "\n",
       "    .dataframe tbody tr th {\n",
       "        vertical-align: top;\n",
       "    }\n",
       "\n",
       "    .dataframe thead th {\n",
       "        text-align: right;\n",
       "    }\n",
       "</style>\n",
       "<table border=\"1\" class=\"dataframe\">\n",
       "  <thead>\n",
       "    <tr style=\"text-align: right;\">\n",
       "      <th></th>\n",
       "      <th>TransactionID</th>\n",
       "      <th>isFraud</th>\n",
       "      <th>TransactionDT</th>\n",
       "      <th>TransactionAmt</th>\n",
       "      <th>ProductCD</th>\n",
       "      <th>card1</th>\n",
       "      <th>card2</th>\n",
       "      <th>card3</th>\n",
       "      <th>card4</th>\n",
       "      <th>card5</th>\n",
       "      <th>...</th>\n",
       "      <th>id_31</th>\n",
       "      <th>id_32</th>\n",
       "      <th>id_33</th>\n",
       "      <th>id_34</th>\n",
       "      <th>id_35</th>\n",
       "      <th>id_36</th>\n",
       "      <th>id_37</th>\n",
       "      <th>id_38</th>\n",
       "      <th>DeviceType</th>\n",
       "      <th>DeviceInfo</th>\n",
       "    </tr>\n",
       "  </thead>\n",
       "  <tbody>\n",
       "    <tr>\n",
       "      <th>0</th>\n",
       "      <td>2987000</td>\n",
       "      <td>0</td>\n",
       "      <td>86400</td>\n",
       "      <td>68.5</td>\n",
       "      <td>W</td>\n",
       "      <td>13926</td>\n",
       "      <td>NaN</td>\n",
       "      <td>150.0</td>\n",
       "      <td>discover</td>\n",
       "      <td>142.0</td>\n",
       "      <td>...</td>\n",
       "      <td>NaN</td>\n",
       "      <td>NaN</td>\n",
       "      <td>NaN</td>\n",
       "      <td>NaN</td>\n",
       "      <td>NaN</td>\n",
       "      <td>NaN</td>\n",
       "      <td>NaN</td>\n",
       "      <td>NaN</td>\n",
       "      <td>NaN</td>\n",
       "      <td>NaN</td>\n",
       "    </tr>\n",
       "    <tr>\n",
       "      <th>1</th>\n",
       "      <td>2987001</td>\n",
       "      <td>0</td>\n",
       "      <td>86401</td>\n",
       "      <td>29.0</td>\n",
       "      <td>W</td>\n",
       "      <td>2755</td>\n",
       "      <td>404.0</td>\n",
       "      <td>150.0</td>\n",
       "      <td>mastercard</td>\n",
       "      <td>102.0</td>\n",
       "      <td>...</td>\n",
       "      <td>NaN</td>\n",
       "      <td>NaN</td>\n",
       "      <td>NaN</td>\n",
       "      <td>NaN</td>\n",
       "      <td>NaN</td>\n",
       "      <td>NaN</td>\n",
       "      <td>NaN</td>\n",
       "      <td>NaN</td>\n",
       "      <td>NaN</td>\n",
       "      <td>NaN</td>\n",
       "    </tr>\n",
       "    <tr>\n",
       "      <th>2</th>\n",
       "      <td>2987002</td>\n",
       "      <td>0</td>\n",
       "      <td>86469</td>\n",
       "      <td>59.0</td>\n",
       "      <td>W</td>\n",
       "      <td>4663</td>\n",
       "      <td>490.0</td>\n",
       "      <td>150.0</td>\n",
       "      <td>visa</td>\n",
       "      <td>166.0</td>\n",
       "      <td>...</td>\n",
       "      <td>NaN</td>\n",
       "      <td>NaN</td>\n",
       "      <td>NaN</td>\n",
       "      <td>NaN</td>\n",
       "      <td>NaN</td>\n",
       "      <td>NaN</td>\n",
       "      <td>NaN</td>\n",
       "      <td>NaN</td>\n",
       "      <td>NaN</td>\n",
       "      <td>NaN</td>\n",
       "    </tr>\n",
       "    <tr>\n",
       "      <th>3</th>\n",
       "      <td>2987003</td>\n",
       "      <td>0</td>\n",
       "      <td>86499</td>\n",
       "      <td>50.0</td>\n",
       "      <td>W</td>\n",
       "      <td>18132</td>\n",
       "      <td>567.0</td>\n",
       "      <td>150.0</td>\n",
       "      <td>mastercard</td>\n",
       "      <td>117.0</td>\n",
       "      <td>...</td>\n",
       "      <td>NaN</td>\n",
       "      <td>NaN</td>\n",
       "      <td>NaN</td>\n",
       "      <td>NaN</td>\n",
       "      <td>NaN</td>\n",
       "      <td>NaN</td>\n",
       "      <td>NaN</td>\n",
       "      <td>NaN</td>\n",
       "      <td>NaN</td>\n",
       "      <td>NaN</td>\n",
       "    </tr>\n",
       "    <tr>\n",
       "      <th>4</th>\n",
       "      <td>2987004</td>\n",
       "      <td>0</td>\n",
       "      <td>86506</td>\n",
       "      <td>50.0</td>\n",
       "      <td>H</td>\n",
       "      <td>4497</td>\n",
       "      <td>514.0</td>\n",
       "      <td>150.0</td>\n",
       "      <td>mastercard</td>\n",
       "      <td>102.0</td>\n",
       "      <td>...</td>\n",
       "      <td>samsung browser 6.2</td>\n",
       "      <td>32.0</td>\n",
       "      <td>2220x1080</td>\n",
       "      <td>match_status:2</td>\n",
       "      <td>T</td>\n",
       "      <td>F</td>\n",
       "      <td>T</td>\n",
       "      <td>T</td>\n",
       "      <td>mobile</td>\n",
       "      <td>SAMSUNG SM-G892A Build/NRD90M</td>\n",
       "    </tr>\n",
       "  </tbody>\n",
       "</table>\n",
       "<p>5 rows × 95 columns</p>\n",
       "</div>"
      ],
      "text/plain": [
       "   TransactionID  isFraud  TransactionDT  TransactionAmt ProductCD  card1  \\\n",
       "0        2987000        0          86400            68.5         W  13926   \n",
       "1        2987001        0          86401            29.0         W   2755   \n",
       "2        2987002        0          86469            59.0         W   4663   \n",
       "3        2987003        0          86499            50.0         W  18132   \n",
       "4        2987004        0          86506            50.0         H   4497   \n",
       "\n",
       "   card2  card3       card4  card5  ...                id_31  id_32  \\\n",
       "0    NaN  150.0    discover  142.0  ...                  NaN    NaN   \n",
       "1  404.0  150.0  mastercard  102.0  ...                  NaN    NaN   \n",
       "2  490.0  150.0        visa  166.0  ...                  NaN    NaN   \n",
       "3  567.0  150.0  mastercard  117.0  ...                  NaN    NaN   \n",
       "4  514.0  150.0  mastercard  102.0  ...  samsung browser 6.2   32.0   \n",
       "\n",
       "       id_33           id_34  id_35 id_36 id_37  id_38  DeviceType  \\\n",
       "0        NaN             NaN    NaN   NaN   NaN    NaN         NaN   \n",
       "1        NaN             NaN    NaN   NaN   NaN    NaN         NaN   \n",
       "2        NaN             NaN    NaN   NaN   NaN    NaN         NaN   \n",
       "3        NaN             NaN    NaN   NaN   NaN    NaN         NaN   \n",
       "4  2220x1080  match_status:2      T     F     T      T      mobile   \n",
       "\n",
       "                      DeviceInfo  \n",
       "0                            NaN  \n",
       "1                            NaN  \n",
       "2                            NaN  \n",
       "3                            NaN  \n",
       "4  SAMSUNG SM-G892A Build/NRD90M  \n",
       "\n",
       "[5 rows x 95 columns]"
      ]
     },
     "execution_count": 7,
     "metadata": {},
     "output_type": "execute_result"
    }
   ],
   "source": [
    "train.head()"
   ]
  },
  {
   "cell_type": "code",
   "execution_count": 8,
   "metadata": {
    "ExecuteTime": {
     "end_time": "2019-08-15T03:31:04.075789Z",
     "start_time": "2019-08-15T03:31:04.045869Z"
    }
   },
   "outputs": [
    {
     "data": {
      "text/html": [
       "<div>\n",
       "<style scoped>\n",
       "    .dataframe tbody tr th:only-of-type {\n",
       "        vertical-align: middle;\n",
       "    }\n",
       "\n",
       "    .dataframe tbody tr th {\n",
       "        vertical-align: top;\n",
       "    }\n",
       "\n",
       "    .dataframe thead th {\n",
       "        text-align: right;\n",
       "    }\n",
       "</style>\n",
       "<table border=\"1\" class=\"dataframe\">\n",
       "  <thead>\n",
       "    <tr style=\"text-align: right;\">\n",
       "      <th></th>\n",
       "      <th>TransactionID</th>\n",
       "      <th>TransactionDT</th>\n",
       "      <th>TransactionAmt</th>\n",
       "      <th>ProductCD</th>\n",
       "      <th>card1</th>\n",
       "      <th>card2</th>\n",
       "      <th>card3</th>\n",
       "      <th>card4</th>\n",
       "      <th>card5</th>\n",
       "      <th>card6</th>\n",
       "      <th>...</th>\n",
       "      <th>id_31</th>\n",
       "      <th>id_32</th>\n",
       "      <th>id_33</th>\n",
       "      <th>id_34</th>\n",
       "      <th>id_35</th>\n",
       "      <th>id_36</th>\n",
       "      <th>id_37</th>\n",
       "      <th>id_38</th>\n",
       "      <th>DeviceType</th>\n",
       "      <th>DeviceInfo</th>\n",
       "    </tr>\n",
       "  </thead>\n",
       "  <tbody>\n",
       "    <tr>\n",
       "      <th>0</th>\n",
       "      <td>3663549</td>\n",
       "      <td>18403224</td>\n",
       "      <td>31.95</td>\n",
       "      <td>W</td>\n",
       "      <td>10409</td>\n",
       "      <td>111.0</td>\n",
       "      <td>150.0</td>\n",
       "      <td>visa</td>\n",
       "      <td>226.0</td>\n",
       "      <td>debit</td>\n",
       "      <td>...</td>\n",
       "      <td>NaN</td>\n",
       "      <td>NaN</td>\n",
       "      <td>NaN</td>\n",
       "      <td>NaN</td>\n",
       "      <td>NaN</td>\n",
       "      <td>NaN</td>\n",
       "      <td>NaN</td>\n",
       "      <td>NaN</td>\n",
       "      <td>NaN</td>\n",
       "      <td>NaN</td>\n",
       "    </tr>\n",
       "    <tr>\n",
       "      <th>1</th>\n",
       "      <td>3663550</td>\n",
       "      <td>18403263</td>\n",
       "      <td>49.00</td>\n",
       "      <td>W</td>\n",
       "      <td>4272</td>\n",
       "      <td>111.0</td>\n",
       "      <td>150.0</td>\n",
       "      <td>visa</td>\n",
       "      <td>226.0</td>\n",
       "      <td>debit</td>\n",
       "      <td>...</td>\n",
       "      <td>NaN</td>\n",
       "      <td>NaN</td>\n",
       "      <td>NaN</td>\n",
       "      <td>NaN</td>\n",
       "      <td>NaN</td>\n",
       "      <td>NaN</td>\n",
       "      <td>NaN</td>\n",
       "      <td>NaN</td>\n",
       "      <td>NaN</td>\n",
       "      <td>NaN</td>\n",
       "    </tr>\n",
       "    <tr>\n",
       "      <th>2</th>\n",
       "      <td>3663551</td>\n",
       "      <td>18403310</td>\n",
       "      <td>171.00</td>\n",
       "      <td>W</td>\n",
       "      <td>4476</td>\n",
       "      <td>574.0</td>\n",
       "      <td>150.0</td>\n",
       "      <td>visa</td>\n",
       "      <td>226.0</td>\n",
       "      <td>debit</td>\n",
       "      <td>...</td>\n",
       "      <td>NaN</td>\n",
       "      <td>NaN</td>\n",
       "      <td>NaN</td>\n",
       "      <td>NaN</td>\n",
       "      <td>NaN</td>\n",
       "      <td>NaN</td>\n",
       "      <td>NaN</td>\n",
       "      <td>NaN</td>\n",
       "      <td>NaN</td>\n",
       "      <td>NaN</td>\n",
       "    </tr>\n",
       "    <tr>\n",
       "      <th>3</th>\n",
       "      <td>3663552</td>\n",
       "      <td>18403310</td>\n",
       "      <td>284.95</td>\n",
       "      <td>W</td>\n",
       "      <td>10989</td>\n",
       "      <td>360.0</td>\n",
       "      <td>150.0</td>\n",
       "      <td>visa</td>\n",
       "      <td>166.0</td>\n",
       "      <td>debit</td>\n",
       "      <td>...</td>\n",
       "      <td>NaN</td>\n",
       "      <td>NaN</td>\n",
       "      <td>NaN</td>\n",
       "      <td>NaN</td>\n",
       "      <td>NaN</td>\n",
       "      <td>NaN</td>\n",
       "      <td>NaN</td>\n",
       "      <td>NaN</td>\n",
       "      <td>NaN</td>\n",
       "      <td>NaN</td>\n",
       "    </tr>\n",
       "    <tr>\n",
       "      <th>4</th>\n",
       "      <td>3663553</td>\n",
       "      <td>18403317</td>\n",
       "      <td>67.95</td>\n",
       "      <td>W</td>\n",
       "      <td>18018</td>\n",
       "      <td>452.0</td>\n",
       "      <td>150.0</td>\n",
       "      <td>mastercard</td>\n",
       "      <td>117.0</td>\n",
       "      <td>debit</td>\n",
       "      <td>...</td>\n",
       "      <td>NaN</td>\n",
       "      <td>NaN</td>\n",
       "      <td>NaN</td>\n",
       "      <td>NaN</td>\n",
       "      <td>NaN</td>\n",
       "      <td>NaN</td>\n",
       "      <td>NaN</td>\n",
       "      <td>NaN</td>\n",
       "      <td>NaN</td>\n",
       "      <td>NaN</td>\n",
       "    </tr>\n",
       "  </tbody>\n",
       "</table>\n",
       "<p>5 rows × 94 columns</p>\n",
       "</div>"
      ],
      "text/plain": [
       "   TransactionID  TransactionDT  TransactionAmt ProductCD  card1  card2  \\\n",
       "0        3663549       18403224           31.95         W  10409  111.0   \n",
       "1        3663550       18403263           49.00         W   4272  111.0   \n",
       "2        3663551       18403310          171.00         W   4476  574.0   \n",
       "3        3663552       18403310          284.95         W  10989  360.0   \n",
       "4        3663553       18403317           67.95         W  18018  452.0   \n",
       "\n",
       "   card3       card4  card5  card6  ...  id_31  id_32  id_33  id_34 id_35  \\\n",
       "0  150.0        visa  226.0  debit  ...    NaN    NaN    NaN    NaN   NaN   \n",
       "1  150.0        visa  226.0  debit  ...    NaN    NaN    NaN    NaN   NaN   \n",
       "2  150.0        visa  226.0  debit  ...    NaN    NaN    NaN    NaN   NaN   \n",
       "3  150.0        visa  166.0  debit  ...    NaN    NaN    NaN    NaN   NaN   \n",
       "4  150.0  mastercard  117.0  debit  ...    NaN    NaN    NaN    NaN   NaN   \n",
       "\n",
       "  id_36  id_37  id_38  DeviceType  DeviceInfo  \n",
       "0   NaN    NaN    NaN         NaN         NaN  \n",
       "1   NaN    NaN    NaN         NaN         NaN  \n",
       "2   NaN    NaN    NaN         NaN         NaN  \n",
       "3   NaN    NaN    NaN         NaN         NaN  \n",
       "4   NaN    NaN    NaN         NaN         NaN  \n",
       "\n",
       "[5 rows x 94 columns]"
      ]
     },
     "execution_count": 8,
     "metadata": {},
     "output_type": "execute_result"
    }
   ],
   "source": [
    "test.head()"
   ]
  },
  {
   "cell_type": "code",
   "execution_count": null,
   "metadata": {},
   "outputs": [],
   "source": []
  },
  {
   "cell_type": "markdown",
   "metadata": {},
   "source": [
    "## EDA\n",
    "Visually exploring the dataset it important for familiarizing ourselves with it and trying to better understand the data before complex analysis is undertaken.\n",
    "\n",
    "### Data\n",
    "First, lets get an overview of the features and their data types.\n",
    "\n",
    "<b>(Note: due to the large output the following script produces, the output can be found in the eda_output folder in under feature_overview.txt)</b>"
   ]
  },
  {
   "cell_type": "code",
   "execution_count": 9,
   "metadata": {
    "ExecuteTime": {
     "end_time": "2019-08-15T03:31:06.774651Z",
     "start_time": "2019-08-15T03:31:04.076786Z"
    },
    "scrolled": false
   },
   "outputs": [],
   "source": [
    "eda_output_path = 'eda_output/'\n",
    "feat_over_file = 'feature_overview.txt'\n",
    "\n",
    "if os.path.exists(f'{eda_output_path}{feat_over_file}'):\n",
    "    os.remove(f'{eda_output_path}{feat_over_file}')\n",
    "\n",
    "with open(f'{eda_output_path}{feat_over_file}', 'a') as overview_file:\n",
    "    for col, values in train.iteritems():\n",
    "        overview_file.write(f'{col}: {values.nunique()} ({values.dtypes})\\n')\n",
    "        overview_file.write(str(values.unique()[:100]))\n",
    "        overview_file.write(\n",
    "            '\\n\\n###########################################################\\n\\n')"
   ]
  },
  {
   "cell_type": "markdown",
   "metadata": {},
   "source": [
    "When we examine the feature_overview.txt file, we notice that there are many continuous features and some categorical features."
   ]
  },
  {
   "cell_type": "code",
   "execution_count": null,
   "metadata": {
    "hide_input": false
   },
   "outputs": [],
   "source": []
  },
  {
   "cell_type": "markdown",
   "metadata": {},
   "source": [
    "### Missing Values"
   ]
  },
  {
   "cell_type": "code",
   "execution_count": 10,
   "metadata": {
    "ExecuteTime": {
     "end_time": "2019-08-15T03:31:08.903030Z",
     "start_time": "2019-08-15T03:31:06.775610Z"
    }
   },
   "outputs": [],
   "source": [
    "train_contains_na = train.isna().any().sum()\n",
    "test_contains_na = test.isna().any().sum()"
   ]
  },
  {
   "cell_type": "code",
   "execution_count": 11,
   "metadata": {
    "ExecuteTime": {
     "end_time": "2019-08-15T03:31:08.908965Z",
     "start_time": "2019-08-15T03:31:08.903975Z"
    }
   },
   "outputs": [
    {
     "name": "stdout",
     "output_type": "stream",
     "text": [
      "75 out of 95 columns contain missing values in the train data\n",
      "89 out of 94 columns contain missing values in the test data\n"
     ]
    }
   ],
   "source": [
    "print(f'{train_contains_na} out of {len(train.columns)} columns contain missing values in the train data')\n",
    "print(f'{test_contains_na} out of {len(test.columns)} columns contain missing values in the test data')"
   ]
  },
  {
   "cell_type": "code",
   "execution_count": 12,
   "metadata": {
    "ExecuteTime": {
     "end_time": "2019-08-15T03:31:10.237014Z",
     "start_time": "2019-08-15T03:31:08.910958Z"
    }
   },
   "outputs": [],
   "source": [
    "# Calculating percentage of missing values in each column\n",
    "train_missing_values = train.isna().mean().round(2)\n",
    "test_missing_values = test.isna().mean().round(2)\n",
    "\n",
    "# Keeping only columns that contain more than 50% missing values\n",
    "train_missing_values_5 = train_missing_values[train_missing_values.values > 0.05]\n",
    "test_missing_values_5 = test_missing_values[test_missing_values.values > 0.05]"
   ]
  },
  {
   "cell_type": "code",
   "execution_count": 13,
   "metadata": {
    "ExecuteTime": {
     "end_time": "2019-08-15T03:31:10.243000Z",
     "start_time": "2019-08-15T03:31:10.239009Z"
    },
    "scrolled": false
   },
   "outputs": [
    {
     "name": "stdout",
     "output_type": "stream",
     "text": [
      "69 out of 95 columns in the train data contain more than 50% missing values\n",
      "67 out of 94 columns in the test data contain more than 50% missing values\n"
     ]
    }
   ],
   "source": [
    "print(f'{len(train_missing_values_5)} out of {len(train.columns)} columns in the train data contain more than 50% missing values')\n",
    "print(f'{len(test_missing_values_5)} out of {len(test.columns)} columns in the test data contain more than 50% missing values')"
   ]
  },
  {
   "cell_type": "markdown",
   "metadata": {},
   "source": [
    "As we can see there are a large number of missing values in the data."
   ]
  },
  {
   "cell_type": "code",
   "execution_count": 14,
   "metadata": {
    "ExecuteTime": {
     "end_time": "2019-08-15T03:31:10.283907Z",
     "start_time": "2019-08-15T03:31:10.244996Z"
    }
   },
   "outputs": [],
   "source": [
    "# Keeping only columns that contain more than 50% missing values\n",
    "train_missing_values_70 = train_missing_values[train_missing_values.values > 0.75]\n",
    "test_missing_values_70 = test_missing_values[test_missing_values.values > 0.75]"
   ]
  },
  {
   "cell_type": "code",
   "execution_count": 15,
   "metadata": {
    "ExecuteTime": {
     "end_time": "2019-08-15T03:31:10.296872Z",
     "start_time": "2019-08-15T03:31:10.285902Z"
    },
    "scrolled": false
   },
   "outputs": [
    {
     "name": "stdout",
     "output_type": "stream",
     "text": [
      "49 out of 95 columns in the train data contain more than 75% missing values\n",
      "27 out of 94 columns in the test data contain more than 75% missing values\n"
     ]
    }
   ],
   "source": [
    "print(f'{len(train_missing_values_70)} out of {len(train.columns)} columns in the train data contain more than 75% missing values')\n",
    "print(f'{len(test_missing_values_70)} out of {len(test.columns)} columns in the test data contain more than 75% missing values')"
   ]
  },
  {
   "cell_type": "markdown",
   "metadata": {},
   "source": [
    "### Target Feature: isFraud"
   ]
  },
  {
   "cell_type": "code",
   "execution_count": 16,
   "metadata": {
    "ExecuteTime": {
     "end_time": "2019-08-15T03:31:10.309839Z",
     "start_time": "2019-08-15T03:31:10.298867Z"
    }
   },
   "outputs": [],
   "source": [
    "isFraud = 'isFraud'"
   ]
  },
  {
   "cell_type": "code",
   "execution_count": 17,
   "metadata": {
    "ExecuteTime": {
     "end_time": "2019-08-15T03:31:10.326792Z",
     "start_time": "2019-08-15T03:31:10.311833Z"
    }
   },
   "outputs": [],
   "source": [
    "# Plot Function\n",
    "def PlotFunction(df, feature, title, xLable, yLabel, vertical=False, percentLabels=False, size=[10, 7]):\n",
    "    plt.style.use('ggplot')\n",
    "\n",
    "    f = plt.figure(figsize=size)\n",
    "    ax = f.add_subplot(1, 1, 1)\n",
    "    ax.title.set_text(title)\n",
    "    ax.set_ylabel(yLabel)\n",
    "    ax.set_xlabel(xLable)\n",
    "\n",
    "    plot = ax.bar([str(i) for i in df[feature].value_counts(dropna=False, normalize=True).index],\n",
    "                  df[feature].value_counts(dropna=False, normalize=True), 0.40,\n",
    "                  color=['cornflowerblue', 'darkorange', 'green', 'brown', 'black'])\n",
    "    if vertical:\n",
    "        plt.xticks(rotation=90)\n",
    "\n",
    "    # Add counts above the two bar graphs\n",
    "    if percentLabels:\n",
    "        percentages = (df[feature].value_counts(\n",
    "            dropna=False, normalize=True)*100).round(3)\n",
    "        i = 0\n",
    "        for rect in plot:\n",
    "            height = rect.get_height()\n",
    "            plt.text(rect.get_x() + rect.get_width()/2.0, height,\n",
    "                     f'{percentages[i]}%', ha='center', va='bottom')\n",
    "            i += 1"
   ]
  },
  {
   "cell_type": "code",
   "execution_count": 18,
   "metadata": {
    "ExecuteTime": {
     "end_time": "2019-08-15T03:31:10.345742Z",
     "start_time": "2019-08-15T03:31:10.328787Z"
    }
   },
   "outputs": [
    {
     "name": "stdout",
     "output_type": "stream",
     "text": [
      "These are the two types of values for fraud: [0 1]\n"
     ]
    }
   ],
   "source": [
    "print(f'These are the two types of values for fraud: {train[isFraud].unique()}')"
   ]
  },
  {
   "cell_type": "code",
   "execution_count": 19,
   "metadata": {
    "ExecuteTime": {
     "end_time": "2019-08-15T03:31:10.361700Z",
     "start_time": "2019-08-15T03:31:10.347736Z"
    }
   },
   "outputs": [
    {
     "name": "stdout",
     "output_type": "stream",
     "text": [
      "isFraud contains 0 missing values\n"
     ]
    }
   ],
   "source": [
    "print(f'isFraud contains {train[isFraud].isna().any() * 1} missing values')"
   ]
  },
  {
   "cell_type": "code",
   "execution_count": 20,
   "metadata": {
    "ExecuteTime": {
     "end_time": "2019-08-15T03:31:10.579117Z",
     "start_time": "2019-08-15T03:31:10.363695Z"
    }
   },
   "outputs": [
    {
     "data": {
      "image/png": "[encoded data removed]",
      "text/plain": [
       "<Figure size 720x504 with 1 Axes>"
      ]
     },
     "metadata": {},
     "output_type": "display_data"
    }
   ],
   "source": [
    "### 'Fraud' Feature\n",
    "PlotFunction(train, isFraud, 'isFaud percentages', 'Not fraud | Fraud', 'Number of occurances', percentLabels=True)    "
   ]
  },
  {
   "cell_type": "markdown",
   "metadata": {},
   "source": [
    "A visual examination of the graph reveals an imbalance in the number of fraudulent transactions.\n",
    "\n",
    "To correct this imbalanace, the use of a sampling method such as SMOTE or oversampling will be needed."
   ]
  },
  {
   "cell_type": "markdown",
   "metadata": {},
   "source": [
    "### Exploring the Features"
   ]
  },
  {
   "cell_type": "code",
   "execution_count": 21,
   "metadata": {
    "ExecuteTime": {
     "end_time": "2019-08-15T03:31:10.946322Z",
     "start_time": "2019-08-15T03:31:10.581113Z"
    }
   },
   "outputs": [
    {
     "data": {
      "image/png": "[encoded data removed]",
      "text/plain": [
       "<Figure size 864x360 with 1 Axes>"
      ]
     },
     "metadata": {},
     "output_type": "display_data"
    }
   ],
   "source": [
    "# 'TransactionAmt' feature\n",
    "plt.figure(figsize=[12, 5])\n",
    "plt.title('Transaction Amounts')\n",
    "plt.xlabel('Amount')\n",
    "plt.ylabel('Number of transactions')\n",
    "_ = plt.hist(train['TransactionAmt'], bins=100)"
   ]
  },
  {
   "cell_type": "markdown",
   "metadata": {},
   "source": [
    "There is a clear right skew to this data. I will try a log transformation to reduce this effect."
   ]
  },
  {
   "cell_type": "code",
   "execution_count": 22,
   "metadata": {
    "ExecuteTime": {
     "end_time": "2019-08-15T03:31:11.323641Z",
     "start_time": "2019-08-15T03:31:10.950273Z"
    }
   },
   "outputs": [
    {
     "data": {
      "image/png": "[encoded data removed]",
      "text/plain": [
       "<Figure size 864x360 with 1 Axes>"
      ]
     },
     "metadata": {},
     "output_type": "display_data"
    }
   ],
   "source": [
    "# 'TransactionAmt' feature\n",
    "plt.figure(figsize=[12, 5])\n",
    "plt.title('Transaction Amounts')\n",
    "plt.xlabel('Amount')\n",
    "plt.ylabel('Number of transactions')\n",
    "_ = plt.hist(train['TransactionAmt'].apply(np.log), bins=100)"
   ]
  },
  {
   "cell_type": "markdown",
   "metadata": {},
   "source": [
    "'TransactionAmt' now shows a normal distribution, we can separate which transactions were fraudulent and compare whether they are larger."
   ]
  },
  {
   "cell_type": "code",
   "execution_count": 23,
   "metadata": {
    "ExecuteTime": {
     "end_time": "2019-08-15T03:31:11.937865Z",
     "start_time": "2019-08-15T03:31:11.325604Z"
    }
   },
   "outputs": [
    {
     "data": {
      "image/png": "[encoded data removed]",
      "text/plain": [
       "<Figure size 1080x216 with 2 Axes>"
      ]
     },
     "metadata": {},
     "output_type": "display_data"
    }
   ],
   "source": [
    "# 'TransactionAmt' feature\n",
    "fig, (ax1, ax2) = plt.subplots(1, 2, figsize=(15, 3))\n",
    "\n",
    "# Not Fraud\n",
    "ax1.title.set_text('Non-Fraudulent Transaction Amounts')\n",
    "ax1.set_xlabel('LgAmount')\n",
    "ax1.set_ylabel('Number of transactions')\n",
    "_ = ax1.hist(train['TransactionAmt']\n",
    "             [train['isFraud'] == 0].apply(np.log), bins=100)\n",
    "\n",
    "# Fraud\n",
    "ax2.title.set_text('Fraudulent Transaction Amounts')\n",
    "ax2.set_xlabel('LgAmount')\n",
    "ax2.set_ylabel('Number of transactions')\n",
    "_ = ax2.hist(train['TransactionAmt']\n",
    "             [train['isFraud'] == 1].apply(np.log), bins=100)"
   ]
  },
  {
   "cell_type": "markdown",
   "metadata": {},
   "source": [
    "From this, we can see that the fraudulent transaction amounts seem to be higher on average."
   ]
  },
  {
   "cell_type": "code",
   "execution_count": 24,
   "metadata": {
    "ExecuteTime": {
     "end_time": "2019-08-15T03:31:12.208563Z",
     "start_time": "2019-08-15T03:31:11.939826Z"
    }
   },
   "outputs": [
    {
     "data": {
      "image/png": "[encoded data removed]",
      "text/plain": [
       "<Figure size 720x504 with 1 Axes>"
      ]
     },
     "metadata": {},
     "output_type": "display_data"
    }
   ],
   "source": [
    "### 'ProductCD' feature\n",
    "PlotFunction(train, 'ProductCD', 'Product codes for each transaction', 'Product Codes', 'Count', percentLabels=True)"
   ]
  },
  {
   "cell_type": "code",
   "execution_count": 25,
   "metadata": {
    "ExecuteTime": {
     "end_time": "2019-08-15T03:31:12.385927Z",
     "start_time": "2019-08-15T03:31:12.209596Z"
    }
   },
   "outputs": [
    {
     "data": {
      "image/png": "[encoded data removed]",
      "text/plain": [
       "<Figure size 1080x360 with 1 Axes>"
      ]
     },
     "metadata": {},
     "output_type": "display_data"
    }
   ],
   "source": [
    "f = plt.figure(figsize=[15, 5])\n",
    "ax = f.add_subplot(1, 1, 1)\n",
    "ax.title.set_text('Percentage of products from fraudulent transactions')\n",
    "ax.set_ylabel('Percent')\n",
    "ax.set_xlabel('Products')\n",
    "\n",
    "plot = ax.bar([str(i) for i in train['ProductCD'][train['isFraud'] == 1].value_counts(dropna=False, normalize=True).index],\n",
    "              train['ProductCD'][train['isFraud'] == 1].value_counts(\n",
    "                  dropna=False, normalize=True), 0.40,\n",
    "              color=['cornflowerblue', 'darkorange', 'green', 'brown', 'black'])\n",
    "\n",
    "# Add counts above the two bar graphs\n",
    "percentages = (train['ProductCD'][train['isFraud'] == 1].value_counts(\n",
    "    dropna=False, normalize=True)*100).round(3)\n",
    "i = 0\n",
    "for rect in plot:\n",
    "    height = rect.get_height()\n",
    "    plt.text(rect.get_x() + rect.get_width()/2.0, height,\n",
    "             f'{percentages[i]}%', ha='center', va='bottom')\n",
    "    i += 1"
   ]
  },
  {
   "cell_type": "markdown",
   "metadata": {},
   "source": [
    "There are two main products involved with fraululent transactions, 'W' and 'C'."
   ]
  },
  {
   "cell_type": "code",
   "execution_count": 26,
   "metadata": {
    "ExecuteTime": {
     "end_time": "2019-08-15T03:31:12.432803Z",
     "start_time": "2019-08-15T03:31:12.387923Z"
    }
   },
   "outputs": [
    {
     "name": "stdout",
     "output_type": "stream",
     "text": [
      "Number of unique values: 13553\n"
     ]
    },
    {
     "data": {
      "text/plain": [
       "7919     0.025285\n",
       "9500     0.023981\n",
       "15885    0.017545\n",
       "17188    0.017516\n",
       "15066    0.013454\n",
       "Name: card1, dtype: float64"
      ]
     },
     "execution_count": 26,
     "metadata": {},
     "output_type": "execute_result"
    }
   ],
   "source": [
    "# 'card1' feature\n",
    "print('Number of unique values:', len(train['card1'].unique()))\n",
    "train['card1'].value_counts(dropna=False, normalize=True).head()"
   ]
  },
  {
   "cell_type": "code",
   "execution_count": 27,
   "metadata": {
    "ExecuteTime": {
     "end_time": "2019-08-15T03:31:12.467710Z",
     "start_time": "2019-08-15T03:31:12.434798Z"
    }
   },
   "outputs": [
    {
     "name": "stdout",
     "output_type": "stream",
     "text": [
      "Number of unique values: 501\n"
     ]
    },
    {
     "data": {
      "text/plain": [
       "321.0    0.082865\n",
       "111.0    0.076525\n",
       "555.0    0.071113\n",
       "490.0    0.064593\n",
       "583.0    0.036920\n",
       "Name: card2, dtype: float64"
      ]
     },
     "execution_count": 27,
     "metadata": {},
     "output_type": "execute_result"
    }
   ],
   "source": [
    "### 'card2' feature\n",
    "print('Number of unique values:', len(train['card2'].unique()))\n",
    "train['card2'].value_counts(dropna=False, normalize=True).head()"
   ]
  },
  {
   "cell_type": "markdown",
   "metadata": {},
   "source": [
    "'card1' & 'card2 have a large number of unique values with no clear dominating catagory."
   ]
  },
  {
   "cell_type": "code",
   "execution_count": 28,
   "metadata": {
    "ExecuteTime": {
     "end_time": "2019-08-15T03:31:12.496631Z",
     "start_time": "2019-08-15T03:31:12.469705Z"
    }
   },
   "outputs": [
    {
     "name": "stdout",
     "output_type": "stream",
     "text": [
      "Number of unique values: 115\n"
     ]
    },
    {
     "data": {
      "text/plain": [
       "150.0    0.882729\n",
       "185.0    0.095414\n",
       "106.0    0.002660\n",
       "NaN      0.002650\n",
       "146.0    0.002120\n",
       "Name: card3, dtype: float64"
      ]
     },
     "execution_count": 28,
     "metadata": {},
     "output_type": "execute_result"
    }
   ],
   "source": [
    "### 'card3' feature\n",
    "print('Number of unique values:', len(train['card3'].unique()))\n",
    "train['card3'].value_counts(dropna=False, normalize=True).head()"
   ]
  },
  {
   "cell_type": "markdown",
   "metadata": {},
   "source": [
    "'card3' has 88% of its values being 150."
   ]
  },
  {
   "cell_type": "code",
   "execution_count": 29,
   "metadata": {
    "ExecuteTime": {
     "end_time": "2019-08-15T03:31:12.520569Z",
     "start_time": "2019-08-15T03:31:12.497629Z"
    }
   },
   "outputs": [
    {
     "name": "stdout",
     "output_type": "stream",
     "text": [
      "Number of unique values: 120\n"
     ]
    },
    {
     "data": {
      "text/plain": [
       "226.0    0.502161\n",
       "224.0    0.138031\n",
       "166.0    0.096759\n",
       "102.0    0.049285\n",
       "117.0    0.043928\n",
       "Name: card5, dtype: float64"
      ]
     },
     "execution_count": 29,
     "metadata": {},
     "output_type": "execute_result"
    }
   ],
   "source": [
    "### 'card5' feature\n",
    "print('Number of unique values:', len(train['card5'].unique()))\n",
    "train['card5'].value_counts(dropna=False, normalize=True).head()"
   ]
  },
  {
   "cell_type": "markdown",
   "metadata": {},
   "source": [
    "'card5' has 50% of its values being 226."
   ]
  },
  {
   "cell_type": "code",
   "execution_count": 30,
   "metadata": {
    "ExecuteTime": {
     "end_time": "2019-08-15T03:31:12.990347Z",
     "start_time": "2019-08-15T03:31:12.522564Z"
    },
    "scrolled": false
   },
   "outputs": [
    {
     "name": "stdout",
     "output_type": "stream",
     "text": [
      "Number of unique values: 5\n"
     ]
    },
    {
     "data": {
      "text/plain": [
       "visa                0.651551\n",
       "mastercard          0.320414\n",
       "american express    0.014102\n",
       "discover            0.011263\n",
       "NaN                 0.002670\n",
       "Name: card4, dtype: float64"
      ]
     },
     "execution_count": 30,
     "metadata": {},
     "output_type": "execute_result"
    },
    {
     "data": {
      "image/png": "[encoded data removed]",
      "text/plain": [
       "<Figure size 720x504 with 1 Axes>"
      ]
     },
     "metadata": {},
     "output_type": "display_data"
    }
   ],
   "source": [
    "### 'card4' feature\n",
    "PlotFunction(train, 'card4', 'Number of card types', 'Card types', 'Number of card occurrences', percentLabels=True)\n",
    "\n",
    "print('Number of unique values:', len(train['card4'].unique()))\n",
    "train['card4'].value_counts(dropna=False, normalize=True).head(10)"
   ]
  },
  {
   "cell_type": "markdown",
   "metadata": {},
   "source": [
    "'visa' cards are have the highest use in this dataset at 65%."
   ]
  },
  {
   "cell_type": "code",
   "execution_count": 31,
   "metadata": {
    "ExecuteTime": {
     "end_time": "2019-08-15T03:31:13.384299Z",
     "start_time": "2019-08-15T03:31:12.991310Z"
    }
   },
   "outputs": [
    {
     "name": "stdout",
     "output_type": "stream",
     "text": [
      "Number of unique values: 5\n"
     ]
    },
    {
     "data": {
      "text/plain": [
       "debit              0.744976\n",
       "credit             0.252288\n",
       "NaN                0.002660\n",
       "debit or credit    0.000051\n",
       "charge card        0.000025\n",
       "Name: card6, dtype: float64"
      ]
     },
     "execution_count": 31,
     "metadata": {},
     "output_type": "execute_result"
    },
    {
     "data": {
      "image/png": "[encoded data removed]",
      "text/plain": [
       "<Figure size 720x504 with 1 Axes>"
      ]
     },
     "metadata": {},
     "output_type": "display_data"
    }
   ],
   "source": [
    "### 'card6' feature\n",
    "PlotFunction(train, 'card6', 'Number of account types', 'Account types', 'Number of account type occurrences', percentLabels=True)\n",
    "\n",
    "print('Number of unique values:', len(train['card6'].unique()))\n",
    "train['card6'].value_counts(dropna=False, normalize=True).head(10)"
   ]
  },
  {
   "cell_type": "markdown",
   "metadata": {},
   "source": [
    "'debit' account types have the highest use in this dataset at 75%."
   ]
  },
  {
   "cell_type": "code",
   "execution_count": 32,
   "metadata": {
    "ExecuteTime": {
     "end_time": "2019-08-15T03:31:13.416174Z",
     "start_time": "2019-08-15T03:31:13.385257Z"
    }
   },
   "outputs": [
    {
     "name": "stdout",
     "output_type": "stream",
     "text": [
      "Number of unique values: 333\n"
     ]
    },
    {
     "data": {
      "text/plain": [
       "NaN      0.111264\n",
       "299.0    0.078462\n",
       "325.0    0.072393\n",
       "204.0    0.071155\n",
       "264.0    0.067514\n",
       "330.0    0.044513\n",
       "315.0    0.039079\n",
       "441.0    0.035268\n",
       "272.0    0.034106\n",
       "123.0    0.027272\n",
       "Name: billing zipcode, dtype: float64"
      ]
     },
     "execution_count": 32,
     "metadata": {},
     "output_type": "execute_result"
    }
   ],
   "source": [
    "### 'billing zipcode' feature\n",
    "print('Number of unique values:', len(train['billing zipcode'].unique()))\n",
    "train['billing zipcode'].value_counts(dropna=False, normalize=True).head(10)"
   ]
  },
  {
   "cell_type": "code",
   "execution_count": 33,
   "metadata": {
    "ExecuteTime": {
     "end_time": "2019-08-15T03:31:13.448088Z",
     "start_time": "2019-08-15T03:31:13.419169Z"
    }
   },
   "outputs": [
    {
     "name": "stdout",
     "output_type": "stream",
     "text": [
      "Number of unique values: 75\n"
     ]
    },
    {
     "data": {
      "text/plain": [
       "87.0    0.881365\n",
       "NaN     0.111264\n",
       "60.0    0.005222\n",
       "96.0    0.001080\n",
       "32.0    0.000154\n",
       "Name: country codes, dtype: float64"
      ]
     },
     "execution_count": 33,
     "metadata": {},
     "output_type": "execute_result"
    }
   ],
   "source": [
    "### 'country codes' feature\n",
    "print('Number of unique values:', len(train['country codes'].unique()))\n",
    "train['country codes'].value_counts(dropna=False, normalize=True).head()"
   ]
  },
  {
   "cell_type": "markdown",
   "metadata": {},
   "source": [
    "It seems that 88% of transactions have come from <a href='https://en.wikipedia.org/wiki/List_of_UIC_country_codes'>France</a>. 11% of transactions that do not have a country code, however, it is unlikely that all of these transactions belong to the one country."
   ]
  },
  {
   "cell_type": "code",
   "execution_count": 34,
   "metadata": {
    "ExecuteTime": {
     "end_time": "2019-08-15T03:31:14.634959Z",
     "start_time": "2019-08-15T03:31:13.449085Z"
    }
   },
   "outputs": [
    {
     "name": "stdout",
     "output_type": "stream",
     "text": [
      "Number of unique values: 60\n"
     ]
    },
    {
     "data": {
      "text/plain": [
       "gmail.com        0.386688\n",
       "yahoo.com        0.170918\n",
       "NaN              0.159949\n",
       "hotmail.com      0.076625\n",
       "anonymous.com    0.062651\n",
       "Name: Purchaser_emaildom, dtype: float64"
      ]
     },
     "execution_count": 34,
     "metadata": {},
     "output_type": "execute_result"
    },
    {
     "data": {
      "image/png": "[encoded data removed]",
      "text/plain": [
       "<Figure size 720x504 with 1 Axes>"
      ]
     },
     "metadata": {},
     "output_type": "display_data"
    }
   ],
   "source": [
    "### 'Purchaser Email' feature\n",
    "PlotFunction(train, 'Purchaser_emaildom', 'Number of Purchaser email types', 'Email types',\n",
    "             'Number of email type occurrences', vertical=True, percentLabels=False)\n",
    "\n",
    "print('Number of unique values:', len(train['Purchaser_emaildom'].unique()))\n",
    "train['Purchaser_emaildom'].value_counts(dropna=False, normalize=True).head()"
   ]
  },
  {
   "cell_type": "markdown",
   "metadata": {},
   "source": [
    "'gmail.com' accounts for 38% of the emails tied with purchaser transactions."
   ]
  },
  {
   "cell_type": "code",
   "execution_count": 35,
   "metadata": {
    "ExecuteTime": {
     "end_time": "2019-08-15T03:31:15.785569Z",
     "start_time": "2019-08-15T03:31:14.636913Z"
    }
   },
   "outputs": [
    {
     "name": "stdout",
     "output_type": "stream",
     "text": [
      "Number of unique values: 60\n"
     ]
    },
    {
     "data": {
      "text/plain": [
       "NaN              0.767516\n",
       "gmail.com        0.096771\n",
       "hotmail.com      0.046583\n",
       "anonymous.com    0.034763\n",
       "yahoo.com        0.020053\n",
       "Name: Retailer_email.dom, dtype: float64"
      ]
     },
     "execution_count": 35,
     "metadata": {},
     "output_type": "execute_result"
    },
    {
     "data": {
      "image/png": "[encoded data removed]",
      "text/plain": [
       "<Figure size 720x504 with 1 Axes>"
      ]
     },
     "metadata": {},
     "output_type": "display_data"
    }
   ],
   "source": [
    "# 'Purchaser Email' feature\n",
    "PlotFunction(train, 'Retailer_email.dom', 'Number of Purchaser email types', 'Email types',\n",
    "             'Number of email type occurrences', vertical=True, percentLabels=False)\n",
    "\n",
    "print('Number of unique values:', len(train['Purchaser_emaildom'].unique()))\n",
    "train['Retailer_email.dom'].value_counts(dropna=False, normalize=True).head()"
   ]
  },
  {
   "cell_type": "markdown",
   "metadata": {},
   "source": [
    "'gmail.com' accounts for 77% of the emails tied with retailer transactions."
   ]
  },
  {
   "cell_type": "code",
   "execution_count": 36,
   "metadata": {
    "ExecuteTime": {
     "end_time": "2019-08-15T03:31:15.791555Z",
     "start_time": "2019-08-15T03:31:15.787565Z"
    }
   },
   "outputs": [],
   "source": [
    "feature_names = ['C1','C2','C3','C4','C5','C6','C7','C8','C9','C10','C11','C12','C13','C14']"
   ]
  },
  {
   "cell_type": "code",
   "execution_count": null,
   "metadata": {},
   "outputs": [],
   "source": []
  },
  {
   "cell_type": "code",
   "execution_count": 37,
   "metadata": {
    "ExecuteTime": {
     "end_time": "2019-08-15T03:31:15.831110Z",
     "start_time": "2019-08-15T03:31:15.792852Z"
    }
   },
   "outputs": [],
   "source": [
    "feature_names = ['D1','D2','D3','D4','D5','D6','D7','D8','D9','D10','D11','D12','D13','D14','D15']"
   ]
  },
  {
   "cell_type": "code",
   "execution_count": null,
   "metadata": {},
   "outputs": [],
   "source": []
  },
  {
   "cell_type": "code",
   "execution_count": null,
   "metadata": {},
   "outputs": [],
   "source": []
  },
  {
   "cell_type": "code",
   "execution_count": 38,
   "metadata": {
    "ExecuteTime": {
     "end_time": "2019-08-15T03:31:17.462330Z",
     "start_time": "2019-08-15T03:31:15.832105Z"
    },
    "scrolled": false
   },
   "outputs": [
    {
     "data": {
      "image/png": "[encoded data removed]",
      "text/plain": [
       "<Figure size 1224x720 with 9 Axes>"
      ]
     },
     "metadata": {},
     "output_type": "display_data"
    }
   ],
   "source": [
    "feature_names = ['M1', 'M2', 'M4', 'M3', 'M5', 'M6', 'M7', 'M8', 'M9']\n",
    "\n",
    "fig, axes = plt.subplots(3, 3, figsize=(17, 10))\n",
    "\n",
    "j = 0\n",
    "for row in axes:\n",
    "    for ax in row:\n",
    "        ax.set_title(feature_names[j])\n",
    "        ax.set_ylabel('Count')\n",
    "        ax.set_xlabel(feature_names[j])\n",
    "\n",
    "        plot = ax.bar([str(i) for i in train[feature_names[j]].value_counts(dropna=False, normalize=True).index],\n",
    "                      train[feature_names[j]].value_counts(\n",
    "                          dropna=False, normalize=True), 0.40,\n",
    "                      color=['cornflowerblue', 'darkorange', 'green', 'brown', 'black'])\n",
    "        j += 1\n",
    "\n",
    "plt.tight_layout()"
   ]
  },
  {
   "cell_type": "code",
   "execution_count": null,
   "metadata": {},
   "outputs": [],
   "source": []
  },
  {
   "cell_type": "code",
   "execution_count": 39,
   "metadata": {
    "ExecuteTime": {
     "end_time": "2019-08-15T03:31:17.467351Z",
     "start_time": "2019-08-15T03:31:17.464326Z"
    }
   },
   "outputs": [],
   "source": [
    "feature_names = ['id_12', 'id_15', 'id_16', 'id_28', 'id_29', 'id_30', 'id_31', 'id_32', 'id_33', 'id_34', 'id_35', 'id_36', 'id_37', 'id_38']\n"
   ]
  },
  {
   "cell_type": "markdown",
   "metadata": {},
   "source": [
    "### Handling Missing Values\n",
    "Due to the large number of NaN values our dataframes contain, it is critical that they are replaced with a meaningful placeholder."
   ]
  },
  {
   "cell_type": "code",
   "execution_count": 40,
   "metadata": {
    "ExecuteTime": {
     "end_time": "2019-08-15T03:31:17.802339Z",
     "start_time": "2019-08-15T03:31:17.468315Z"
    }
   },
   "outputs": [],
   "source": [
    "y = train['isFraud'].copy()\n",
    "X = train.drop('isFraud', axis=1)\n",
    "\n",
    "del train"
   ]
  },
  {
   "cell_type": "markdown",
   "metadata": {},
   "source": [
    "Features that consist of more than 5% missing values will be excluded as the potential effect of bias may become to large."
   ]
  },
  {
   "cell_type": "code",
   "execution_count": 41,
   "metadata": {
    "ExecuteTime": {
     "end_time": "2019-08-15T03:31:17.987576Z",
     "start_time": "2019-08-15T03:31:17.804088Z"
    }
   },
   "outputs": [],
   "source": [
    "test.drop(test_missing_values_5.index, axis=1, inplace=True)\n",
    "X.drop(train_missing_values_5.index, axis=1, inplace=True)"
   ]
  },
  {
   "cell_type": "code",
   "execution_count": null,
   "metadata": {},
   "outputs": [],
   "source": []
  },
  {
   "cell_type": "code",
   "execution_count": 43,
   "metadata": {
    "ExecuteTime": {
     "end_time": "2019-08-15T03:31:49.034641Z",
     "start_time": "2019-08-15T03:31:48.442662Z"
    }
   },
   "outputs": [],
   "source": [
    "\n",
    "# Finding feature with missing columns\n",
    "test_missing_columns = test.columns[test.isna().any()].tolist()\n",
    "\n",
    "# Categorical boolean mask\n",
    "test_categorical_feature_mask = test.dtypes==object\n",
    "# Filter categorical columns using mask\n",
    "test_categorical_cols = test.columns[test_categorical_feature_mask].tolist()\n",
    "\n",
    "\n",
    "# Seperating categorical and numerical features\n",
    "test_cat_feat_contain_nan = []\n",
    "for feat in test_categorical_cols:\n",
    "    if feat in test_missing_columns:\n",
    "        test_cat_feat_contain_nan.append(feat)\n",
    "        test_missing_columns.remove(feat)\n",
    "        \n",
    "        \n",
    "# Mean imputation\n",
    "test[test_missing_columns] = test[test_missing_columns].fillna(test[test_missing_columns].mean())\n",
    "# Mode imputation\n",
    "test[test_cat_feat_contain_nan] = test[test_cat_feat_contain_nan].fillna(test[test_cat_feat_contain_nan].mode())\n",
    "\n",
    "\n",
    "test[test_categorical_cols] = test[test_categorical_cols].astype('str')\n",
    "\n",
    "le = LabelEncoder()\n",
    "test[test_categorical_cols] = test[test_categorical_cols].apply(lambda col: le.fit_transform(col))"
   ]
  },
  {
   "cell_type": "code",
   "execution_count": null,
   "metadata": {
    "ExecuteTime": {
     "end_time": "2019-08-15T02:56:12.591670Z",
     "start_time": "2019-08-15T02:55:36.888Z"
    }
   },
   "outputs": [],
   "source": []
  },
  {
   "cell_type": "code",
   "execution_count": 44,
   "metadata": {
    "ExecuteTime": {
     "end_time": "2019-08-15T03:31:50.062784Z",
     "start_time": "2019-08-15T03:31:49.832375Z"
    }
   },
   "outputs": [],
   "source": [
    "# Finding feature with missing columns\n",
    "missing_columns = X.columns[X.isna().any()].tolist()\n",
    "\n",
    "# Categorical boolean mask\n",
    "categorical_feature_mask = X.dtypes==object\n",
    "# Filter categorical columns using mask\n",
    "categorical_cols = X.columns[categorical_feature_mask].tolist()"
   ]
  },
  {
   "cell_type": "code",
   "execution_count": 45,
   "metadata": {
    "ExecuteTime": {
     "end_time": "2019-08-15T03:31:56.996729Z",
     "start_time": "2019-08-15T03:31:56.992534Z"
    }
   },
   "outputs": [],
   "source": [
    "# Seperating categorical and numerical features\n",
    "cat_feat_contain_nan = []\n",
    "for feat in categorical_cols:\n",
    "    if feat in missing_columns:\n",
    "        cat_feat_contain_nan.append(feat)\n",
    "        missing_columns.remove(feat)"
   ]
  },
  {
   "cell_type": "code",
   "execution_count": 46,
   "metadata": {
    "ExecuteTime": {
     "end_time": "2019-08-15T03:32:03.247115Z",
     "start_time": "2019-08-15T03:32:03.192246Z"
    }
   },
   "outputs": [],
   "source": [
    "# Mean imputation\n",
    "X[missing_columns] = X[missing_columns].fillna(X[missing_columns].mean())"
   ]
  },
  {
   "cell_type": "code",
   "execution_count": 47,
   "metadata": {
    "ExecuteTime": {
     "end_time": "2019-08-15T03:32:09.517529Z",
     "start_time": "2019-08-15T03:32:09.225674Z"
    }
   },
   "outputs": [],
   "source": [
    "# Mode imputation\n",
    "X[cat_feat_contain_nan] = X[cat_feat_contain_nan].fillna(X[cat_feat_contain_nan].mode())"
   ]
  },
  {
   "cell_type": "markdown",
   "metadata": {},
   "source": [
    "### Feature Selection"
   ]
  },
  {
   "cell_type": "markdown",
   "metadata": {},
   "source": [
    "#### Selecting Features"
   ]
  },
  {
   "cell_type": "code",
   "execution_count": 48,
   "metadata": {
    "ExecuteTime": {
     "end_time": "2019-08-15T03:32:16.183506Z",
     "start_time": "2019-08-15T03:32:15.697416Z"
    }
   },
   "outputs": [],
   "source": [
    "\n",
    "X[categorical_cols] = X[categorical_cols].astype('str')\n",
    "\n",
    "le = LabelEncoder()\n",
    "X[categorical_cols] = X[categorical_cols].apply(lambda col: le.fit_transform(col))\n",
    "# X[categorical_cols] = X[categorical_cols].astype('int')"
   ]
  },
  {
   "cell_type": "code",
   "execution_count": 49,
   "metadata": {
    "ExecuteTime": {
     "end_time": "2019-08-15T03:32:21.797543Z",
     "start_time": "2019-08-15T03:32:21.793552Z"
    }
   },
   "outputs": [],
   "source": [
    "\n",
    "# from sklearn.feature_selection import SelectKBest\n",
    "# from sklearn.feature_selection import chi2\n",
    "# bestfeatures = SelectKBest(score_func=chi2, k=10)\n",
    "# fit = bestfeatures.fit(X, y)\n",
    "# featureScores = pd.DataFrame(fit.scores_, columns=['Score'])\n",
    "# featureScores['Specs'] = X.columns\n",
    "\n",
    "# # Returns the best 10 features\n",
    "# features = np.array(featureScores.nlargest(10, 'Score')['Specs']).tolist()"
   ]
  },
  {
   "cell_type": "markdown",
   "metadata": {},
   "source": [
    "#### SMOTE or Oversampling"
   ]
  },
  {
   "cell_type": "code",
   "execution_count": null,
   "metadata": {},
   "outputs": [],
   "source": []
  },
  {
   "cell_type": "code",
   "execution_count": null,
   "metadata": {},
   "outputs": [],
   "source": []
  },
  {
   "cell_type": "code",
   "execution_count": null,
   "metadata": {},
   "outputs": [],
   "source": []
  },
  {
   "cell_type": "markdown",
   "metadata": {},
   "source": [
    "#### Train/test split"
   ]
  },
  {
   "cell_type": "code",
   "execution_count": 50,
   "metadata": {
    "ExecuteTime": {
     "end_time": "2019-08-15T03:32:27.811336Z",
     "start_time": "2019-08-15T03:32:27.611868Z"
    }
   },
   "outputs": [],
   "source": [
    "X_train, X_test, y_train, y_test = train_test_split(\n",
    "    X, y, test_size=0.2, random_state=0)"
   ]
  },
  {
   "cell_type": "markdown",
   "metadata": {},
   "source": [
    "#### Place holder"
   ]
  },
  {
   "cell_type": "code",
   "execution_count": null,
   "metadata": {
    "scrolled": true
   },
   "outputs": [],
   "source": []
  },
  {
   "cell_type": "markdown",
   "metadata": {},
   "source": [
    "#### Impute"
   ]
  },
  {
   "cell_type": "code",
   "execution_count": null,
   "metadata": {},
   "outputs": [],
   "source": []
  },
  {
   "cell_type": "code",
   "execution_count": null,
   "metadata": {},
   "outputs": [],
   "source": []
  },
  {
   "cell_type": "markdown",
   "metadata": {},
   "source": [
    "## Adaboost"
   ]
  },
  {
   "cell_type": "markdown",
   "metadata": {},
   "source": [
    "#### Default Variables"
   ]
  },
  {
   "cell_type": "code",
   "execution_count": 51,
   "metadata": {
    "ExecuteTime": {
     "end_time": "2019-08-15T03:32:36.462797Z",
     "start_time": "2019-08-15T03:32:36.459783Z"
    }
   },
   "outputs": [],
   "source": [
    "# features = ['TransactionAmt', 'TransactionDT', 'card1', 'card2']\n",
    "features = X.columns\n",
    "# from sklearn.preprocessing import MinMaxScaler\n",
    "# scaler = MinMaxScaler().fit(X_train[features])\n",
    "# x = scaler.transform(X_train[features])"
   ]
  },
  {
   "cell_type": "code",
   "execution_count": 52,
   "metadata": {
    "ExecuteTime": {
     "end_time": "2019-08-15T03:32:38.960706Z",
     "start_time": "2019-08-15T03:32:38.947701Z"
    },
    "hide_input": false
   },
   "outputs": [],
   "source": [
    "def calculate_decision_stump_efficient(data, label, feature, weight):\n",
    "\n",
    "    Tp=np.float64(0); #T+ total sum of positive examples weights\n",
    "    Tn=np.float64(0) #T- total sum of negative examples weights\n",
    "    Sp=np.float64(0) #S+ sum of positive weights below the cuurent threshold\n",
    "    Sn=np.float64(0) #S- sum of negative weights below the current threshold\n",
    "    error1=np.float64(0)\n",
    "    error2=np.float64(0)\n",
    "    min_error=np.float64(2.0) \n",
    "    min_thresh=np.float64(0) \n",
    "    direction=1\n",
    "    N = len(data[:,feature])\n",
    "    \n",
    "    y = np.zeros(N, dtype=np.int64)\n",
    "    \n",
    "    #get all positive weights    \n",
    "    temp  = (label == 1)\n",
    "    temp = np.int64(temp)\n",
    "    Tp = np.sum(temp * weight)\n",
    "    \n",
    "    #get all negative weights  \n",
    "    temp  = (label == -1)\n",
    "    temp = np.int64(temp)\n",
    "    Tn = np.sum(temp * weight)\n",
    "    \n",
    "    #sort feature values\n",
    "    sorted_labels = data[:, feature].argsort()\n",
    "    sorted_vector =  data[sorted_labels]\n",
    "\n",
    "    length = len(sorted_vector)\n",
    "    for i in range(length):\n",
    "\n",
    "        #RIGHT DIRECTION THRESHOLD\n",
    "        #error1 is the sum of positives up to that point + total negatives minus the sum of negatives so far\n",
    "        error1 = Sp + (Tn - Sn) \n",
    "        if label[sorted_labels[i]] == -1 : \n",
    "            Sn = Sn +  weight[sorted_labels[i]]\n",
    "        else :\n",
    "            Sp = Sp + weight[sorted_labels[i]]\n",
    "            \n",
    "        #LEFT DIRECTION THRESHOLD\n",
    "        error2 = Sn + (Tp - Sp) \n",
    "        \n",
    "        if(min_error > error1) :\n",
    "            min_error = error1\n",
    "            min_thresh = sorted_vector[i, feature]\n",
    "            direction = 1\n",
    "        if(min_error > error2) :\n",
    "            min_error = error2\n",
    "            min_thresh = sorted_vector[i, feature]\n",
    "            direction = -1           \n",
    "    \n",
    "    return min_thresh, direction, min_error\n",
    "       "
   ]
  },
  {
   "cell_type": "code",
   "execution_count": 53,
   "metadata": {
    "ExecuteTime": {
     "end_time": "2019-08-15T03:32:53.983441Z",
     "start_time": "2019-08-15T03:32:53.973468Z"
    },
    "hide_input": false
   },
   "outputs": [],
   "source": [
    "def classify_dataset_against_weak_classifier(x, thresh, direction):\n",
    "    \n",
    "    classification = np.zeros(len(x))\n",
    "    \n",
    "    #classifiy all samples based on the last feature\n",
    "    #get actual classification\n",
    "    for i in range(len(x)):\n",
    "        if direction == -1:\n",
    "            if x[i] < thresh: classification[i] = 1\n",
    "            else : classification[i] = -1\n",
    "        else:\n",
    "            if x[i] < thresh: classification[i] = -1\n",
    "            else : classification[i] = 1    \n",
    "        \n",
    "                \n",
    "    return classification "
   ]
  },
  {
   "cell_type": "code",
   "execution_count": 54,
   "metadata": {
    "ExecuteTime": {
     "end_time": "2019-08-15T03:33:02.764590Z",
     "start_time": "2019-08-15T03:33:02.746637Z"
    },
    "hide_input": false
   },
   "outputs": [],
   "source": [
    "# X: an two dimensional np.array of independent features values.\n",
    "# Y: an one dimensional np.array of actual target values. Values either {-1,1}.\n",
    "# T: number of boosting arounds.\n",
    "# features: a list of feature names.\n",
    "# learn_rate: the learning rate used to calculate alpha[t].\n",
    "def fit(X, Y, T, features, learn_rate):\n",
    "    \n",
    "    h=np.zeros([T,3], dtype=np.float64)\n",
    "    alphas = np.zeros(T, dtype=np.float64)\n",
    "    err = np.ones(T, dtype=np.float64) * np.inf\n",
    "    weight=np.ones(len(X), dtype=np.float64)/len(X)\n",
    "    \n",
    "    for t in range(T):\n",
    "        # Iterate through every feature in our training data.\n",
    "        for feature in range(len(features)):\n",
    "            weighted_error = np.float64(0)\n",
    "\n",
    "            # Build our decision stump.\n",
    "            threshold, sign, weighted_error = calculate_decision_stump_efficient(X, Y, feature, weight)\n",
    "\n",
    "            # Select the best model and feature that produces the lowest model error\n",
    "            if weighted_error < err[t] :\n",
    "                err[t] = weighted_error\n",
    "                h[t][0] = threshold\n",
    "                h[t][1] = feature\n",
    "                h[t][2] = sign\n",
    "\n",
    "        # Calculate alpha value based\n",
    "        alphas[t] = learn_rate * np.log( (1.0 - err[t])/err[t])\n",
    "        \n",
    "        # Make a prediction using t decision stump classifier\n",
    "        classification = classify_dataset_against_weak_classifier(X[:, int(h[t][1])], h[t][0], h[t][2] )\n",
    "\n",
    "        # Update the weights based on what was not correctly, some alpha value and a learning rate\n",
    "        weight *= np.exp(-1.0*alphas[t]*classification*labels)\n",
    "        \n",
    "        # Normalize the weights distribution\n",
    "        weight = weight / np.sum(weight)\n",
    "        \n",
    "    h = np.append(h,np.reshape(alphas,(-1,1)), axis=1)\n",
    "    return h"
   ]
  },
  {
   "cell_type": "code",
   "execution_count": 55,
   "metadata": {
    "ExecuteTime": {
     "end_time": "2019-08-15T03:33:11.480913Z",
     "start_time": "2019-08-15T03:33:11.473930Z"
    }
   },
   "outputs": [],
   "source": [
    "def predict(data_arr, boost_classif):\n",
    "    \n",
    "    classification_arr = np.zeros((len(data_arr),1))\n",
    "    \n",
    "    for idx, thresh, feat, sign, alpha in boost_classif.itertuples():\n",
    "        ht1 = np.sign(data_arr[:, int(feat)] - thresh) * sign\n",
    "        classification_arr += alpha*np.reshape(ht1,(-1,1))\n",
    "\n",
    "    classification_arr = np.where(classification_arr >= 0,1,-1)\n",
    "    \n",
    "    return classification_arr"
   ]
  },
  {
   "cell_type": "code",
   "execution_count": 56,
   "metadata": {
    "ExecuteTime": {
     "end_time": "2019-08-15T03:33:20.435189Z",
     "start_time": "2019-08-15T03:33:20.424689Z"
    }
   },
   "outputs": [],
   "source": [
    "def sum_classifier_votes_for_each_sample(dataset, classifier_df):\n",
    "    classification1 = np.float64(0)\n",
    "    neg = np.float64(0)\n",
    "    pos = np.float64(0)\n",
    "    for idx, thresh, feat, sign, alpha in classifier_df.itertuples():\n",
    "\n",
    "        ht1 = np.sign(dataset[:, int(feat)] - thresh) * sign\n",
    "        classification1 += alpha * ht1\n",
    "\n",
    "        neg += np.where(ht1 < 0, ht1, 0) * alpha\n",
    "        pos += np.where(ht1 >= 0, ht1, 0) * alpha\n",
    "\n",
    "    return classification1, pos, neg"
   ]
  },
  {
   "cell_type": "code",
   "execution_count": 57,
   "metadata": {
    "ExecuteTime": {
     "end_time": "2019-08-15T03:33:30.024671Z",
     "start_time": "2019-08-15T03:33:30.017689Z"
    }
   },
   "outputs": [],
   "source": [
    "def margin_calculation_for_training_samples(sign, pos, neg, tot_votes):\n",
    "    if np.sign(sign) < 0:\n",
    "        return np.abs(neg) / tot_votes, -1\n",
    "    else:\n",
    "        return pos / tot_votes, 1"
   ]
  },
  {
   "cell_type": "code",
   "execution_count": 58,
   "metadata": {
    "ExecuteTime": {
     "end_time": "2019-08-15T03:33:35.980391Z",
     "start_time": "2019-08-15T03:33:35.975404Z"
    }
   },
   "outputs": [],
   "source": [
    "def sign_of_margin(margin, classification, true_class_label):\n",
    "    if classification != true_class_label:\n",
    "        return -1 * margin\n",
    "    else:\n",
    "        return margin"
   ]
  },
  {
   "cell_type": "code",
   "execution_count": 59,
   "metadata": {
    "ExecuteTime": {
     "end_time": "2019-08-15T03:33:46.105726Z",
     "start_time": "2019-08-15T03:33:46.099736Z"
    }
   },
   "outputs": [],
   "source": [
    "def accuracy(statistic_df):\n",
    "    return np.sum(np.where(statistic_df['classification'] != statistic_df['true_class_label'],1,0)) / len(X_train_df)"
   ]
  },
  {
   "cell_type": "code",
   "execution_count": 60,
   "metadata": {
    "ExecuteTime": {
     "end_time": "2019-08-15T03:33:56.835804Z",
     "start_time": "2019-08-15T03:33:56.697156Z"
    },
    "hide_input": false
   },
   "outputs": [],
   "source": [
    "# Selecting the features\n",
    "# features = ['TransactionAmt', 'C1','C2','C3','C4','C5','C6','C7','C8','C9','C10','C11','C12','C13','C14']\n",
    "# 'D1','D2','D3','D4','D5','D6','D7','D8','D9','D10','D11','D12','D13','D14','D15'\n",
    "# features = ['TransactionAmt', 'TransactionDT']\n",
    "\n",
    "# Creating our np.array of features\n",
    "X_train_arr = X_train[features].values\n",
    "X_test_arr = X_test[features].values\n",
    "# del X_train, X_test\n",
    "\n",
    "# Creating our np.array of target values\n",
    "labels = y_train.values\n",
    "pos1 = np.nonzero(labels == 1)\n",
    "pos2 = np.where(labels == 0)\n",
    "labels[pos2] = -1\n",
    "# del y_train\n",
    "\n",
    "# Number of boosting rounds\n",
    "T=30\n",
    "\n",
    "# Alpha learning rate\n",
    "learning_rate = 0.5"
   ]
  },
  {
   "cell_type": "code",
   "execution_count": 61,
   "metadata": {
    "ExecuteTime": {
     "end_time": "2019-08-15T03:45:19.327844Z",
     "start_time": "2019-08-15T03:34:05.657331Z"
    }
   },
   "outputs": [],
   "source": [
    "models = fit(X_train_arr, labels, T, features, learning_rate)"
   ]
  },
  {
   "cell_type": "code",
   "execution_count": 62,
   "metadata": {
    "ExecuteTime": {
     "end_time": "2019-08-15T03:45:28.997652Z",
     "start_time": "2019-08-15T03:45:28.992075Z"
    }
   },
   "outputs": [],
   "source": [
    "classifier_df = pd.DataFrame(models, columns=['threshold','feature','direction','alpha'])"
   ]
  },
  {
   "cell_type": "code",
   "execution_count": null,
   "metadata": {
    "ExecuteTime": {
     "end_time": "2019-08-15T03:31:18.872904Z",
     "start_time": "2019-08-15T03:30:39.836Z"
    }
   },
   "outputs": [],
   "source": [
    "i="
   ]
  },
  {
   "cell_type": "code",
   "execution_count": 63,
   "metadata": {
    "ExecuteTime": {
     "end_time": "2019-08-15T03:45:39.502658Z",
     "start_time": "2019-08-15T03:45:39.166930Z"
    }
   },
   "outputs": [],
   "source": [
    "# classified_arr = predict(X_train_arr, classifier_df)"
   ]
  },
  {
   "cell_type": "code",
   "execution_count": null,
   "metadata": {},
   "outputs": [],
   "source": []
  },
  {
   "cell_type": "markdown",
   "metadata": {},
   "source": [
    "## Kaggle submissions"
   ]
  },
  {
   "cell_type": "code",
   "execution_count": 65,
   "metadata": {
    "ExecuteTime": {
     "end_time": "2019-08-15T03:46:00.740743Z",
     "start_time": "2019-08-15T03:45:59.388637Z"
    }
   },
   "outputs": [],
   "source": [
    "classified_arr = predict(test[features].values, classifier_df)\n",
    "\n",
    "result_path = 'results/'\n",
    "predictions_file = 'predictions.txt'\n",
    "\n",
    "finished_df = pd.DataFrame(test['TransactionID'])\n",
    "finished_df['isFraud'] = np.where(classified_arr == -1,0,1)\n",
    "\n",
    "\n",
    "finished_df.to_csv(result_path + 'predictions.csv', index=False)"
   ]
  },
  {
   "cell_type": "markdown",
   "metadata": {},
   "source": [
    "## Calculating the margins and classifying the data"
   ]
  },
  {
   "cell_type": "markdown",
   "metadata": {},
   "source": [
    "Now that we have our ensemble of weak classifiers and the alphas for each boosting round, we can begin to measure how confident we are in our models generalizability"
   ]
  },
  {
   "cell_type": "code",
   "execution_count": null,
   "metadata": {
    "ExecuteTime": {
     "end_time": "2019-08-15T03:31:18.874910Z",
     "start_time": "2019-08-15T03:30:39.842Z"
    }
   },
   "outputs": [],
   "source": [
    "def plot_margin(data, labels, T, features, learning_rate,):\n",
    "    \n",
    "    sign_name = 'sign_of_margin_' + str(T) + 'T'\n",
    "\n",
    "    models = fit(data,labels,T,features,learning_rate)\n",
    "    \n",
    "    classifier_df = pd.DataFrame(models, columns=['threshold','feature','direction','alpha'])\n",
    "\n",
    "\n",
    "    statistics_df = pd.DataFrame(X_train_arr)\n",
    "    sum_alpha, pos_votes, neg_votes = sum_classifier_votes_for_each_sample(data, classifier_df)\n",
    "    statistics_df['sum_alpha'] = sum_alpha\n",
    "    statistics_df['pos_votes'] = pos_votes\n",
    "    statistics_df['neg_votes'] = neg_votes\n",
    "\n",
    "\n",
    "    statistics_df['total_alpha_votes'] = np.sum(classifier_df.alpha)\n",
    "    result = statistics_df[['sum_alpha','pos_votes','neg_votes','total_alpha_votes']].apply(lambda x: margin_calculation_for_training_samples(*x), axis=1)\n",
    "    statistics_df['margin'] = result.apply(lambda x: x[0])\n",
    "    statistics_df['classification'] = result.apply(lambda x: x[1])\n",
    "    statistics_df['true_class_label'] = labels\n",
    "\n",
    "\n",
    "    statistics_df[sign_name] = statistics_df[['margin', 'classification', 'true_class_label']].apply(lambda x: sign_of_margin(*x), axis=1)\n",
    "    \n",
    "    sns.kdeplot(statistics_df[sign_name])"
   ]
  },
  {
   "cell_type": "code",
   "execution_count": null,
   "metadata": {
    "ExecuteTime": {
     "end_time": "2019-08-15T03:31:18.875897Z",
     "start_time": "2019-08-15T03:30:39.846Z"
    }
   },
   "outputs": [],
   "source": [
    "# 30 Boosting rounds\n",
    "plot_margin(X_train_arr, labels, 30, features, learning_rate)"
   ]
  },
  {
   "cell_type": "code",
   "execution_count": null,
   "metadata": {
    "ExecuteTime": {
     "end_time": "2019-08-15T03:31:18.876894Z",
     "start_time": "2019-08-15T03:30:39.850Z"
    }
   },
   "outputs": [],
   "source": [
    "# 50 Boosting rounds\n",
    "plot_margin(X_train_arr, labels, 50, features, learning_rate)"
   ]
  },
  {
   "cell_type": "code",
   "execution_count": null,
   "metadata": {
    "ExecuteTime": {
     "end_time": "2019-08-15T03:31:18.877891Z",
     "start_time": "2019-08-15T03:30:39.853Z"
    }
   },
   "outputs": [],
   "source": [
    "# 100 Boosting rounds\n",
    "plot_margin(X_train_arr, labels, 100, features, learning_rate)"
   ]
  },
  {
   "cell_type": "code",
   "execution_count": null,
   "metadata": {
    "ExecuteTime": {
     "end_time": "2019-08-15T03:31:18.878889Z",
     "start_time": "2019-08-15T03:30:39.856Z"
    }
   },
   "outputs": [],
   "source": [
    "# 250 Boosting rounds\n",
    "plot_margin(X_train_arr, labels, 250, features, learning_rate)"
   ]
  },
  {
   "cell_type": "code",
   "execution_count": null,
   "metadata": {},
   "outputs": [],
   "source": []
  },
  {
   "cell_type": "code",
   "execution_count": 64,
   "metadata": {
    "ExecuteTime": {
     "end_time": "2019-08-15T03:45:50.109403Z",
     "start_time": "2019-08-15T03:45:49.666269Z"
    }
   },
   "outputs": [],
   "source": []
  },
  {
   "cell_type": "code",
   "execution_count": null,
   "metadata": {},
   "outputs": [],
   "source": []
  },
  {
   "cell_type": "code",
   "execution_count": null,
   "metadata": {},
   "outputs": [],
   "source": []
  },
  {
   "cell_type": "code",
   "execution_count": null,
   "metadata": {},
   "outputs": [],
   "source": []
  },
  {
   "cell_type": "code",
   "execution_count": null,
   "metadata": {},
   "outputs": [],
   "source": []
  },
  {
   "cell_type": "code",
   "execution_count": null,
   "metadata": {},
   "outputs": [],
   "source": []
  },
  {
   "cell_type": "code",
   "execution_count": null,
   "metadata": {},
   "outputs": [],
   "source": []
  },
  {
   "cell_type": "code",
   "execution_count": null,
   "metadata": {
    "ExecuteTime": {
     "end_time": "2019-08-15T03:31:18.883875Z",
     "start_time": "2019-08-15T03:30:39.909Z"
    },
    "hide_input": true
   },
   "outputs": [],
   "source": [
    "# features = ['TransactionAmt', 'C1','C2','C3','C4','C5','C6','C7','C8','C9','C10','C11','C12','C13','C14']\n",
    "\n",
    "\n",
    "# T=30\n",
    "# # h=np.zeros([T,3])\n",
    "\n",
    "# alpha = np.zeros(T, dtype=np.float64)\n",
    "\n",
    "# # err = np.ones(T, dtype=np.float64) * np.inf\n",
    "\n",
    "# weight=np.ones(len(X_train[features]), dtype=np.float64)/len(X_train[features])\n"
   ]
  },
  {
   "cell_type": "code",
   "execution_count": null,
   "metadata": {
    "ExecuteTime": {
     "end_time": "2019-08-15T03:31:18.884872Z",
     "start_time": "2019-08-15T03:30:39.917Z"
    },
    "hide_input": true
   },
   "outputs": [],
   "source": [
    "# # First implementation\n",
    "\n",
    "# from sklearn.tree import DecisionTreeClassifier\n",
    "\n",
    "# for t in range(T):\n",
    "#     Tree_model = DecisionTreeClassifier(criterion=\"gini\",max_depth=1)\n",
    "#     model = Tree_model.fit(X_train[features],y_train,sample_weight=weight)\n",
    "    \n",
    "#     predictions = model.predict(X_train[features])\n",
    "    \n",
    "#     score = model.score(X_train[features],y_train)\n",
    "#     model_error = 1 - score\n",
    "    \n",
    "#     misclassified = np.where(predictions != y_train, 1, 0)\n",
    "    \n",
    "# #     evaluation = np.where(predictions == y_train, 1, 0)\n",
    "# #     accuracy = sum(evaluation/len(evaluation))\n",
    "\n",
    "# #     misclassified = np.where(predictions != y_train, 1, 0)\n",
    "# #     misclassifcation = sum(misclassified/len(misclassified))\n",
    "\n",
    "# #     model_error = sum(weights*misclassified)/sum(weights)\n",
    "    \n",
    "    \n",
    "#     alpha = np.log((1-model_error)/model_error)\n",
    "#     alphas.append(alpha)\n",
    "    \n",
    "    \n",
    "#     X_train_weights *= np.exp(-1*alpha*misclassified)\n",
    "#     X_train_weights = X_train_weights / np.sum(X_train_weights)\n",
    "    \n",
    "    \n",
    "#     print(f'The Accuracy of the {t+1}. model is : {(score*100).round(3)}%')\n",
    "#     print(f'The misclassification rate is: {(model_error*100).round(3)}%')\n",
    "#     print('')"
   ]
  },
  {
   "cell_type": "code",
   "execution_count": null,
   "metadata": {
    "ExecuteTime": {
     "end_time": "2019-08-15T03:31:18.885887Z",
     "start_time": "2019-08-15T03:30:39.921Z"
    },
    "scrolled": true
   },
   "outputs": [],
   "source": [
    "# features = ['TransactionAmt', 'C1', 'C2', 'C3', 'C4', 'C5',\n",
    "#             'C6', 'C7', 'C8', 'C9', 'C10', 'C11', 'C12', 'C13', 'C14']\n",
    "\n",
    "\n",
    "# T = 50\n",
    "# learning_rate = 0.5\n",
    "\n",
    "# weights = np.ones(len(X_train[features]),\n",
    "#                   dtype=np.float64)/len(X_train[features])\n",
    "\n",
    "\n",
    "# alphas = []\n",
    "# models = []\n",
    "\n",
    "# for t in range(T):\n",
    "#     Tree_model = DecisionTreeClassifier(criterion=\"entropy\", max_depth=1)\n",
    "\n",
    "#     model = Tree_model.fit(X_train[features], y_train, sample_weight=weights)\n",
    "\n",
    "#     # Save your model\n",
    "#     models.append(model)\n",
    "\n",
    "#     predictions = model.predict(X_train[features])\n",
    "#     accuracy = model.score(X_train[features], y_train)\n",
    "\n",
    "#     # Seperate correctly classified from uncorrrectly classified\n",
    "# #     classified = np.array(predictions==y_train).astype(int)   # Not sure what this is used for\n",
    "#     misclassified = np.where(predictions != y_train,1,0)\n",
    "\n",
    "#     # Misclassification rate\n",
    "#     misclassification_rate = sum(misclassified)/len(misclassified)\n",
    "\n",
    "#     # Model error\n",
    "#     model_error = np.sum(weights*misclassified)/np.sum(weights)\n",
    "\n",
    "#     # Calculate the alpha values\n",
    "#     alpha = np.log((1-model_error)/model_error)\n",
    "#     # Save our alpha\n",
    "#     alphas.append(alpha)\n",
    "\n",
    "#     # Update the training weights for next decision stump\n",
    "#     weights *= np.exp(alpha*misclassified)\n",
    "\n",
    "#     # Standardize the weights\n",
    "# #     weights = weights / np.sum(weights)\n",
    "\n",
    "# #     Evaluation = pd.DataFrame(y_train.copy())\n",
    "# #     Evaluation['weights'] = weights\n",
    "# #     Evaluation['predictions'] = predictions\n",
    "# #     Evaluation['classified'] = classified\n",
    "# #     Evaluation['misclassified'] = misclassified\n",
    "\n",
    "#     print(f'The Accuracy of the {t+1}th model is : {(accuracy*100).round(3)}%')\n",
    "#     print(\n",
    "#         f'The misclassification rate is: {(misclassification_rate * 100).round(3)}%')\n",
    "#     print('')"
   ]
  },
  {
   "cell_type": "code",
   "execution_count": null,
   "metadata": {
    "ExecuteTime": {
     "end_time": "2019-08-15T03:31:18.887866Z",
     "start_time": "2019-08-15T03:30:39.928Z"
    }
   },
   "outputs": [],
   "source": [
    "# classification_sum = np.float64(0)\n",
    "\n",
    "# accuracy = []\n",
    "# total_predictions = []\n",
    "\n",
    "# for alpha, model in zip(alphas, models):\n",
    "#     model_predictions = model.predict(X_test[features])\n",
    "# #     print(model.score(X_test[features], y_test))\n",
    "#     total_predictions.append(model_predictions*alpha)\n",
    "    \n",
    "#     accuracy.append(np.sum(np.sign(np.sum(np.array(total_predictions),axis=0))==y_test.values)/len(total_predictions[0]))\n",
    "    \n",
    "# total_predictions = np.sign(np.sum(np.array(predictions),axis=0))"
   ]
  },
  {
   "cell_type": "code",
   "execution_count": null,
   "metadata": {
    "ExecuteTime": {
     "end_time": "2019-08-15T03:31:18.888863Z",
     "start_time": "2019-08-15T03:30:39.937Z"
    }
   },
   "outputs": [],
   "source": [
    "# number_of_base_learners = 50\n",
    "# fig = plt.figure(figsize=(10,10))\n",
    "# ax0 = fig.add_subplot(111)\n",
    "# # for i in range(number_of_base_learners):\n",
    "# #     model = Boosting(dataset,i,dataset)\n",
    "# #     model.fit()\n",
    "# #     model.predict()\n",
    "# ax0.plot(range(len(accuracy)),accuracy,'-b')\n",
    "# ax0.set_xlabel('# models used for Boosting ')\n",
    "# ax0.set_ylabel('accuracy')\n",
    "# print('With a number of ',number_of_base_learners,'base models we receive an accuracy of ',accuracy[-1]*100,'%')    \n",
    "                 \n",
    "# plt.show()       "
   ]
  },
  {
   "cell_type": "code",
   "execution_count": null,
   "metadata": {},
   "outputs": [],
   "source": []
  }
 ],
 "metadata": {
  "hide_input": false,
  "kernelspec": {
   "display_name": "Python 3",
   "language": "python",
   "name": "python3"
  },
  "language_info": {
   "codemirror_mode": {
    "name": "ipython",
    "version": 3
   },
   "file_extension": ".py",
   "mimetype": "text/x-python",
   "name": "python",
   "nbconvert_exporter": "python",
   "pygments_lexer": "ipython3",
   "version": "3.7.3"
  },
  "varInspector": {
   "cols": {
    "lenName": 16,
    "lenType": 16,
    "lenVar": 40
   },
   "kernels_config": {
    "python": {
     "delete_cmd_postfix": "",
     "delete_cmd_prefix": "del ",
     "library": "var_list.py",
     "varRefreshCmd": "print(var_dic_list())"
    },
    "r": {
     "delete_cmd_postfix": ") ",
     "delete_cmd_prefix": "rm(",
     "library": "var_list.r",
     "varRefreshCmd": "cat(var_dic_list()) "
    }
   },
   "types_to_exclude": [
    "module",
    "function",
    "builtin_function_or_method",
    "instance",
    "_Feature"
   ],
   "window_display": false
  }
 },
 "nbformat": 4,
 "nbformat_minor": 2
}
