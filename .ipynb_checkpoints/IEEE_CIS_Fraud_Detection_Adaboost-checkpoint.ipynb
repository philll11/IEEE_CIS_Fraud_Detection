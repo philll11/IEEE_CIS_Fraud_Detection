{
 "cells": [
  {
   "cell_type": "markdown",
   "metadata": {},
   "source": [
    "Questions \n",
    "- What does the margin seaborns plot even show us?\n",
    "- What happens when a Chi and ANOVA recieve a large amount of the same large value?"
   ]
  },
  {
   "cell_type": "markdown",
   "metadata": {
    "hide_input": true
   },
   "source": [
    "### Transaction Table *\n",
    "- TransactionDT: timedelta from a given reference datetime (not an actual timestamp)\n",
    "- TransactionAMT: transaction payment amount in USD\n",
    "- ProductCD: product code, the product for each transaction\n",
    "- card1 - card6: payment card information, such as card type, card category, issue bank, country, etc.\n",
    "- addr: address\n",
    "- dist: distance\n",
    "- P_ and (R__) emaildomain: purchaser and recipient email domain\n",
    "- C1-C14: counting, such as how many addresses are found to be associated with the payment card, etc. The actual meaning is masked.\n",
    "- D1-D15: timedelta, such as days between previous transaction, etc.\n",
    "- M1-M9: match, such as names on card and address, etc.\n",
    "- Vxxx: Vesta engineered rich features, including ranking, counting, and other entity relations.\n",
    "\n",
    "Categorical Features:\n",
    "- ProductCD\n",
    "- card1 - card6\n",
    "- addr1, addr2\n",
    "- Pemaildomain Remaildomain\n",
    "- M1 - M9\n",
    "\n",
    "### Identity Table *\n",
    "Variables in this table are identity information – network connection information (IP, ISP, Proxy, etc) and digital signature (UA/browser/os/version, etc) associated with transactions. \n",
    "They're collected by Vesta’s fraud protection system and digital security partners.\n",
    "(The field names are masked and pairwise dictionary will not be provided for privacy protection and contract agreement)\n",
    "\n",
    "Categorical Features:\n",
    "- DeviceType\n",
    "- DeviceInfo\n",
    "- id12 - id38"
   ]
  },
  {
   "cell_type": "markdown",
   "metadata": {},
   "source": [
    "I have decided to exclude all Vxxx features from the analysis as we do not know what they are or how they were created."
   ]
  },
  {
   "cell_type": "code",
   "execution_count": 1,
   "metadata": {
    "ExecuteTime": {
     "end_time": "2019-08-14T23:10:04.429747Z",
     "start_time": "2019-08-14T23:09:59.167736Z"
    },
    "hide_input": false
   },
   "outputs": [],
   "source": [
    "import pandas as pd\n",
    "import os\n",
    "import matplotlib.pyplot as plt\n",
    "import numpy as np\n",
    "\n",
    "# from sklearn.preprocessing import LabelEncoder\n",
    "# from sklearn.feature_selection import SelectKBest\n",
    "# from sklearn.feature_selection import chi2\n",
    "# from sklearn.feature_selection import f_classif\n",
    "\n",
    "# from sklearn.preprocessing import MinMaxScaler\n",
    "from sklearn.model_selection import train_test_split"
   ]
  },
  {
   "cell_type": "code",
   "execution_count": 2,
   "metadata": {
    "ExecuteTime": {
     "end_time": "2019-08-14T23:10:39.058502Z",
     "start_time": "2019-08-14T23:10:04.441034Z"
    }
   },
   "outputs": [],
   "source": [
    "dataset_path = '../datasets/fraud_datasets/'\n",
    "\n",
    "\n",
    "# sample_submission_df = pd.read_csv(f'{dataset_path}sample_submission.csv')\n",
    "\n",
    "train_transaction_df = pd.read_csv(\n",
    "    f'{dataset_path}train_transaction.csv', usecols=[i for i in range(55)])\n",
    "test_transaction_df = pd.read_csv(\n",
    "    f'{dataset_path}test_transaction.csv', usecols=[i for i in range(54)])\n",
    "\n",
    "train_id_df = pd.read_csv(f'{dataset_path}train_identity.csv')\n",
    "test_id_df = pd.read_csv(f'{dataset_path}test_identity.csv')"
   ]
  },
  {
   "cell_type": "markdown",
   "metadata": {},
   "source": [
    "After importing our raw datasets, they need to be merged by TransactionID's.\n",
    "\n",
    "<b>(Note: throughout this notebook, it will be important to delete any dataframes that will not be used again as they take up space in memory and slow our machine down.)</b>"
   ]
  },
  {
   "cell_type": "code",
   "execution_count": 3,
   "metadata": {
    "ExecuteTime": {
     "end_time": "2019-08-14T23:10:51.178294Z",
     "start_time": "2019-08-14T23:10:39.058502Z"
    }
   },
   "outputs": [],
   "source": [
    "train = train_transaction_df.merge(train_id_df, on='TransactionID', how='left')\n",
    "test = test_transaction_df.merge(test_id_df, on='TransactionID', how='left')\n",
    "\n",
    "# Renaming columns for better description\n",
    "names = {\n",
    "    'addr1': 'billing zipcode',\n",
    "    'addr2': 'country codes',\n",
    "    'P_emaildomain': 'Purchaser_emaildom',\n",
    "    'R_emaildomain': 'Retailer_email.dom'\n",
    "}\n",
    "\n",
    "train.rename(columns=names, inplace=True)\n",
    "test.rename(columns=names, inplace=True)"
   ]
  },
  {
   "cell_type": "code",
   "execution_count": 4,
   "metadata": {
    "ExecuteTime": {
     "end_time": "2019-08-14T23:10:51.344717Z",
     "start_time": "2019-08-14T23:10:51.178294Z"
    }
   },
   "outputs": [],
   "source": [
    "del train_transaction_df, train_id_df, test_transaction_df, test_id_df"
   ]
  },
  {
   "cell_type": "code",
   "execution_count": 5,
   "metadata": {
    "ExecuteTime": {
     "end_time": "2019-08-14T23:10:51.371466Z",
     "start_time": "2019-08-14T23:10:51.347854Z"
    }
   },
   "outputs": [
    {
     "name": "stdout",
     "output_type": "stream",
     "text": [
      "Training data has 590540 rows and 95 columns\n",
      "Testing data has 506691 rows and 94 columns\n"
     ]
    }
   ],
   "source": [
    "print(f'Training data has {train.shape[0]} rows and {train.shape[1]} columns')\n",
    "print(f'Testing data has {test.shape[0]} rows and {test.shape[1]} columns')"
   ]
  },
  {
   "cell_type": "code",
   "execution_count": 6,
   "metadata": {
    "ExecuteTime": {
     "end_time": "2019-08-14T23:10:51.436514Z",
     "start_time": "2019-08-14T23:10:51.373461Z"
    }
   },
   "outputs": [
    {
     "data": {
      "text/html": [
       "<div>\n",
       "<style scoped>\n",
       "    .dataframe tbody tr th:only-of-type {\n",
       "        vertical-align: middle;\n",
       "    }\n",
       "\n",
       "    .dataframe tbody tr th {\n",
       "        vertical-align: top;\n",
       "    }\n",
       "\n",
       "    .dataframe thead th {\n",
       "        text-align: right;\n",
       "    }\n",
       "</style>\n",
       "<table border=\"1\" class=\"dataframe\">\n",
       "  <thead>\n",
       "    <tr style=\"text-align: right;\">\n",
       "      <th></th>\n",
       "      <th>TransactionID</th>\n",
       "      <th>isFraud</th>\n",
       "      <th>TransactionDT</th>\n",
       "      <th>TransactionAmt</th>\n",
       "      <th>ProductCD</th>\n",
       "      <th>card1</th>\n",
       "      <th>card2</th>\n",
       "      <th>card3</th>\n",
       "      <th>card4</th>\n",
       "      <th>card5</th>\n",
       "      <th>...</th>\n",
       "      <th>id_31</th>\n",
       "      <th>id_32</th>\n",
       "      <th>id_33</th>\n",
       "      <th>id_34</th>\n",
       "      <th>id_35</th>\n",
       "      <th>id_36</th>\n",
       "      <th>id_37</th>\n",
       "      <th>id_38</th>\n",
       "      <th>DeviceType</th>\n",
       "      <th>DeviceInfo</th>\n",
       "    </tr>\n",
       "  </thead>\n",
       "  <tbody>\n",
       "    <tr>\n",
       "      <th>0</th>\n",
       "      <td>2987000</td>\n",
       "      <td>0</td>\n",
       "      <td>86400</td>\n",
       "      <td>68.5</td>\n",
       "      <td>W</td>\n",
       "      <td>13926</td>\n",
       "      <td>NaN</td>\n",
       "      <td>150.0</td>\n",
       "      <td>discover</td>\n",
       "      <td>142.0</td>\n",
       "      <td>...</td>\n",
       "      <td>NaN</td>\n",
       "      <td>NaN</td>\n",
       "      <td>NaN</td>\n",
       "      <td>NaN</td>\n",
       "      <td>NaN</td>\n",
       "      <td>NaN</td>\n",
       "      <td>NaN</td>\n",
       "      <td>NaN</td>\n",
       "      <td>NaN</td>\n",
       "      <td>NaN</td>\n",
       "    </tr>\n",
       "    <tr>\n",
       "      <th>1</th>\n",
       "      <td>2987001</td>\n",
       "      <td>0</td>\n",
       "      <td>86401</td>\n",
       "      <td>29.0</td>\n",
       "      <td>W</td>\n",
       "      <td>2755</td>\n",
       "      <td>404.0</td>\n",
       "      <td>150.0</td>\n",
       "      <td>mastercard</td>\n",
       "      <td>102.0</td>\n",
       "      <td>...</td>\n",
       "      <td>NaN</td>\n",
       "      <td>NaN</td>\n",
       "      <td>NaN</td>\n",
       "      <td>NaN</td>\n",
       "      <td>NaN</td>\n",
       "      <td>NaN</td>\n",
       "      <td>NaN</td>\n",
       "      <td>NaN</td>\n",
       "      <td>NaN</td>\n",
       "      <td>NaN</td>\n",
       "    </tr>\n",
       "    <tr>\n",
       "      <th>2</th>\n",
       "      <td>2987002</td>\n",
       "      <td>0</td>\n",
       "      <td>86469</td>\n",
       "      <td>59.0</td>\n",
       "      <td>W</td>\n",
       "      <td>4663</td>\n",
       "      <td>490.0</td>\n",
       "      <td>150.0</td>\n",
       "      <td>visa</td>\n",
       "      <td>166.0</td>\n",
       "      <td>...</td>\n",
       "      <td>NaN</td>\n",
       "      <td>NaN</td>\n",
       "      <td>NaN</td>\n",
       "      <td>NaN</td>\n",
       "      <td>NaN</td>\n",
       "      <td>NaN</td>\n",
       "      <td>NaN</td>\n",
       "      <td>NaN</td>\n",
       "      <td>NaN</td>\n",
       "      <td>NaN</td>\n",
       "    </tr>\n",
       "    <tr>\n",
       "      <th>3</th>\n",
       "      <td>2987003</td>\n",
       "      <td>0</td>\n",
       "      <td>86499</td>\n",
       "      <td>50.0</td>\n",
       "      <td>W</td>\n",
       "      <td>18132</td>\n",
       "      <td>567.0</td>\n",
       "      <td>150.0</td>\n",
       "      <td>mastercard</td>\n",
       "      <td>117.0</td>\n",
       "      <td>...</td>\n",
       "      <td>NaN</td>\n",
       "      <td>NaN</td>\n",
       "      <td>NaN</td>\n",
       "      <td>NaN</td>\n",
       "      <td>NaN</td>\n",
       "      <td>NaN</td>\n",
       "      <td>NaN</td>\n",
       "      <td>NaN</td>\n",
       "      <td>NaN</td>\n",
       "      <td>NaN</td>\n",
       "    </tr>\n",
       "    <tr>\n",
       "      <th>4</th>\n",
       "      <td>2987004</td>\n",
       "      <td>0</td>\n",
       "      <td>86506</td>\n",
       "      <td>50.0</td>\n",
       "      <td>H</td>\n",
       "      <td>4497</td>\n",
       "      <td>514.0</td>\n",
       "      <td>150.0</td>\n",
       "      <td>mastercard</td>\n",
       "      <td>102.0</td>\n",
       "      <td>...</td>\n",
       "      <td>samsung browser 6.2</td>\n",
       "      <td>32.0</td>\n",
       "      <td>2220x1080</td>\n",
       "      <td>match_status:2</td>\n",
       "      <td>T</td>\n",
       "      <td>F</td>\n",
       "      <td>T</td>\n",
       "      <td>T</td>\n",
       "      <td>mobile</td>\n",
       "      <td>SAMSUNG SM-G892A Build/NRD90M</td>\n",
       "    </tr>\n",
       "  </tbody>\n",
       "</table>\n",
       "<p>5 rows × 95 columns</p>\n",
       "</div>"
      ],
      "text/plain": [
       "   TransactionID  isFraud  TransactionDT  TransactionAmt ProductCD  card1  \\\n",
       "0        2987000        0          86400            68.5         W  13926   \n",
       "1        2987001        0          86401            29.0         W   2755   \n",
       "2        2987002        0          86469            59.0         W   4663   \n",
       "3        2987003        0          86499            50.0         W  18132   \n",
       "4        2987004        0          86506            50.0         H   4497   \n",
       "\n",
       "   card2  card3       card4  card5  ...                id_31  id_32  \\\n",
       "0    NaN  150.0    discover  142.0  ...                  NaN    NaN   \n",
       "1  404.0  150.0  mastercard  102.0  ...                  NaN    NaN   \n",
       "2  490.0  150.0        visa  166.0  ...                  NaN    NaN   \n",
       "3  567.0  150.0  mastercard  117.0  ...                  NaN    NaN   \n",
       "4  514.0  150.0  mastercard  102.0  ...  samsung browser 6.2   32.0   \n",
       "\n",
       "       id_33           id_34  id_35 id_36 id_37  id_38  DeviceType  \\\n",
       "0        NaN             NaN    NaN   NaN   NaN    NaN         NaN   \n",
       "1        NaN             NaN    NaN   NaN   NaN    NaN         NaN   \n",
       "2        NaN             NaN    NaN   NaN   NaN    NaN         NaN   \n",
       "3        NaN             NaN    NaN   NaN   NaN    NaN         NaN   \n",
       "4  2220x1080  match_status:2      T     F     T      T      mobile   \n",
       "\n",
       "                      DeviceInfo  \n",
       "0                            NaN  \n",
       "1                            NaN  \n",
       "2                            NaN  \n",
       "3                            NaN  \n",
       "4  SAMSUNG SM-G892A Build/NRD90M  \n",
       "\n",
       "[5 rows x 95 columns]"
      ]
     },
     "execution_count": 6,
     "metadata": {},
     "output_type": "execute_result"
    }
   ],
   "source": [
    "train.head()"
   ]
  },
  {
   "cell_type": "code",
   "execution_count": 7,
   "metadata": {
    "ExecuteTime": {
     "end_time": "2019-08-14T23:10:51.501692Z",
     "start_time": "2019-08-14T23:10:51.446390Z"
    }
   },
   "outputs": [
    {
     "data": {
      "text/html": [
       "<div>\n",
       "<style scoped>\n",
       "    .dataframe tbody tr th:only-of-type {\n",
       "        vertical-align: middle;\n",
       "    }\n",
       "\n",
       "    .dataframe tbody tr th {\n",
       "        vertical-align: top;\n",
       "    }\n",
       "\n",
       "    .dataframe thead th {\n",
       "        text-align: right;\n",
       "    }\n",
       "</style>\n",
       "<table border=\"1\" class=\"dataframe\">\n",
       "  <thead>\n",
       "    <tr style=\"text-align: right;\">\n",
       "      <th></th>\n",
       "      <th>TransactionID</th>\n",
       "      <th>TransactionDT</th>\n",
       "      <th>TransactionAmt</th>\n",
       "      <th>ProductCD</th>\n",
       "      <th>card1</th>\n",
       "      <th>card2</th>\n",
       "      <th>card3</th>\n",
       "      <th>card4</th>\n",
       "      <th>card5</th>\n",
       "      <th>card6</th>\n",
       "      <th>...</th>\n",
       "      <th>id_31</th>\n",
       "      <th>id_32</th>\n",
       "      <th>id_33</th>\n",
       "      <th>id_34</th>\n",
       "      <th>id_35</th>\n",
       "      <th>id_36</th>\n",
       "      <th>id_37</th>\n",
       "      <th>id_38</th>\n",
       "      <th>DeviceType</th>\n",
       "      <th>DeviceInfo</th>\n",
       "    </tr>\n",
       "  </thead>\n",
       "  <tbody>\n",
       "    <tr>\n",
       "      <th>0</th>\n",
       "      <td>3663549</td>\n",
       "      <td>18403224</td>\n",
       "      <td>31.95</td>\n",
       "      <td>W</td>\n",
       "      <td>10409</td>\n",
       "      <td>111.0</td>\n",
       "      <td>150.0</td>\n",
       "      <td>visa</td>\n",
       "      <td>226.0</td>\n",
       "      <td>debit</td>\n",
       "      <td>...</td>\n",
       "      <td>NaN</td>\n",
       "      <td>NaN</td>\n",
       "      <td>NaN</td>\n",
       "      <td>NaN</td>\n",
       "      <td>NaN</td>\n",
       "      <td>NaN</td>\n",
       "      <td>NaN</td>\n",
       "      <td>NaN</td>\n",
       "      <td>NaN</td>\n",
       "      <td>NaN</td>\n",
       "    </tr>\n",
       "    <tr>\n",
       "      <th>1</th>\n",
       "      <td>3663550</td>\n",
       "      <td>18403263</td>\n",
       "      <td>49.00</td>\n",
       "      <td>W</td>\n",
       "      <td>4272</td>\n",
       "      <td>111.0</td>\n",
       "      <td>150.0</td>\n",
       "      <td>visa</td>\n",
       "      <td>226.0</td>\n",
       "      <td>debit</td>\n",
       "      <td>...</td>\n",
       "      <td>NaN</td>\n",
       "      <td>NaN</td>\n",
       "      <td>NaN</td>\n",
       "      <td>NaN</td>\n",
       "      <td>NaN</td>\n",
       "      <td>NaN</td>\n",
       "      <td>NaN</td>\n",
       "      <td>NaN</td>\n",
       "      <td>NaN</td>\n",
       "      <td>NaN</td>\n",
       "    </tr>\n",
       "    <tr>\n",
       "      <th>2</th>\n",
       "      <td>3663551</td>\n",
       "      <td>18403310</td>\n",
       "      <td>171.00</td>\n",
       "      <td>W</td>\n",
       "      <td>4476</td>\n",
       "      <td>574.0</td>\n",
       "      <td>150.0</td>\n",
       "      <td>visa</td>\n",
       "      <td>226.0</td>\n",
       "      <td>debit</td>\n",
       "      <td>...</td>\n",
       "      <td>NaN</td>\n",
       "      <td>NaN</td>\n",
       "      <td>NaN</td>\n",
       "      <td>NaN</td>\n",
       "      <td>NaN</td>\n",
       "      <td>NaN</td>\n",
       "      <td>NaN</td>\n",
       "      <td>NaN</td>\n",
       "      <td>NaN</td>\n",
       "      <td>NaN</td>\n",
       "    </tr>\n",
       "    <tr>\n",
       "      <th>3</th>\n",
       "      <td>3663552</td>\n",
       "      <td>18403310</td>\n",
       "      <td>284.95</td>\n",
       "      <td>W</td>\n",
       "      <td>10989</td>\n",
       "      <td>360.0</td>\n",
       "      <td>150.0</td>\n",
       "      <td>visa</td>\n",
       "      <td>166.0</td>\n",
       "      <td>debit</td>\n",
       "      <td>...</td>\n",
       "      <td>NaN</td>\n",
       "      <td>NaN</td>\n",
       "      <td>NaN</td>\n",
       "      <td>NaN</td>\n",
       "      <td>NaN</td>\n",
       "      <td>NaN</td>\n",
       "      <td>NaN</td>\n",
       "      <td>NaN</td>\n",
       "      <td>NaN</td>\n",
       "      <td>NaN</td>\n",
       "    </tr>\n",
       "    <tr>\n",
       "      <th>4</th>\n",
       "      <td>3663553</td>\n",
       "      <td>18403317</td>\n",
       "      <td>67.95</td>\n",
       "      <td>W</td>\n",
       "      <td>18018</td>\n",
       "      <td>452.0</td>\n",
       "      <td>150.0</td>\n",
       "      <td>mastercard</td>\n",
       "      <td>117.0</td>\n",
       "      <td>debit</td>\n",
       "      <td>...</td>\n",
       "      <td>NaN</td>\n",
       "      <td>NaN</td>\n",
       "      <td>NaN</td>\n",
       "      <td>NaN</td>\n",
       "      <td>NaN</td>\n",
       "      <td>NaN</td>\n",
       "      <td>NaN</td>\n",
       "      <td>NaN</td>\n",
       "      <td>NaN</td>\n",
       "      <td>NaN</td>\n",
       "    </tr>\n",
       "  </tbody>\n",
       "</table>\n",
       "<p>5 rows × 94 columns</p>\n",
       "</div>"
      ],
      "text/plain": [
       "   TransactionID  TransactionDT  TransactionAmt ProductCD  card1  card2  \\\n",
       "0        3663549       18403224           31.95         W  10409  111.0   \n",
       "1        3663550       18403263           49.00         W   4272  111.0   \n",
       "2        3663551       18403310          171.00         W   4476  574.0   \n",
       "3        3663552       18403310          284.95         W  10989  360.0   \n",
       "4        3663553       18403317           67.95         W  18018  452.0   \n",
       "\n",
       "   card3       card4  card5  card6  ...  id_31  id_32  id_33  id_34 id_35  \\\n",
       "0  150.0        visa  226.0  debit  ...    NaN    NaN    NaN    NaN   NaN   \n",
       "1  150.0        visa  226.0  debit  ...    NaN    NaN    NaN    NaN   NaN   \n",
       "2  150.0        visa  226.0  debit  ...    NaN    NaN    NaN    NaN   NaN   \n",
       "3  150.0        visa  166.0  debit  ...    NaN    NaN    NaN    NaN   NaN   \n",
       "4  150.0  mastercard  117.0  debit  ...    NaN    NaN    NaN    NaN   NaN   \n",
       "\n",
       "  id_36  id_37  id_38  DeviceType  DeviceInfo  \n",
       "0   NaN    NaN    NaN         NaN         NaN  \n",
       "1   NaN    NaN    NaN         NaN         NaN  \n",
       "2   NaN    NaN    NaN         NaN         NaN  \n",
       "3   NaN    NaN    NaN         NaN         NaN  \n",
       "4   NaN    NaN    NaN         NaN         NaN  \n",
       "\n",
       "[5 rows x 94 columns]"
      ]
     },
     "execution_count": 7,
     "metadata": {},
     "output_type": "execute_result"
    }
   ],
   "source": [
    "test.head()"
   ]
  },
  {
   "cell_type": "code",
   "execution_count": null,
   "metadata": {},
   "outputs": [],
   "source": []
  },
  {
   "cell_type": "markdown",
   "metadata": {},
   "source": [
    "## EDA\n",
    "Visually exploring the dataset it important for familiarizing ourselves with it and trying to better understand the data before complex analysis is undertaken.\n",
    "\n",
    "### Data\n",
    "First, lets get an overview of the features and their data types.\n",
    "\n",
    "<b>(Note: due to the large output the following script produces, the output can be found in the eda_output folder in under feature_overview.txt)</b>"
   ]
  },
  {
   "cell_type": "code",
   "execution_count": 8,
   "metadata": {
    "ExecuteTime": {
     "end_time": "2019-08-14T23:10:57.866163Z",
     "start_time": "2019-08-14T23:10:51.505871Z"
    },
    "scrolled": false
   },
   "outputs": [],
   "source": [
    "eda_output_path = 'eda_output/'\n",
    "feat_over_file = 'feature_overview.txt'\n",
    "\n",
    "if os.path.exists(f'{eda_output_path}{feat_over_file}'):\n",
    "    os.remove(f'{eda_output_path}{feat_over_file}')\n",
    "\n",
    "with open(f'{eda_output_path}{feat_over_file}', 'a') as overview_file:\n",
    "    for col, values in train.iteritems():\n",
    "        overview_file.write(f'{col}: {values.nunique()} ({values.dtypes})\\n')\n",
    "        overview_file.write(str(values.unique()[:100]))\n",
    "        overview_file.write(\n",
    "            '\\n\\n###########################################################\\n\\n')"
   ]
  },
  {
   "cell_type": "markdown",
   "metadata": {},
   "source": [
    "When we examine the feature_overview.txt file, we notice that there are many continuous features and some categorical features."
   ]
  },
  {
   "cell_type": "code",
   "execution_count": null,
   "metadata": {
    "hide_input": false
   },
   "outputs": [],
   "source": []
  },
  {
   "cell_type": "markdown",
   "metadata": {},
   "source": [
    "### Missing Values"
   ]
  },
  {
   "cell_type": "code",
   "execution_count": 9,
   "metadata": {
    "ExecuteTime": {
     "end_time": "2019-08-14T23:11:04.933153Z",
     "start_time": "2019-08-14T23:10:57.875634Z"
    }
   },
   "outputs": [],
   "source": [
    "train_contains_na = train.isna().any().sum()\n",
    "test_contains_na = test.isna().any().sum()"
   ]
  },
  {
   "cell_type": "code",
   "execution_count": 10,
   "metadata": {
    "ExecuteTime": {
     "end_time": "2019-08-14T23:11:04.951125Z",
     "start_time": "2019-08-14T23:11:04.933153Z"
    }
   },
   "outputs": [
    {
     "name": "stdout",
     "output_type": "stream",
     "text": [
      "75 out of 95 columns contain missing values in the train data\n",
      "89 out of 94 columns contain missing values in the test data\n"
     ]
    }
   ],
   "source": [
    "print(f'{train_contains_na} out of {len(train.columns)} columns contain missing values in the train data')\n",
    "print(f'{test_contains_na} out of {len(test.columns)} columns contain missing values in the test data')"
   ]
  },
  {
   "cell_type": "code",
   "execution_count": 11,
   "metadata": {
    "ExecuteTime": {
     "end_time": "2019-08-14T23:11:08.470173Z",
     "start_time": "2019-08-14T23:11:04.956726Z"
    }
   },
   "outputs": [],
   "source": [
    "# Calculating percentage of missing values in each column\n",
    "train_missing_values = train.isna().mean().round(2)\n",
    "test_missing_values = test.isna().mean().round(2)\n",
    "\n",
    "# Keeping only columns that contain more than 50% missing values\n",
    "train_missing_values_5 = train_missing_values[train_missing_values.values > 0.05]\n",
    "test_missing_values_5 = test_missing_values[test_missing_values.values > 0.05]"
   ]
  },
  {
   "cell_type": "code",
   "execution_count": 12,
   "metadata": {
    "ExecuteTime": {
     "end_time": "2019-08-14T23:11:08.488683Z",
     "start_time": "2019-08-14T23:11:08.474169Z"
    },
    "scrolled": false
   },
   "outputs": [
    {
     "name": "stdout",
     "output_type": "stream",
     "text": [
      "69 out of 95 columns in the train data contain more than 50% missing values\n",
      "67 out of 94 columns in the test data contain more than 50% missing values\n"
     ]
    }
   ],
   "source": [
    "print(f'{len(train_missing_values_5)} out of {len(train.columns)} columns in the train data contain more than 50% missing values')\n",
    "print(f'{len(test_missing_values_5)} out of {len(test.columns)} columns in the test data contain more than 50% missing values')"
   ]
  },
  {
   "cell_type": "markdown",
   "metadata": {},
   "source": [
    "As we can see there are a large number of missing values in the data."
   ]
  },
  {
   "cell_type": "code",
   "execution_count": 13,
   "metadata": {
    "ExecuteTime": {
     "end_time": "2019-08-14T23:11:08.540002Z",
     "start_time": "2019-08-14T23:11:08.495025Z"
    }
   },
   "outputs": [],
   "source": [
    "# Keeping only columns that contain more than 50% missing values\n",
    "train_missing_values_70 = train_missing_values[train_missing_values.values > 0.75]\n",
    "test_missing_values_70 = test_missing_values[test_missing_values.values > 0.75]"
   ]
  },
  {
   "cell_type": "code",
   "execution_count": 14,
   "metadata": {
    "ExecuteTime": {
     "end_time": "2019-08-14T23:11:08.576949Z",
     "start_time": "2019-08-14T23:11:08.545538Z"
    },
    "scrolled": false
   },
   "outputs": [
    {
     "name": "stdout",
     "output_type": "stream",
     "text": [
      "49 out of 95 columns in the train data contain more than 75% missing values\n",
      "27 out of 94 columns in the test data contain more than 75% missing values\n"
     ]
    }
   ],
   "source": [
    "print(f'{len(train_missing_values_70)} out of {len(train.columns)} columns in the train data contain more than 75% missing values')\n",
    "print(f'{len(test_missing_values_70)} out of {len(test.columns)} columns in the test data contain more than 75% missing values')"
   ]
  },
  {
   "cell_type": "markdown",
   "metadata": {},
   "source": [
    "### Target Feature: isFraud"
   ]
  },
  {
   "cell_type": "code",
   "execution_count": 15,
   "metadata": {
    "ExecuteTime": {
     "end_time": "2019-08-14T23:11:08.612117Z",
     "start_time": "2019-08-14T23:11:08.582910Z"
    }
   },
   "outputs": [],
   "source": [
    "isFraud = 'isFraud'"
   ]
  },
  {
   "cell_type": "code",
   "execution_count": 16,
   "metadata": {
    "ExecuteTime": {
     "end_time": "2019-08-14T23:11:08.657053Z",
     "start_time": "2019-08-14T23:11:08.616106Z"
    }
   },
   "outputs": [],
   "source": [
    "# Plot Function\n",
    "def PlotFunction(df, feature, title, xLable, yLabel, vertical=False, percentLabels=False, size=[10, 7]):\n",
    "    plt.style.use('ggplot')\n",
    "\n",
    "    f = plt.figure(figsize=size)\n",
    "    ax = f.add_subplot(1, 1, 1)\n",
    "    ax.title.set_text(title)\n",
    "    ax.set_ylabel(yLabel)\n",
    "    ax.set_xlabel(xLable)\n",
    "\n",
    "    plot = ax.bar([str(i) for i in df[feature].value_counts(dropna=False, normalize=True).index],\n",
    "                  df[feature].value_counts(dropna=False, normalize=True), 0.40,\n",
    "                  color=['cornflowerblue', 'darkorange', 'green', 'brown', 'black'])\n",
    "    if vertical:\n",
    "        plt.xticks(rotation=90)\n",
    "\n",
    "    # Add counts above the two bar graphs\n",
    "    if percentLabels:\n",
    "        percentages = (df[feature].value_counts(\n",
    "            dropna=False, normalize=True)*100).round(3)\n",
    "        i = 0\n",
    "        for rect in plot:\n",
    "            height = rect.get_height()\n",
    "            plt.text(rect.get_x() + rect.get_width()/2.0, height,\n",
    "                     f'{percentages[i]}%', ha='center', va='bottom')\n",
    "            i += 1"
   ]
  },
  {
   "cell_type": "code",
   "execution_count": 17,
   "metadata": {
    "ExecuteTime": {
     "end_time": "2019-08-14T23:11:08.718113Z",
     "start_time": "2019-08-14T23:11:08.665403Z"
    }
   },
   "outputs": [
    {
     "name": "stdout",
     "output_type": "stream",
     "text": [
      "These are the two types of values for fraud: [0 1]\n"
     ]
    }
   ],
   "source": [
    "print(f'These are the two types of values for fraud: {train[isFraud].unique()}')"
   ]
  },
  {
   "cell_type": "code",
   "execution_count": 18,
   "metadata": {
    "ExecuteTime": {
     "end_time": "2019-08-14T23:11:08.763879Z",
     "start_time": "2019-08-14T23:11:08.725523Z"
    }
   },
   "outputs": [
    {
     "name": "stdout",
     "output_type": "stream",
     "text": [
      "isFraud contains 0 missing values\n"
     ]
    }
   ],
   "source": [
    "print(f'isFraud contains {train[isFraud].isna().any() * 1} missing values')"
   ]
  },
  {
   "cell_type": "code",
   "execution_count": 19,
   "metadata": {
    "ExecuteTime": {
     "end_time": "2019-08-14T23:11:09.327940Z",
     "start_time": "2019-08-14T23:11:08.772030Z"
    }
   },
   "outputs": [
    {
     "data": {
      "image/png": "[encoded data removed]",
      "text/plain": [
       "<Figure size 720x504 with 1 Axes>"
      ]
     },
     "metadata": {},
     "output_type": "display_data"
    }
   ],
   "source": [
    "### 'Fraud' Feature\n",
    "PlotFunction(train, isFraud, 'isFaud percentages', 'Not fraud | Fraud', 'Number of occurances', percentLabels=True)    "
   ]
  },
  {
   "cell_type": "markdown",
   "metadata": {},
   "source": [
    "A visual examination of the graph reveals an imbalance in the number of fraudulent transactions.\n",
    "\n",
    "To correct this imbalanace, the use of a sampling method such as SMOTE or oversampling will be needed."
   ]
  },
  {
   "cell_type": "markdown",
   "metadata": {},
   "source": [
    "### Exploring the Features"
   ]
  },
  {
   "cell_type": "code",
   "execution_count": 20,
   "metadata": {
    "ExecuteTime": {
     "end_time": "2019-08-14T23:11:10.120799Z",
     "start_time": "2019-08-14T23:11:09.331007Z"
    }
   },
   "outputs": [
    {
     "data": {
      "image/png": "[encoded data removed]",
      "text/plain": [
       "<Figure size 864x360 with 1 Axes>"
      ]
     },
     "metadata": {},
     "output_type": "display_data"
    }
   ],
   "source": [
    "# 'TransactionAmt' feature\n",
    "plt.figure(figsize=[12, 5])\n",
    "plt.title('Transaction Amounts')\n",
    "plt.xlabel('Amount')\n",
    "plt.ylabel('Number of transactions')\n",
    "_ = plt.hist(train['TransactionAmt'], bins=100)"
   ]
  },
  {
   "cell_type": "markdown",
   "metadata": {},
   "source": [
    "There is a clear right skew to this data. I will try a log transformation to reduce this effect."
   ]
  },
  {
   "cell_type": "code",
   "execution_count": 21,
   "metadata": {
    "ExecuteTime": {
     "end_time": "2019-08-14T23:11:10.888450Z",
     "start_time": "2019-08-14T23:11:10.125280Z"
    }
   },
   "outputs": [
    {
     "data": {
      "image/png": "[encoded data removed]",
      "text/plain": [
       "<Figure size 864x360 with 1 Axes>"
      ]
     },
     "metadata": {},
     "output_type": "display_data"
    }
   ],
   "source": [
    "# 'TransactionAmt' feature\n",
    "plt.figure(figsize=[12, 5])\n",
    "plt.title('Transaction Amounts')\n",
    "plt.xlabel('Amount')\n",
    "plt.ylabel('Number of transactions')\n",
    "_ = plt.hist(train['TransactionAmt'].apply(np.log), bins=100)"
   ]
  },
  {
   "cell_type": "markdown",
   "metadata": {},
   "source": [
    "'TransactionAmt' now shows a normal distribution, we can separate which transactions were fraudulent and compare whether they are larger."
   ]
  },
  {
   "cell_type": "code",
   "execution_count": 22,
   "metadata": {
    "ExecuteTime": {
     "end_time": "2019-08-14T23:11:12.397812Z",
     "start_time": "2019-08-14T23:11:10.897836Z"
    }
   },
   "outputs": [
    {
     "data": {
      "image/png": "[encoded data removed]",
      "text/plain": [
       "<Figure size 1080x216 with 2 Axes>"
      ]
     },
     "metadata": {},
     "output_type": "display_data"
    }
   ],
   "source": [
    "# 'TransactionAmt' feature\n",
    "fig, (ax1, ax2) = plt.subplots(1, 2, figsize=(15, 3))\n",
    "\n",
    "# Not Fraud\n",
    "ax1.title.set_text('Non-Fraudulent Transaction Amounts')\n",
    "ax1.set_xlabel('LgAmount')\n",
    "ax1.set_ylabel('Number of transactions')\n",
    "_ = ax1.hist(train['TransactionAmt']\n",
    "             [train['isFraud'] == 0].apply(np.log), bins=100)\n",
    "\n",
    "# Fraud\n",
    "ax2.title.set_text('Fraudulent Transaction Amounts')\n",
    "ax2.set_xlabel('LgAmount')\n",
    "ax2.set_ylabel('Number of transactions')\n",
    "_ = ax2.hist(train['TransactionAmt']\n",
    "             [train['isFraud'] == 1].apply(np.log), bins=100)"
   ]
  },
  {
   "cell_type": "markdown",
   "metadata": {},
   "source": [
    "From this, we can see that the fraudulent transaction amounts seem to be higher on average."
   ]
  },
  {
   "cell_type": "code",
   "execution_count": 23,
   "metadata": {
    "ExecuteTime": {
     "end_time": "2019-08-14T23:11:13.058216Z",
     "start_time": "2019-08-14T23:11:12.402442Z"
    }
   },
   "outputs": [
    {
     "data": {
      "image/png": "[encoded data removed]",
      "text/plain": [
       "<Figure size 720x504 with 1 Axes>"
      ]
     },
     "metadata": {},
     "output_type": "display_data"
    }
   ],
   "source": [
    "### 'ProductCD' feature\n",
    "PlotFunction(train, 'ProductCD', 'Product codes for each transaction', 'Product Codes', 'Count', percentLabels=True)"
   ]
  },
  {
   "cell_type": "code",
   "execution_count": 24,
   "metadata": {
    "ExecuteTime": {
     "end_time": "2019-08-14T23:11:13.487585Z",
     "start_time": "2019-08-14T23:11:13.062385Z"
    }
   },
   "outputs": [
    {
     "data": {
      "image/png": "[encoded data removed]",
      "text/plain": [
       "<Figure size 1080x360 with 1 Axes>"
      ]
     },
     "metadata": {},
     "output_type": "display_data"
    }
   ],
   "source": [
    "f = plt.figure(figsize=[15, 5])\n",
    "ax = f.add_subplot(1, 1, 1)\n",
    "ax.title.set_text('Percentage of products from fraudulent transactions')\n",
    "ax.set_ylabel('Percent')\n",
    "ax.set_xlabel('Products')\n",
    "\n",
    "plot = ax.bar([str(i) for i in train['ProductCD'][train['isFraud'] == 1].value_counts(dropna=False, normalize=True).index],\n",
    "              train['ProductCD'][train['isFraud'] == 1].value_counts(\n",
    "                  dropna=False, normalize=True), 0.40,\n",
    "              color=['cornflowerblue', 'darkorange', 'green', 'brown', 'black'])\n",
    "\n",
    "# Add counts above the two bar graphs\n",
    "percentages = (train['ProductCD'][train['isFraud'] == 1].value_counts(\n",
    "    dropna=False, normalize=True)*100).round(3)\n",
    "i = 0\n",
    "for rect in plot:\n",
    "    height = rect.get_height()\n",
    "    plt.text(rect.get_x() + rect.get_width()/2.0, height,\n",
    "             f'{percentages[i]}%', ha='center', va='bottom')\n",
    "    i += 1"
   ]
  },
  {
   "cell_type": "markdown",
   "metadata": {},
   "source": [
    "There are two main products involved with fraululent transactions, 'W' and 'C'."
   ]
  },
  {
   "cell_type": "code",
   "execution_count": 25,
   "metadata": {
    "ExecuteTime": {
     "end_time": "2019-08-14T23:11:13.563189Z",
     "start_time": "2019-08-14T23:11:13.491450Z"
    }
   },
   "outputs": [
    {
     "name": "stdout",
     "output_type": "stream",
     "text": [
      "Number of unique values: 13553\n"
     ]
    },
    {
     "data": {
      "text/plain": [
       "7919     0.025285\n",
       "9500     0.023981\n",
       "15885    0.017545\n",
       "17188    0.017516\n",
       "15066    0.013454\n",
       "Name: card1, dtype: float64"
      ]
     },
     "execution_count": 25,
     "metadata": {},
     "output_type": "execute_result"
    }
   ],
   "source": [
    "# 'card1' feature\n",
    "print('Number of unique values:', len(train['card1'].unique()))\n",
    "train['card1'].value_counts(dropna=False, normalize=True).head()"
   ]
  },
  {
   "cell_type": "code",
   "execution_count": 26,
   "metadata": {
    "ExecuteTime": {
     "end_time": "2019-08-14T23:11:13.643263Z",
     "start_time": "2019-08-14T23:11:13.568502Z"
    }
   },
   "outputs": [
    {
     "name": "stdout",
     "output_type": "stream",
     "text": [
      "Number of unique values: 501\n"
     ]
    },
    {
     "data": {
      "text/plain": [
       "321.0    0.082865\n",
       "111.0    0.076525\n",
       "555.0    0.071113\n",
       "490.0    0.064593\n",
       "583.0    0.036920\n",
       "Name: card2, dtype: float64"
      ]
     },
     "execution_count": 26,
     "metadata": {},
     "output_type": "execute_result"
    }
   ],
   "source": [
    "### 'card2' feature\n",
    "print('Number of unique values:', len(train['card2'].unique()))\n",
    "train['card2'].value_counts(dropna=False, normalize=True).head()"
   ]
  },
  {
   "cell_type": "markdown",
   "metadata": {},
   "source": [
    "'card1' & 'card2 have a large number of unique values with no clear dominating catagory."
   ]
  },
  {
   "cell_type": "code",
   "execution_count": 27,
   "metadata": {
    "ExecuteTime": {
     "end_time": "2019-08-14T23:11:13.698259Z",
     "start_time": "2019-08-14T23:11:13.645529Z"
    }
   },
   "outputs": [
    {
     "name": "stdout",
     "output_type": "stream",
     "text": [
      "Number of unique values: 115\n"
     ]
    },
    {
     "data": {
      "text/plain": [
       "150.0    0.882729\n",
       "185.0    0.095414\n",
       "106.0    0.002660\n",
       "NaN      0.002650\n",
       "146.0    0.002120\n",
       "Name: card3, dtype: float64"
      ]
     },
     "execution_count": 27,
     "metadata": {},
     "output_type": "execute_result"
    }
   ],
   "source": [
    "### 'card3' feature\n",
    "print('Number of unique values:', len(train['card3'].unique()))\n",
    "train['card3'].value_counts(dropna=False, normalize=True).head()"
   ]
  },
  {
   "cell_type": "markdown",
   "metadata": {},
   "source": [
    "'card3' has 88% of its values being 150."
   ]
  },
  {
   "cell_type": "code",
   "execution_count": 28,
   "metadata": {
    "ExecuteTime": {
     "end_time": "2019-08-14T23:11:13.768340Z",
     "start_time": "2019-08-14T23:11:13.704213Z"
    }
   },
   "outputs": [
    {
     "name": "stdout",
     "output_type": "stream",
     "text": [
      "Number of unique values: 120\n"
     ]
    },
    {
     "data": {
      "text/plain": [
       "226.0    0.502161\n",
       "224.0    0.138031\n",
       "166.0    0.096759\n",
       "102.0    0.049285\n",
       "117.0    0.043928\n",
       "Name: card5, dtype: float64"
      ]
     },
     "execution_count": 28,
     "metadata": {},
     "output_type": "execute_result"
    }
   ],
   "source": [
    "### 'card5' feature\n",
    "print('Number of unique values:', len(train['card5'].unique()))\n",
    "train['card5'].value_counts(dropna=False, normalize=True).head()"
   ]
  },
  {
   "cell_type": "markdown",
   "metadata": {},
   "source": [
    "'card5' has 50% of its values being 226."
   ]
  },
  {
   "cell_type": "code",
   "execution_count": 29,
   "metadata": {
    "ExecuteTime": {
     "end_time": "2019-08-14T23:11:14.707599Z",
     "start_time": "2019-08-14T23:11:13.771054Z"
    },
    "scrolled": false
   },
   "outputs": [
    {
     "name": "stdout",
     "output_type": "stream",
     "text": [
      "Number of unique values: 5\n"
     ]
    },
    {
     "data": {
      "text/plain": [
       "visa                0.651551\n",
       "mastercard          0.320414\n",
       "american express    0.014102\n",
       "discover            0.011263\n",
       "NaN                 0.002670\n",
       "Name: card4, dtype: float64"
      ]
     },
     "execution_count": 29,
     "metadata": {},
     "output_type": "execute_result"
    },
    {
     "data": {
      "image/png": "[encoded data removed]",
      "text/plain": [
       "<Figure size 720x504 with 1 Axes>"
      ]
     },
     "metadata": {},
     "output_type": "display_data"
    }
   ],
   "source": [
    "### 'card4' feature\n",
    "PlotFunction(train, 'card4', 'Number of card types', 'Card types', 'Number of card occurrences', percentLabels=True)\n",
    "\n",
    "print('Number of unique values:', len(train['card4'].unique()))\n",
    "train['card4'].value_counts(dropna=False, normalize=True).head(10)"
   ]
  },
  {
   "cell_type": "markdown",
   "metadata": {},
   "source": [
    "'visa' cards are have the highest use in this dataset at 65%."
   ]
  },
  {
   "cell_type": "code",
   "execution_count": 30,
   "metadata": {
    "ExecuteTime": {
     "end_time": "2019-08-14T23:11:15.653959Z",
     "start_time": "2019-08-14T23:11:14.708601Z"
    }
   },
   "outputs": [
    {
     "name": "stdout",
     "output_type": "stream",
     "text": [
      "Number of unique values: 5\n"
     ]
    },
    {
     "data": {
      "text/plain": [
       "debit              0.744976\n",
       "credit             0.252288\n",
       "NaN                0.002660\n",
       "debit or credit    0.000051\n",
       "charge card        0.000025\n",
       "Name: card6, dtype: float64"
      ]
     },
     "execution_count": 30,
     "metadata": {},
     "output_type": "execute_result"
    },
    {
     "data": {
      "image/png": "[encoded data removed]",
      "text/plain": [
       "<Figure size 720x504 with 1 Axes>"
      ]
     },
     "metadata": {},
     "output_type": "display_data"
    }
   ],
   "source": [
    "### 'card6' feature\n",
    "PlotFunction(train, 'card6', 'Number of account types', 'Account types', 'Number of account type occurrences', percentLabels=True)\n",
    "\n",
    "print('Number of unique values:', len(train['card6'].unique()))\n",
    "train['card6'].value_counts(dropna=False, normalize=True).head(10)"
   ]
  },
  {
   "cell_type": "markdown",
   "metadata": {},
   "source": [
    "'debit' account types have the highest use in this dataset at 75%."
   ]
  },
  {
   "cell_type": "code",
   "execution_count": 31,
   "metadata": {
    "ExecuteTime": {
     "end_time": "2019-08-14T23:11:15.722934Z",
     "start_time": "2019-08-14T23:11:15.657740Z"
    }
   },
   "outputs": [
    {
     "name": "stdout",
     "output_type": "stream",
     "text": [
      "Number of unique values: 333\n"
     ]
    },
    {
     "data": {
      "text/plain": [
       "NaN      0.111264\n",
       "299.0    0.078462\n",
       "325.0    0.072393\n",
       "204.0    0.071155\n",
       "264.0    0.067514\n",
       "330.0    0.044513\n",
       "315.0    0.039079\n",
       "441.0    0.035268\n",
       "272.0    0.034106\n",
       "123.0    0.027272\n",
       "Name: billing zipcode, dtype: float64"
      ]
     },
     "execution_count": 31,
     "metadata": {},
     "output_type": "execute_result"
    }
   ],
   "source": [
    "### 'billing zipcode' feature\n",
    "print('Number of unique values:', len(train['billing zipcode'].unique()))\n",
    "train['billing zipcode'].value_counts(dropna=False, normalize=True).head(10)"
   ]
  },
  {
   "cell_type": "code",
   "execution_count": 32,
   "metadata": {
    "ExecuteTime": {
     "end_time": "2019-08-14T23:11:15.785994Z",
     "start_time": "2019-08-14T23:11:15.727684Z"
    }
   },
   "outputs": [
    {
     "name": "stdout",
     "output_type": "stream",
     "text": [
      "Number of unique values: 75\n"
     ]
    },
    {
     "data": {
      "text/plain": [
       "87.0    0.881365\n",
       "NaN     0.111264\n",
       "60.0    0.005222\n",
       "96.0    0.001080\n",
       "32.0    0.000154\n",
       "Name: country codes, dtype: float64"
      ]
     },
     "execution_count": 32,
     "metadata": {},
     "output_type": "execute_result"
    }
   ],
   "source": [
    "### 'country codes' feature\n",
    "print('Number of unique values:', len(train['country codes'].unique()))\n",
    "train['country codes'].value_counts(dropna=False, normalize=True).head()"
   ]
  },
  {
   "cell_type": "markdown",
   "metadata": {},
   "source": [
    "It seems that 88% of transactions have come from <a href='https://en.wikipedia.org/wiki/List_of_UIC_country_codes'>France</a>. 11% of transactions that do not have a country code, however, it is unlikely that all of these transactions belong to the one country."
   ]
  },
  {
   "cell_type": "code",
   "execution_count": 33,
   "metadata": {
    "ExecuteTime": {
     "end_time": "2019-08-14T23:11:18.477758Z",
     "start_time": "2019-08-14T23:11:15.789999Z"
    }
   },
   "outputs": [
    {
     "name": "stdout",
     "output_type": "stream",
     "text": [
      "Number of unique values: 60\n"
     ]
    },
    {
     "data": {
      "text/plain": [
       "gmail.com        0.386688\n",
       "yahoo.com        0.170918\n",
       "NaN              0.159949\n",
       "hotmail.com      0.076625\n",
       "anonymous.com    0.062651\n",
       "Name: Purchaser_emaildom, dtype: float64"
      ]
     },
     "execution_count": 33,
     "metadata": {},
     "output_type": "execute_result"
    },
    {
     "data": {
      "image/png": "[encoded data removed]",
      "text/plain": [
       "<Figure size 720x504 with 1 Axes>"
      ]
     },
     "metadata": {},
     "output_type": "display_data"
    }
   ],
   "source": [
    "### 'Purchaser Email' feature\n",
    "PlotFunction(train, 'Purchaser_emaildom', 'Number of Purchaser email types', 'Email types',\n",
    "             'Number of email type occurrences', vertical=True, percentLabels=False)\n",
    "\n",
    "print('Number of unique values:', len(train['Purchaser_emaildom'].unique()))\n",
    "train['Purchaser_emaildom'].value_counts(dropna=False, normalize=True).head()"
   ]
  },
  {
   "cell_type": "markdown",
   "metadata": {},
   "source": [
    "'gmail.com' accounts for 38% of the emails tied with purchaser transactions."
   ]
  },
  {
   "cell_type": "code",
   "execution_count": 34,
   "metadata": {
    "ExecuteTime": {
     "end_time": "2019-08-14T23:11:21.131605Z",
     "start_time": "2019-08-14T23:11:18.480245Z"
    }
   },
   "outputs": [
    {
     "name": "stdout",
     "output_type": "stream",
     "text": [
      "Number of unique values: 60\n"
     ]
    },
    {
     "data": {
      "text/plain": [
       "NaN              0.767516\n",
       "gmail.com        0.096771\n",
       "hotmail.com      0.046583\n",
       "anonymous.com    0.034763\n",
       "yahoo.com        0.020053\n",
       "Name: Retailer_email.dom, dtype: float64"
      ]
     },
     "execution_count": 34,
     "metadata": {},
     "output_type": "execute_result"
    },
    {
     "data": {
      "image/png": "[encoded data removed]",
      "text/plain": [
       "<Figure size 720x504 with 1 Axes>"
      ]
     },
     "metadata": {},
     "output_type": "display_data"
    }
   ],
   "source": [
    "# 'Purchaser Email' feature\n",
    "PlotFunction(train, 'Retailer_email.dom', 'Number of Purchaser email types', 'Email types',\n",
    "             'Number of email type occurrences', vertical=True, percentLabels=False)\n",
    "\n",
    "print('Number of unique values:', len(train['Purchaser_emaildom'].unique()))\n",
    "train['Retailer_email.dom'].value_counts(dropna=False, normalize=True).head()"
   ]
  },
  {
   "cell_type": "markdown",
   "metadata": {},
   "source": [
    "'gmail.com' accounts for 77% of the emails tied with retailer transactions."
   ]
  },
  {
   "cell_type": "code",
   "execution_count": 35,
   "metadata": {
    "ExecuteTime": {
     "end_time": "2019-08-14T23:11:21.143529Z",
     "start_time": "2019-08-14T23:11:21.134837Z"
    }
   },
   "outputs": [],
   "source": [
    "feature_names = ['C1','C2','C3','C4','C5','C6','C7','C8','C9','C10','C11','C12','C13','C14']"
   ]
  },
  {
   "cell_type": "code",
   "execution_count": null,
   "metadata": {},
   "outputs": [],
   "source": []
  },
  {
   "cell_type": "code",
   "execution_count": 36,
   "metadata": {
    "ExecuteTime": {
     "end_time": "2019-08-14T23:11:21.163577Z",
     "start_time": "2019-08-14T23:11:21.145556Z"
    }
   },
   "outputs": [],
   "source": [
    "feature_names = ['D1','D2','D3','D4','D5','D6','D7','D8','D9','D10','D11','D12','D13','D14','D15']"
   ]
  },
  {
   "cell_type": "code",
   "execution_count": null,
   "metadata": {},
   "outputs": [],
   "source": []
  },
  {
   "cell_type": "code",
   "execution_count": null,
   "metadata": {},
   "outputs": [],
   "source": []
  },
  {
   "cell_type": "code",
   "execution_count": 37,
   "metadata": {
    "ExecuteTime": {
     "end_time": "2019-08-14T23:11:25.173808Z",
     "start_time": "2019-08-14T23:11:21.164614Z"
    },
    "scrolled": false
   },
   "outputs": [
    {
     "data": {
      "image/png": "[encoded data removed]",
      "text/plain": [
       "<Figure size 1224x720 with 9 Axes>"
      ]
     },
     "metadata": {},
     "output_type": "display_data"
    }
   ],
   "source": [
    "feature_names = ['M1', 'M2', 'M4', 'M3', 'M5', 'M6', 'M7', 'M8', 'M9']\n",
    "\n",
    "fig, axes = plt.subplots(3, 3, figsize=(17, 10))\n",
    "\n",
    "j = 0\n",
    "for row in axes:\n",
    "    for ax in row:\n",
    "        ax.set_title(feature_names[j])\n",
    "        ax.set_ylabel('Count')\n",
    "        ax.set_xlabel(feature_names[j])\n",
    "\n",
    "        plot = ax.bar([str(i) for i in train[feature_names[j]].value_counts(dropna=False, normalize=True).index],\n",
    "                      train[feature_names[j]].value_counts(\n",
    "                          dropna=False, normalize=True), 0.40,\n",
    "                      color=['cornflowerblue', 'darkorange', 'green', 'brown', 'black'])\n",
    "        j += 1\n",
    "\n",
    "plt.tight_layout()"
   ]
  },
  {
   "cell_type": "code",
   "execution_count": null,
   "metadata": {},
   "outputs": [],
   "source": []
  },
  {
   "cell_type": "code",
   "execution_count": 38,
   "metadata": {
    "ExecuteTime": {
     "end_time": "2019-08-14T23:11:25.185144Z",
     "start_time": "2019-08-14T23:11:25.176407Z"
    }
   },
   "outputs": [],
   "source": [
    "feature_names = ['id_12', 'id_15', 'id_16', 'id_28', 'id_29', 'id_30', 'id_31', 'id_32', 'id_33', 'id_34', 'id_35', 'id_36', 'id_37', 'id_38']\n"
   ]
  },
  {
   "cell_type": "code",
   "execution_count": null,
   "metadata": {},
   "outputs": [],
   "source": []
  },
  {
   "cell_type": "markdown",
   "metadata": {},
   "source": [
    "### SMOTE or Oversampling"
   ]
  },
  {
   "cell_type": "code",
   "execution_count": null,
   "metadata": {},
   "outputs": [],
   "source": []
  },
  {
   "cell_type": "code",
   "execution_count": null,
   "metadata": {},
   "outputs": [],
   "source": []
  },
  {
   "cell_type": "markdown",
   "metadata": {},
   "source": [
    "### Handling Missing Values\n",
    "Due to the large number of NaN values our dataframes contain, it is critical that they are replaced with a meaningful placeholder."
   ]
  },
  {
   "cell_type": "code",
   "execution_count": 39,
   "metadata": {
    "ExecuteTime": {
     "end_time": "2019-08-14T23:11:26.097775Z",
     "start_time": "2019-08-14T23:11:25.189356Z"
    }
   },
   "outputs": [],
   "source": [
    "y = train[['isFraud']].copy()\n",
    "X = train.drop('isFraud', axis=1)\n",
    "\n",
    "real_dataset = test.copy()\n",
    "del train, test"
   ]
  },
  {
   "cell_type": "markdown",
   "metadata": {},
   "source": [
    "Features that consist of more than 5% missing values will be excluded as the potential effect of bias may become to large."
   ]
  },
  {
   "cell_type": "code",
   "execution_count": 40,
   "metadata": {
    "ExecuteTime": {
     "end_time": "2019-08-14T23:11:26.623672Z",
     "start_time": "2019-08-14T23:11:26.101393Z"
    }
   },
   "outputs": [],
   "source": [
    "real_dataset.drop(test_missing_values_5.index, axis=1, inplace=True)\n",
    "X.drop(train_missing_values_5.index, axis=1, inplace=True)"
   ]
  },
  {
   "cell_type": "markdown",
   "metadata": {},
   "source": [
    "As our decision stump can not accept NaN values as input, we must replace them with a valid value. For numerical features, the mean will be used and for categorical variables, the mode will be used.\n",
    "\n",
    "<b>Note: imputing the mean and mode introduces potential bias into the data. This will degrade our model and affect its prediction accuracy</b>"
   ]
  },
  {
   "cell_type": "code",
   "execution_count": 41,
   "metadata": {
    "ExecuteTime": {
     "end_time": "2019-08-14T23:11:26.633417Z",
     "start_time": "2019-08-14T23:11:26.623672Z"
    }
   },
   "outputs": [],
   "source": [
    "# # Finding feature with missing columns\n",
    "# missing_columns = X.columns[X.isna().any()].tolist()\n",
    "\n",
    "# # Categorical boolean mask\n",
    "# categorical_feature_mask = X.dtypes==object\n",
    "# # Filter categorical columns using mask\n",
    "# categorical_cols = X.columns[categorical_feature_mask].tolist()"
   ]
  },
  {
   "cell_type": "code",
   "execution_count": 42,
   "metadata": {
    "ExecuteTime": {
     "end_time": "2019-08-14T23:11:26.652687Z",
     "start_time": "2019-08-14T23:11:26.636561Z"
    }
   },
   "outputs": [],
   "source": [
    "# # Seperating categorical and numerical features\n",
    "# cat_feat_contain_nan = []\n",
    "# for feat in categorical_cols:\n",
    "#     if feat in missing_columns:\n",
    "#         cat_feat_contain_nan.append(feat)\n",
    "#         missing_columns.remove(feat)"
   ]
  },
  {
   "cell_type": "code",
   "execution_count": 43,
   "metadata": {
    "ExecuteTime": {
     "end_time": "2019-08-14T23:11:26.673963Z",
     "start_time": "2019-08-14T23:11:26.653688Z"
    }
   },
   "outputs": [],
   "source": [
    "# # Mean imputation\n",
    "# X[missing_columns] = X[missing_columns].fillna(X[missing_columns].mean())"
   ]
  },
  {
   "cell_type": "code",
   "execution_count": 44,
   "metadata": {
    "ExecuteTime": {
     "end_time": "2019-08-14T23:11:26.698990Z",
     "start_time": "2019-08-14T23:11:26.677790Z"
    }
   },
   "outputs": [],
   "source": [
    "# # Mode imputation\n",
    "# X[cat_feat_contain_nan] = X[cat_feat_contain_nan].fillna(X[cat_feat_contain_nan].mode())"
   ]
  },
  {
   "cell_type": "markdown",
   "metadata": {},
   "source": [
    "### Feature Selection\n",
    "#### Encoding Categorical Variables\n",
    "Before we begin feature selection, it is important to transform any categorical features into numerical values for our decision stump to accept them. \n",
    "\n",
    "The LabelEncoder class has been utilized for this task."
   ]
  },
  {
   "cell_type": "code",
   "execution_count": 45,
   "metadata": {
    "ExecuteTime": {
     "end_time": "2019-08-14T23:11:26.717834Z",
     "start_time": "2019-08-14T23:11:26.701044Z"
    }
   },
   "outputs": [],
   "source": [
    "# X[categorical_cols] = X[categorical_cols].astype('str')"
   ]
  },
  {
   "cell_type": "code",
   "execution_count": 46,
   "metadata": {
    "ExecuteTime": {
     "end_time": "2019-08-14T23:11:26.740037Z",
     "start_time": "2019-08-14T23:11:26.722369Z"
    }
   },
   "outputs": [],
   "source": [
    "# le = LabelEncoder()\n",
    "# X[categorical_cols] = X[categorical_cols].apply(lambda col: le.fit_transform(col))"
   ]
  },
  {
   "cell_type": "code",
   "execution_count": null,
   "metadata": {
    "ExecuteTime": {
     "end_time": "2019-08-14T21:54:22.926078Z",
     "start_time": "2019-08-14T21:54:22.915121Z"
    }
   },
   "outputs": [],
   "source": []
  },
  {
   "cell_type": "code",
   "execution_count": null,
   "metadata": {},
   "outputs": [],
   "source": []
  },
  {
   "cell_type": "code",
   "execution_count": null,
   "metadata": {},
   "outputs": [],
   "source": []
  },
  {
   "cell_type": "code",
   "execution_count": 47,
   "metadata": {
    "ExecuteTime": {
     "end_time": "2019-08-14T23:11:26.761170Z",
     "start_time": "2019-08-14T23:11:26.743958Z"
    }
   },
   "outputs": [],
   "source": [
    "# missing_columns = ['card2', 'card3', 'card5', 'D1']"
   ]
  },
  {
   "cell_type": "code",
   "execution_count": 48,
   "metadata": {
    "ExecuteTime": {
     "end_time": "2019-08-14T23:11:26.780473Z",
     "start_time": "2019-08-14T23:11:26.765253Z"
    }
   },
   "outputs": [],
   "source": [
    "# import sys\n",
    "# from impyute.imputation.cs import fast_knn\n",
    "# sys.setrecursionlimit(100000) #Increase the recursion limit of the OS\n",
    "\n",
    "# # start the KNN training\n",
    "# imputed_training=fast_knn(X[missing_columns].values, k=30)"
   ]
  },
  {
   "cell_type": "code",
   "execution_count": 49,
   "metadata": {
    "ExecuteTime": {
     "end_time": "2019-08-14T23:11:26.803518Z",
     "start_time": "2019-08-14T23:11:26.781472Z"
    }
   },
   "outputs": [],
   "source": [
    "# from impyute.imputation.cs import mice\n",
    "\n",
    "# start the MICE training\n",
    "# imputed_training=mice(X[missing_columns].values)"
   ]
  },
  {
   "cell_type": "code",
   "execution_count": 50,
   "metadata": {
    "ExecuteTime": {
     "end_time": "2019-08-14T23:11:26.827002Z",
     "start_time": "2019-08-14T23:11:26.808542Z"
    }
   },
   "outputs": [],
   "source": [
    "# imputed_training"
   ]
  },
  {
   "cell_type": "code",
   "execution_count": 51,
   "metadata": {
    "ExecuteTime": {
     "end_time": "2019-08-14T23:11:26.847429Z",
     "start_time": "2019-08-14T23:11:26.832275Z"
    }
   },
   "outputs": [],
   "source": [
    "# pd.DataFrame(imputed_training, columns=missing_columns)"
   ]
  },
  {
   "cell_type": "code",
   "execution_count": null,
   "metadata": {},
   "outputs": [],
   "source": []
  },
  {
   "cell_type": "code",
   "execution_count": null,
   "metadata": {},
   "outputs": [],
   "source": []
  },
  {
   "cell_type": "markdown",
   "metadata": {},
   "source": [
    "### Testing Feature Strength\n",
    "To test which features might act as good predictors, a Chi-Squared test and an ANOVA test will be performed. As the Chi-Squared test only accept positive values, we must divide the features into a positive and negative set.\n",
    "\n",
    "<b>Note: As mean features have been dropped or altered at this point, there maybe no features containing negative values.</b>"
   ]
  },
  {
   "cell_type": "code",
   "execution_count": 52,
   "metadata": {
    "ExecuteTime": {
     "end_time": "2019-08-14T23:11:26.864544Z",
     "start_time": "2019-08-14T23:11:26.851492Z"
    }
   },
   "outputs": [],
   "source": [
    "# negative_containing_columns = X.columns[(X < 0).any()].tolist()\n",
    "# X_positive = X.drop(negative_containing_columns, axis=1)\n",
    "# X_negative = X[negative_containing_columns]"
   ]
  },
  {
   "cell_type": "markdown",
   "metadata": {},
   "source": [
    "#### Chi Squared Test"
   ]
  },
  {
   "cell_type": "code",
   "execution_count": 53,
   "metadata": {
    "ExecuteTime": {
     "end_time": "2019-08-14T23:11:26.887747Z",
     "start_time": "2019-08-14T23:11:26.867825Z"
    },
    "scrolled": true
   },
   "outputs": [],
   "source": [
    "# bestfeatures = SelectKBest(score_func=chi2, k=10)\n",
    "# fit = bestfeatures.fit(X, y)\n",
    "# featureScores = pd.DataFrame(fit.scores_, columns=['Score'])\n",
    "# featureScores['Specs'] = X.columns\n",
    "\n",
    "# # Returns the best 10 features\n",
    "# features = np.array(featureScores.nlargest(10, 'Score')['Specs']).tolist()"
   ]
  },
  {
   "cell_type": "code",
   "execution_count": 54,
   "metadata": {
    "ExecuteTime": {
     "end_time": "2019-08-14T23:11:26.907609Z",
     "start_time": "2019-08-14T23:11:26.892795Z"
    }
   },
   "outputs": [],
   "source": [
    "features = ['TransactionAmt','TransactionDT']"
   ]
  },
  {
   "cell_type": "markdown",
   "metadata": {},
   "source": [
    "### ANOVA Test"
   ]
  },
  {
   "cell_type": "code",
   "execution_count": 55,
   "metadata": {
    "ExecuteTime": {
     "end_time": "2019-08-14T23:11:26.927758Z",
     "start_time": "2019-08-14T23:11:26.912714Z"
    }
   },
   "outputs": [],
   "source": [
    "# if len(negative_containing_columns) != 0:\n",
    "#     f_values, p_values = f_classif(X_negative,y)\n",
    "#     d = pd.DataFrame([X_negative.columns, f_values, p_values], columns=['features','f_values','p_values']).T\n",
    "    "
   ]
  },
  {
   "cell_type": "code",
   "execution_count": 56,
   "metadata": {
    "ExecuteTime": {
     "end_time": "2019-08-14T23:11:26.954655Z",
     "start_time": "2019-08-14T23:11:26.931934Z"
    }
   },
   "outputs": [],
   "source": [
    "# features = X.columns"
   ]
  },
  {
   "cell_type": "markdown",
   "metadata": {},
   "source": [
    "##### Seperating training data"
   ]
  },
  {
   "cell_type": "code",
   "execution_count": 57,
   "metadata": {
    "ExecuteTime": {
     "end_time": "2019-08-14T23:11:27.349242Z",
     "start_time": "2019-08-14T23:11:26.959830Z"
    }
   },
   "outputs": [],
   "source": [
    "\n",
    "# # MinMax scaling\n",
    "# scaler = MinMaxScaler().fit(X[features].values)\n",
    "# X = scaler.transform(X[features].values)\n",
    "\n",
    "# Train/test split\n",
    "X_train, X_test, y_train, y_test = train_test_split(\n",
    "    X, y, test_size=0.3, random_state=42)\n",
    "\n",
    "del X, y"
   ]
  },
  {
   "cell_type": "markdown",
   "metadata": {},
   "source": [
    "##### Data we are trying to predict"
   ]
  },
  {
   "cell_type": "markdown",
   "metadata": {},
   "source": [
    "#### Place holder"
   ]
  },
  {
   "cell_type": "code",
   "execution_count": null,
   "metadata": {
    "scrolled": true
   },
   "outputs": [],
   "source": []
  },
  {
   "cell_type": "markdown",
   "metadata": {},
   "source": [
    "#### Impute"
   ]
  },
  {
   "cell_type": "code",
   "execution_count": null,
   "metadata": {},
   "outputs": [],
   "source": []
  },
  {
   "cell_type": "code",
   "execution_count": null,
   "metadata": {},
   "outputs": [],
   "source": []
  },
  {
   "cell_type": "markdown",
   "metadata": {},
   "source": [
    "## Adaboost"
   ]
  },
  {
   "cell_type": "markdown",
   "metadata": {},
   "source": [
    "#### Default Variables"
   ]
  },
  {
   "cell_type": "code",
   "execution_count": 58,
   "metadata": {
    "ExecuteTime": {
     "end_time": "2019-08-14T23:11:27.377627Z",
     "start_time": "2019-08-14T23:11:27.353252Z"
    },
    "hide_input": false
   },
   "outputs": [],
   "source": [
    "def calculate_decision_stump_efficient(data, label, feature, weight):\n",
    "\n",
    "    Tp=np.float64(0); #T+ total sum of positive examples weights\n",
    "    Tn=np.float64(0) #T- total sum of negative examples weights\n",
    "    Sp=np.float64(0) #S+ sum of positive weights below the cuurent threshold\n",
    "    Sn=np.float64(0) #S- sum of negative weights below the current threshold\n",
    "    error1=np.float64(0)\n",
    "    error2=np.float64(0)\n",
    "    min_error=np.float64(2.0) \n",
    "    min_thresh=np.float64(0) \n",
    "    direction=1\n",
    "    N = len(data[:,feature])\n",
    "    \n",
    "    y = np.zeros(N, dtype=np.int64)\n",
    "    \n",
    "    #get all positive weights    \n",
    "    temp = (label == 1)\n",
    "    temp = np.int64(temp)\n",
    "    Tp = np.sum(temp * weight)\n",
    "    \n",
    "    #get all negative weights  \n",
    "    temp  = (label == -1)\n",
    "    temp = np.int64(temp)\n",
    "    Tn = np.sum(temp * weight)\n",
    "    \n",
    "    #sort feature values\n",
    "    sorted_labels = data[:, feature].argsort()\n",
    "    sorted_vector =  data[sorted_labels]\n",
    "\n",
    "    length = len(sorted_vector)\n",
    "    for i in range(length):\n",
    "\n",
    "        #RIGHT DIRECTION THRESHOLD\n",
    "        #error1 is the sum of positives up to that point + total negatives minus the sum of negatives so far\n",
    "        error1 = Sp + (Tn - Sn) \n",
    "        if label[sorted_labels[i]] == -1 : \n",
    "            Sn = Sn +  weight[sorted_labels[i]]\n",
    "        else :\n",
    "            Sp = Sp + weight[sorted_labels[i]]\n",
    "            \n",
    "        #LEFT DIRECTION THRESHOLD\n",
    "        error2 = Sn + (Tp - Sp) \n",
    "        \n",
    "        if(min_error > error1) :\n",
    "            min_error = error1\n",
    "            min_thresh = sorted_vector[i, feature]\n",
    "            direction = 1\n",
    "        if(min_error > error2) :\n",
    "            min_error = error2\n",
    "            min_thresh = sorted_vector[i, feature]\n",
    "            direction = -1           \n",
    "    \n",
    "    return min_thresh, direction, min_error\n",
    "       "
   ]
  },
  {
   "cell_type": "code",
   "execution_count": 59,
   "metadata": {
    "ExecuteTime": {
     "end_time": "2019-08-14T23:11:27.401567Z",
     "start_time": "2019-08-14T23:11:27.381403Z"
    },
    "hide_input": false
   },
   "outputs": [],
   "source": [
    "def classify_dataset_against_weak_classifier(x, thresh, direction):\n",
    "    \n",
    "    classification = np.zeros(len(x))\n",
    "    \n",
    "    #classifiy all samples based on the last feature\n",
    "    #get actual classification\n",
    "    for i in range(len(x)):\n",
    "        if direction == -1:\n",
    "            if x[i] < thresh: classification[i] = 1\n",
    "            else : classification[i] = -1\n",
    "        else:\n",
    "            if x[i] < thresh: classification[i] = -1\n",
    "            else : classification[i] = 1    \n",
    "        \n",
    "                \n",
    "    return classification "
   ]
  },
  {
   "cell_type": "code",
   "execution_count": 69,
   "metadata": {
    "ExecuteTime": {
     "end_time": "2019-08-14T23:14:24.736242Z",
     "start_time": "2019-08-14T23:14:24.718259Z"
    },
    "hide_input": false
   },
   "outputs": [],
   "source": [
    "# X: an two dimensional np.array of independent features values.\n",
    "# Y: an one dimensional np.array of actual target values. Values either {-1,1}.\n",
    "# T: number of boosting arounds.\n",
    "# features: a list of feature names.\n",
    "# learn_rate: the learning rate used to calculate alpha[t].\n",
    "def fit(X, Y, T, features, learn_rate):\n",
    "    \n",
    "    h=np.zeros([T,3], dtype=np.float64)\n",
    "    alphas = np.zeros(T, dtype=np.float64)\n",
    "    err = np.ones(T, dtype=np.float64) * np.inf\n",
    "    weight=np.ones(len(X), dtype=np.float64)/len(X)\n",
    "    \n",
    "    for t in range(T):\n",
    "        # Iterate through every feature in our training data.\n",
    "        for feature in range(len(features)):\n",
    "            weighted_error = np.float64(0)\n",
    "\n",
    "            # Build our decision stump.\n",
    "            threshold, sign, weighted_error = calculate_decision_stump_efficient(X, Y, feature, weight)\n",
    "\n",
    "            # Select the best model and feature that produces the lowest model error\n",
    "            if weighted_error < err[t] :\n",
    "                err[t] = weighted_error\n",
    "                h[t][0] = threshold\n",
    "                h[t][1] = feature\n",
    "                h[t][2] = sign\n",
    "\n",
    "        # Calculate alpha value based\n",
    "        alphas[t] = learn_rate * np.log( (1.0 - err[t])/err[t])\n",
    "        \n",
    "        # Make a prediction using t decision stump classifier\n",
    "        classification = classify_dataset_against_weak_classifier(X[:, int(h[t][1])], h[t][0], h[t][2] )\n",
    "\n",
    "        # Update the weights based on what was not correctly, some alpha value and a learning rate\n",
    "        weight *= np.exp(-1.0*alphas[t]*classification*labels)\n",
    "        \n",
    "        # Normalize the weights distribution\n",
    "        weight = weight / np.sum(weight)\n",
    "        \n",
    "    h = np.append(h,np.reshape(alphas,(-1,1)), axis=1)\n",
    "    return h"
   ]
  },
  {
   "cell_type": "code",
   "execution_count": 61,
   "metadata": {
    "ExecuteTime": {
     "end_time": "2019-08-14T23:11:27.459143Z",
     "start_time": "2019-08-14T23:11:27.434188Z"
    }
   },
   "outputs": [],
   "source": [
    "def predict(data_arr, boost_classif):\n",
    "    \n",
    "    classification_arr = np.zeros((len(data_arr),1))\n",
    "    \n",
    "    for idx, thresh, feat, sign, alpha in boost_classif.itertuples():\n",
    "        ht1 = np.sign(data_arr[:, int(feat)] - thresh) * sign\n",
    "        classification_arr += alpha*np.reshape(ht1,(-1,1))\n",
    "\n",
    "    classification_arr = np.where(classification_arr >= 0,1,-1)\n",
    "    \n",
    "    return classification_arr"
   ]
  },
  {
   "cell_type": "code",
   "execution_count": 62,
   "metadata": {
    "ExecuteTime": {
     "end_time": "2019-08-14T23:11:27.478331Z",
     "start_time": "2019-08-14T23:11:27.463318Z"
    }
   },
   "outputs": [],
   "source": [
    "def sum_classifier_votes_for_each_sample(dataset, classifier_df):\n",
    "    classification1 = np.float64(0)\n",
    "    neg = np.float64(0)\n",
    "    pos = np.float64(0)\n",
    "    for idx, thresh, feat, sign, alpha in classifier_df.itertuples():\n",
    "\n",
    "        ht1 = np.sign(dataset[:, int(feat)] - thresh) * sign\n",
    "        classification1 += alpha * ht1\n",
    "\n",
    "        neg += np.where(ht1 < 0, ht1, 0) * alpha\n",
    "        pos += np.where(ht1 >= 0, ht1, 0) * alpha\n",
    "\n",
    "    return classification1, pos, neg"
   ]
  },
  {
   "cell_type": "code",
   "execution_count": 63,
   "metadata": {
    "ExecuteTime": {
     "end_time": "2019-08-14T23:11:27.498294Z",
     "start_time": "2019-08-14T23:11:27.478331Z"
    }
   },
   "outputs": [],
   "source": [
    "def margin_calculation_for_training_samples(sign, pos, neg, tot_votes):\n",
    "    if np.sign(sign) < 0:\n",
    "        return np.abs(neg) / tot_votes, -1\n",
    "    else:\n",
    "        return pos / tot_votes, 1"
   ]
  },
  {
   "cell_type": "code",
   "execution_count": 64,
   "metadata": {
    "ExecuteTime": {
     "end_time": "2019-08-14T23:11:27.520594Z",
     "start_time": "2019-08-14T23:11:27.499839Z"
    }
   },
   "outputs": [],
   "source": [
    "def sign_of_margin(margin, classification, true_class_label):\n",
    "    if classification != true_class_label:\n",
    "        return -1 * margin\n",
    "    else:\n",
    "        return margin"
   ]
  },
  {
   "cell_type": "code",
   "execution_count": 65,
   "metadata": {
    "ExecuteTime": {
     "end_time": "2019-08-14T23:11:27.540842Z",
     "start_time": "2019-08-14T23:11:27.525693Z"
    }
   },
   "outputs": [],
   "source": [
    "def accuracy(statistic_df):\n",
    "    return np.sum(np.where(statistic_df['classification'] != statistic_df['true_class_label'],1,0)) / len(X_train_df)"
   ]
  },
  {
   "cell_type": "code",
   "execution_count": 66,
   "metadata": {
    "ExecuteTime": {
     "end_time": "2019-08-14T23:11:27.684805Z",
     "start_time": "2019-08-14T23:11:27.542836Z"
    },
    "hide_input": false
   },
   "outputs": [],
   "source": [
    "# Creating our np.array of features\n",
    "X_train_arr = X_train[features].values\n",
    "X_test_arr = X_test[features].values\n",
    "del X_train, X_test\n",
    "\n",
    "# Creating our np.array of target values\n",
    "labels = y_train.values\n",
    "pos1 = np.nonzero(labels == 1)\n",
    "pos2 = np.where(labels == 0)\n",
    "labels[pos2] = -1\n",
    "del y_train\n",
    "\n",
    "# Number of boosting rounds\n",
    "T=30\n",
    "\n",
    "# Alpha learning rate\n",
    "learning_rate = 0.5"
   ]
  },
  {
   "cell_type": "code",
   "execution_count": 70,
   "metadata": {
    "ExecuteTime": {
     "end_time": "2019-08-14T23:14:35.879297Z",
     "start_time": "2019-08-14T23:14:35.832993Z"
    }
   },
   "outputs": [
    {
     "ename": "MemoryError",
     "evalue": "",
     "output_type": "error",
     "traceback": [
      "\u001b[1;31m---------------------------------------------------------------------------\u001b[0m",
      "\u001b[1;31mMemoryError\u001b[0m                               Traceback (most recent call last)",
      "\u001b[1;32m<ipython-input-70-0e4f452e0013>\u001b[0m in \u001b[0;36m<module>\u001b[1;34m\u001b[0m\n\u001b[1;32m----> 1\u001b[1;33m \u001b[0mmodels\u001b[0m \u001b[1;33m=\u001b[0m \u001b[0mfit\u001b[0m\u001b[1;33m(\u001b[0m\u001b[0mX_train_arr\u001b[0m\u001b[1;33m,\u001b[0m\u001b[0mlabels\u001b[0m\u001b[1;33m,\u001b[0m\u001b[0mT\u001b[0m\u001b[1;33m,\u001b[0m\u001b[0mfeatures\u001b[0m\u001b[1;33m,\u001b[0m\u001b[0mlearning_rate\u001b[0m\u001b[1;33m)\u001b[0m\u001b[1;33m\u001b[0m\u001b[1;33m\u001b[0m\u001b[0m\n\u001b[0m",
      "\u001b[1;32m<ipython-input-69-018c63cbf0ac>\u001b[0m in \u001b[0;36mfit\u001b[1;34m(X, Y, T, features, learn_rate)\u001b[0m\n\u001b[0;32m     17\u001b[0m \u001b[1;33m\u001b[0m\u001b[0m\n\u001b[0;32m     18\u001b[0m             \u001b[1;31m# Build our decision stump.\u001b[0m\u001b[1;33m\u001b[0m\u001b[1;33m\u001b[0m\u001b[1;33m\u001b[0m\u001b[0m\n\u001b[1;32m---> 19\u001b[1;33m             \u001b[0mthreshold\u001b[0m\u001b[1;33m,\u001b[0m \u001b[0msign\u001b[0m\u001b[1;33m,\u001b[0m \u001b[0mweighted_error\u001b[0m \u001b[1;33m=\u001b[0m \u001b[0mcalculate_decision_stump_efficient\u001b[0m\u001b[1;33m(\u001b[0m\u001b[0mX\u001b[0m\u001b[1;33m,\u001b[0m \u001b[0mY\u001b[0m\u001b[1;33m,\u001b[0m \u001b[0mfeature\u001b[0m\u001b[1;33m,\u001b[0m \u001b[0mweight\u001b[0m\u001b[1;33m)\u001b[0m\u001b[1;33m\u001b[0m\u001b[1;33m\u001b[0m\u001b[0m\n\u001b[0m\u001b[0;32m     20\u001b[0m \u001b[1;33m\u001b[0m\u001b[0m\n\u001b[0;32m     21\u001b[0m             \u001b[1;31m# Select the best model and feature that produces the lowest model error\u001b[0m\u001b[1;33m\u001b[0m\u001b[1;33m\u001b[0m\u001b[1;33m\u001b[0m\u001b[0m\n",
      "\u001b[1;32m<ipython-input-58-28f768113a48>\u001b[0m in \u001b[0;36mcalculate_decision_stump_efficient\u001b[1;34m(data, label, feature, weight)\u001b[0m\n\u001b[0;32m     17\u001b[0m     \u001b[0mtemp\u001b[0m \u001b[1;33m=\u001b[0m \u001b[1;33m(\u001b[0m\u001b[0mlabel\u001b[0m \u001b[1;33m==\u001b[0m \u001b[1;36m1\u001b[0m\u001b[1;33m)\u001b[0m\u001b[1;33m\u001b[0m\u001b[1;33m\u001b[0m\u001b[0m\n\u001b[0;32m     18\u001b[0m     \u001b[0mtemp\u001b[0m \u001b[1;33m=\u001b[0m \u001b[0mnp\u001b[0m\u001b[1;33m.\u001b[0m\u001b[0mint64\u001b[0m\u001b[1;33m(\u001b[0m\u001b[0mtemp\u001b[0m\u001b[1;33m)\u001b[0m\u001b[1;33m\u001b[0m\u001b[1;33m\u001b[0m\u001b[0m\n\u001b[1;32m---> 19\u001b[1;33m     \u001b[0mprint\u001b[0m\u001b[1;33m(\u001b[0m\u001b[0mnp\u001b[0m\u001b[1;33m.\u001b[0m\u001b[0msum\u001b[0m\u001b[1;33m(\u001b[0m\u001b[0mtemp\u001b[0m \u001b[1;33m*\u001b[0m \u001b[0mweight\u001b[0m\u001b[1;33m)\u001b[0m\u001b[1;33m)\u001b[0m\u001b[1;33m\u001b[0m\u001b[1;33m\u001b[0m\u001b[0m\n\u001b[0m\u001b[0;32m     20\u001b[0m     \u001b[0mTp\u001b[0m \u001b[1;33m=\u001b[0m \u001b[0mnp\u001b[0m\u001b[1;33m.\u001b[0m\u001b[0msum\u001b[0m\u001b[1;33m(\u001b[0m\u001b[0mtemp\u001b[0m \u001b[1;33m*\u001b[0m \u001b[0mweight\u001b[0m\u001b[1;33m)\u001b[0m\u001b[1;33m\u001b[0m\u001b[1;33m\u001b[0m\u001b[0m\n\u001b[0;32m     21\u001b[0m \u001b[1;33m\u001b[0m\u001b[0m\n",
      "\u001b[1;31mMemoryError\u001b[0m: "
     ]
    }
   ],
   "source": [
    "models = fit(X_train_arr,labels,T,features,learning_rate)"
   ]
  },
  {
   "cell_type": "code",
   "execution_count": null,
   "metadata": {
    "ExecuteTime": {
     "end_time": "2019-08-14T23:11:27.917801Z",
     "start_time": "2019-08-14T23:09:59.818Z"
    }
   },
   "outputs": [],
   "source": [
    "classifier_df = pd.DataFrame(models, columns=['threshold','feature','direction','alpha'])"
   ]
  },
  {
   "cell_type": "code",
   "execution_count": null,
   "metadata": {
    "ExecuteTime": {
     "end_time": "2019-08-14T23:11:27.920599Z",
     "start_time": "2019-08-14T23:09:59.825Z"
    }
   },
   "outputs": [],
   "source": [
    "classified_arr = predict(X_train_arr, classifier_df)"
   ]
  },
  {
   "cell_type": "code",
   "execution_count": null,
   "metadata": {
    "ExecuteTime": {
     "end_time": "2019-08-14T23:11:27.923068Z",
     "start_time": "2019-08-14T23:09:59.834Z"
    }
   },
   "outputs": [],
   "source": [
    "i ="
   ]
  },
  {
   "cell_type": "markdown",
   "metadata": {},
   "source": [
    "## Calculating the margins and classifying the data"
   ]
  },
  {
   "cell_type": "markdown",
   "metadata": {},
   "source": [
    "Now that we have our ensemble of weak classifiers and the alphas for each boosting round, we can begin to measure how confident we are in our models generalizability"
   ]
  },
  {
   "cell_type": "code",
   "execution_count": null,
   "metadata": {
    "ExecuteTime": {
     "end_time": "2019-08-14T23:11:27.927057Z",
     "start_time": "2019-08-14T23:09:59.847Z"
    }
   },
   "outputs": [],
   "source": [
    "X_train_df = pd.DataFrame(X_train_arr)\n",
    "sum_alpha, pos_votes, neg_votes = sum_classifier_votes_for_each_sample(X_train_arr, classifier_df)\n",
    "X_train_df['sum_alpha'] = sum_alpha\n",
    "X_train_df['pos_votes'] = pos_votes\n",
    "X_train_df['neg_votes'] = neg_votes"
   ]
  },
  {
   "cell_type": "code",
   "execution_count": null,
   "metadata": {
    "ExecuteTime": {
     "end_time": "2019-08-14T23:11:27.930428Z",
     "start_time": "2019-08-14T23:09:59.856Z"
    }
   },
   "outputs": [],
   "source": [
    "X_train_df['total_alpha_votes'] = np.sum(classifier_df.alpha)\n",
    "result = X_train_df[['sum_alpha','pos_votes','neg_votes','total_alpha_votes']].apply(lambda x: margin_calculation_for_training_samples(*x), axis=1)\n",
    "X_train_df['margin'] = result.apply(lambda x: x[0])\n",
    "X_train_df['classification'] = result.apply(lambda x: x[1])\n",
    "X_train_df['true_class_label'] = labels\n",
    "X_train_df.head()"
   ]
  },
  {
   "cell_type": "code",
   "execution_count": null,
   "metadata": {
    "ExecuteTime": {
     "end_time": "2019-08-14T23:11:27.934528Z",
     "start_time": "2019-08-14T23:09:59.863Z"
    }
   },
   "outputs": [],
   "source": [
    "X_train_df['sign_of_margin'] = X_train_df[['margin', 'classification', 'true_class_label']].apply(lambda x: sign_of_margin(*x), axis=1)\n",
    "X_train_df.head()"
   ]
  },
  {
   "cell_type": "code",
   "execution_count": null,
   "metadata": {
    "ExecuteTime": {
     "end_time": "2019-08-14T23:11:27.936840Z",
     "start_time": "2019-08-14T23:09:59.870Z"
    }
   },
   "outputs": [],
   "source": [
    "import seaborn as sns\n",
    "sns.kdeplot(X_train_df['sign_of_margin'])"
   ]
  },
  {
   "cell_type": "code",
   "execution_count": null,
   "metadata": {
    "ExecuteTime": {
     "end_time": "2019-08-14T23:11:27.937963Z",
     "start_time": "2019-08-14T23:09:59.876Z"
    }
   },
   "outputs": [],
   "source": [
    "accuracy(X_train_df)"
   ]
  },
  {
   "cell_type": "markdown",
   "metadata": {
    "ExecuteTime": {
     "end_time": "2019-08-10T03:28:37.800065Z",
     "start_time": "2019-08-10T03:28:37.347914Z"
    }
   },
   "source": [
    "### We need to plot the margins for 30, 50, 100 and 400 boosting rounds"
   ]
  },
  {
   "cell_type": "code",
   "execution_count": null,
   "metadata": {
    "ExecuteTime": {
     "end_time": "2019-08-14T23:11:27.940823Z",
     "start_time": "2019-08-14T23:09:59.887Z"
    }
   },
   "outputs": [],
   "source": [
    "def plot_margin(data, labels, T, features, learning_rate,):\n",
    "    \n",
    "    sign_name = 'sign_of_margin_' + len(T) + 'T'\n",
    "\n",
    "    models, alphas = fit(data,labels,T,features,learning_rate)\n",
    "    \n",
    "    models_df = pd.DataFrame(models, columns=['threshold','feature','direction'])\n",
    "    models_df['alpha'] = alphas\n",
    "\n",
    "\n",
    "    statistics_df = pd.DataFrame(X_train_arr)\n",
    "    sum_alpha, pos_votes, neg_votes = sum_classifier_votes_for_each_sample(data, models_df)\n",
    "    statistics_df['sum_alpha'] = sum_alpha\n",
    "    statistics_df['pos_votes'] = pos_votes\n",
    "    statistics_df['neg_votes'] = neg_votes\n",
    "\n",
    "\n",
    "    statistics_df['total_alpha_votes'] = np.sum(classifier_df.alpha)\n",
    "    result = statistics_df[['sum_alpha','pos_votes','neg_votes','total_alpha_votes']].apply(lambda x: margin_calculation_for_training_samples(*x), axis=1)\n",
    "    statistics_df['margin'] = result.apply(lambda x: x[0])\n",
    "    statistics_df['classification'] = result.apply(lambda x: x[1])\n",
    "    statistics_df['true_class_label'] = labels\n",
    "\n",
    "\n",
    "    statistics_df[sign_name] = X_train_df_30T[['margin', 'classification', 'true_class_label']].apply(lambda x: sign_of_margin(*x), axis=1)\n",
    "    "
   ]
  },
  {
   "cell_type": "code",
   "execution_count": null,
   "metadata": {
    "ExecuteTime": {
     "end_time": "2019-08-14T23:11:27.943814Z",
     "start_time": "2019-08-14T23:09:59.894Z"
    }
   },
   "outputs": [],
   "source": [
    "T = 30\n",
    "models, alphas = fit(X_train_arr,labels,T,features,learning_rate)"
   ]
  },
  {
   "cell_type": "code",
   "execution_count": null,
   "metadata": {
    "ExecuteTime": {
     "end_time": "2019-08-14T23:11:27.943814Z",
     "start_time": "2019-08-14T23:09:59.901Z"
    }
   },
   "outputs": [],
   "source": [
    "classifier_df = pd.DataFrame(models, columns=['threshold','feature','direction'])\n",
    "classifier_df['alpha'] = alphas\n",
    "# classifier_df.head()\n",
    "\n",
    "\n",
    "X_train_df_30T = pd.DataFrame(X_train_arr)\n",
    "sum_alpha, pos_votes, neg_votes = sum_classifier_votes_for_each_sample(X_train_arr, classifier_df)\n",
    "X_train_df_30T['sum_alpha'] = sum_alpha\n",
    "X_train_df_30T['pos_votes'] = pos_votes\n",
    "X_train_df_30T['neg_votes'] = neg_votes\n",
    "\n",
    "\n",
    "X_train_df_30T['total_alpha_votes'] = np.sum(classifier_df.alpha)\n",
    "result = X_train_df[['sum_alpha','pos_votes','neg_votes','total_alpha_votes']].apply(lambda x: margin_calculation_for_training_samples(*x), axis=1)\n",
    "X_train_df_30T['margin'] = result.apply(lambda x: x[0])\n",
    "X_train_df_30T['classification'] = result.apply(lambda x: x[1])\n",
    "X_train_df_30T['true_class_label'] = labels\n",
    "X_train_df_30T.head()\n",
    "\n",
    "\n",
    "X_train_df_30T['sign_of_margin_30T'] = X_train_df_30T[['margin', 'classification', 'true_class_label']].apply(lambda x: sign_of_margin(*x), axis=1)\n",
    "X_train_df_30T.head()"
   ]
  },
  {
   "cell_type": "code",
   "execution_count": null,
   "metadata": {},
   "outputs": [],
   "source": []
  },
  {
   "cell_type": "code",
   "execution_count": null,
   "metadata": {
    "ExecuteTime": {
     "end_time": "2019-08-14T23:11:27.947611Z",
     "start_time": "2019-08-14T23:09:59.914Z"
    }
   },
   "outputs": [],
   "source": [
    "T = 50\n",
    "models, alphas = fit(X_train_arr,labels,T,features,learning_rate)"
   ]
  },
  {
   "cell_type": "code",
   "execution_count": null,
   "metadata": {
    "ExecuteTime": {
     "end_time": "2019-08-14T23:11:27.949621Z",
     "start_time": "2019-08-14T23:09:59.920Z"
    }
   },
   "outputs": [],
   "source": [
    "classifier_df = pd.DataFrame(models, columns=['threshold','feature','direction'])\n",
    "classifier_df['alpha'] = alphas\n",
    "# classifier_df.head()\n",
    "\n",
    "\n",
    "X_train_df_50T = pd.DataFrame(X_train_arr)\n",
    "sum_alpha, pos_votes, neg_votes = sum_classifier_votes_for_each_sample(X_train_arr, classifier_df)\n",
    "X_train_df_50T['sum_alpha'] = sum_alpha\n",
    "X_train_df_50T['pos_votes'] = pos_votes\n",
    "X_train_df_50T['neg_votes'] = neg_votes\n",
    "\n",
    "\n",
    "X_train_df_50T['total_alpha_votes'] = np.sum(classifier_df.alpha)\n",
    "result = X_train_df_50T[['sum_alpha','pos_votes','neg_votes','total_alpha_votes']].apply(lambda x: margin_calculation_for_training_samples(*x), axis=1)\n",
    "X_train_df_50T['margin'] = result.apply(lambda x: x[0])\n",
    "X_train_df_50T['classification'] = result.apply(lambda x: x[1])\n",
    "X_train_df_50T['true_class_label'] = labels\n",
    "X_train_df_50T.head()\n",
    "\n",
    "\n",
    "X_train_df_50T['sign_of_margin_50T'] = X_train_df_50T[['margin', 'classification', 'true_class_label']].apply(lambda x: sign_of_margin(*x), axis=1)\n",
    "X_train_df_50T.head()"
   ]
  },
  {
   "cell_type": "code",
   "execution_count": null,
   "metadata": {},
   "outputs": [],
   "source": []
  },
  {
   "cell_type": "code",
   "execution_count": null,
   "metadata": {
    "ExecuteTime": {
     "end_time": "2019-08-14T23:11:27.949621Z",
     "start_time": "2019-08-14T23:09:59.932Z"
    }
   },
   "outputs": [],
   "source": [
    "T = 100\n",
    "models, alphas = fit(X_train_arr,labels,T,features,learning_rate)"
   ]
  },
  {
   "cell_type": "code",
   "execution_count": null,
   "metadata": {
    "ExecuteTime": {
     "end_time": "2019-08-14T23:11:27.953357Z",
     "start_time": "2019-08-14T23:09:59.940Z"
    }
   },
   "outputs": [],
   "source": [
    "classifier_df = pd.DataFrame(models, columns=['threshold','feature','direction'])\n",
    "classifier_df['alpha'] = alphas\n",
    "# classifier_df.head()\n",
    "\n",
    "\n",
    "X_train_df_100T = pd.DataFrame(X_train_arr)\n",
    "sum_alpha, pos_votes, neg_votes = sum_classifier_votes_for_each_sample(X_train_arr, classifier_df)\n",
    "X_train_df_100T['sum_alpha'] = sum_alpha\n",
    "X_train_df_100T['pos_votes'] = pos_votes\n",
    "X_train_df_100T['neg_votes'] = neg_votes\n",
    "\n",
    "\n",
    "X_train_df_100T['total_alpha_votes'] = np.sum(classifier_df.alpha)\n",
    "result = X_train_df_100T[['sum_alpha','pos_votes','neg_votes','total_alpha_votes']].apply(lambda x: margin_calculation_for_training_samples(*x), axis=1)\n",
    "X_train_df_100T['margin'] = result.apply(lambda x: x[0])\n",
    "X_train_df_100T['classification'] = result.apply(lambda x: x[1])\n",
    "X_train_df_100T['true_class_label'] = labels\n",
    "X_train_df_100T.head()\n",
    "\n",
    "\n",
    "X_train_df_100T['sign_of_margin_100T'] = X_train_df_100T[['margin', 'classification', 'true_class_label']].apply(lambda x: sign_of_margin(*x), axis=1)\n",
    "X_train_df_100T.head()"
   ]
  },
  {
   "cell_type": "code",
   "execution_count": null,
   "metadata": {},
   "outputs": [],
   "source": []
  },
  {
   "cell_type": "code",
   "execution_count": null,
   "metadata": {
    "ExecuteTime": {
     "end_time": "2019-08-14T23:11:27.955183Z",
     "start_time": "2019-08-14T23:09:59.954Z"
    }
   },
   "outputs": [],
   "source": [
    "T = 250\n",
    "models, alphas = fit(X_train_arr,labels,T,features,learning_rate)"
   ]
  },
  {
   "cell_type": "code",
   "execution_count": null,
   "metadata": {
    "ExecuteTime": {
     "end_time": "2019-08-14T23:11:27.958024Z",
     "start_time": "2019-08-14T23:09:59.961Z"
    }
   },
   "outputs": [],
   "source": [
    "classifier_df = pd.DataFrame(models, columns=['threshold','feature','direction'])\n",
    "classifier_df['alpha'] = alphas\n",
    "# classifier_df.head()\n",
    "\n",
    "\n",
    "X_train_df_250T = pd.DataFrame(X_train_arr)\n",
    "sum_alpha, pos_votes, neg_votes = sum_classifier_votes_for_each_sample(X_train_arr, classifier_df)\n",
    "X_train_df_250T['sum_alpha'] = sum_alpha\n",
    "X_train_df_250T['pos_votes'] = pos_votes\n",
    "X_train_df_250T['neg_votes'] = neg_votes\n",
    "\n",
    "\n",
    "X_train_df_250T['total_alpha_votes'] = np.sum(classifier_df.alpha)\n",
    "result = X_train_df_250T[['sum_alpha','pos_votes','neg_votes','total_alpha_votes']].apply(lambda x: margin_calculation_for_training_samples(*x), axis=1)\n",
    "X_train_df_250T['margin'] = result.apply(lambda x: x[0])\n",
    "X_train_df_250T['classification'] = result.apply(lambda x: x[1])\n",
    "X_train_df_250T['true_class_label'] = labels\n",
    "X_train_df_250T.head()\n",
    "\n",
    "\n",
    "X_train_df_250T['sign_of_margin_250T'] = X_train_df_250T[['margin', 'classification', 'true_class_label']].apply(lambda x: sign_of_margin(*x), axis=1)\n",
    "X_train_df_250T.head()"
   ]
  },
  {
   "cell_type": "code",
   "execution_count": null,
   "metadata": {
    "ExecuteTime": {
     "end_time": "2019-08-14T23:11:27.959624Z",
     "start_time": "2019-08-14T23:09:59.968Z"
    }
   },
   "outputs": [],
   "source": [
    "colors = [\"#9b59b6\", \"#3498db\", \"#95a5a6\", \"#e74c3c\"]\n",
    "plt.figure(figsize=[16, 6])\n",
    "sns.kdeplot(X_train_df_30T['sign_of_margin_30T'], color=colors[0])\n",
    "sns.kdeplot(X_train_df_50T['sign_of_margin_50T'], color=colors[1])\n",
    "sns.kdeplot(X_train_df_100T['sign_of_margin_100T'], color=colors[2])\n",
    "sns.kdeplot(X_train_df_250T['sign_of_margin_250T'], color=colors[3], legend=True)"
   ]
  },
  {
   "cell_type": "markdown",
   "metadata": {},
   "source": [
    "### Then we need to train our model on the test data from our train/test split using the best number of boosting rounds"
   ]
  },
  {
   "cell_type": "code",
   "execution_count": null,
   "metadata": {},
   "outputs": [],
   "source": []
  },
  {
   "cell_type": "code",
   "execution_count": null,
   "metadata": {},
   "outputs": [],
   "source": []
  },
  {
   "cell_type": "markdown",
   "metadata": {
    "ExecuteTime": {
     "end_time": "2019-08-10T04:31:21.465147Z",
     "start_time": "2019-08-10T04:31:21.461158Z"
    }
   },
   "source": [
    "## Prediction using test data with no 'isFraud' target variable"
   ]
  },
  {
   "cell_type": "code",
   "execution_count": null,
   "metadata": {
    "ExecuteTime": {
     "end_time": "2019-08-14T23:11:27.961712Z",
     "start_time": "2019-08-14T23:09:59.990Z"
    }
   },
   "outputs": [],
   "source": [
    "def classify(X_train_arr, classifier_df):\n",
    "    \n",
    "    X_train_df = pd.DataFrame(X_train_arr)\n",
    "    X_train_df['sum_alpha'] = 0\n",
    "    X_train_df['pos_votes'] = 0\n",
    "    X_train_df['neg_votes'] = 0\n",
    "    sum_classifier_votes_for_each_sample(X_train_arr, X_train_df, classifier_df)\n",
    "    \n",
    "    \n",
    "    X_train_df['total_alpha_votes'] = np.sum(classifier_df.alpha)    \n",
    "    X_train_df['classification'] = 0\n",
    "    result = X_train_df[['sum_alpha','pos_votes','neg_votes','total_alpha_votes']].apply(lambda x: margin_calculation_for_training_samples(*x), axis=1)\n",
    "    X_train_df['margin'] = result.apply(lambda x: x[0])\n",
    "    X_train_df['classification'] = result.apply(lambda x: x[1])\n",
    "    \n",
    "    return X_train_df\n",
    "    "
   ]
  },
  {
   "cell_type": "code",
   "execution_count": null,
   "metadata": {
    "ExecuteTime": {
     "end_time": "2019-08-14T23:11:27.964703Z",
     "start_time": "2019-08-14T23:09:59.998Z"
    }
   },
   "outputs": [],
   "source": [
    "X_test_arr = final_testing_data[features].values\n",
    "test_result = classify(X_test_arr,classifier_df)"
   ]
  },
  {
   "cell_type": "code",
   "execution_count": null,
   "metadata": {
    "ExecuteTime": {
     "end_time": "2019-08-14T23:11:27.967197Z",
     "start_time": "2019-08-14T23:10:00.006Z"
    }
   },
   "outputs": [],
   "source": [
    "test_result.head()"
   ]
  },
  {
   "cell_type": "code",
   "execution_count": null,
   "metadata": {
    "ExecuteTime": {
     "end_time": "2019-08-14T23:11:27.970688Z",
     "start_time": "2019-08-14T23:10:00.015Z"
    }
   },
   "outputs": [],
   "source": [
    "result_path = 'results/'\n",
    "predictions_file = 'predictions.txt'\n",
    "\n",
    "finished_df = pd.DataFrame(final_testing_data['TransactionID'])\n",
    "finished_df['isFraud'] = np.where(test_result == -1,0,1)\n",
    "\n",
    "\n",
    "finished_df.to_csv(result_path + 'predictions.csv', index=False)"
   ]
  },
  {
   "cell_type": "code",
   "execution_count": null,
   "metadata": {
    "ExecuteTime": {
     "end_time": "2019-08-14T23:11:27.972340Z",
     "start_time": "2019-08-14T23:10:00.023Z"
    }
   },
   "outputs": [],
   "source": [
    "finished_df"
   ]
  },
  {
   "cell_type": "code",
   "execution_count": null,
   "metadata": {},
   "outputs": [],
   "source": []
  },
  {
   "cell_type": "code",
   "execution_count": null,
   "metadata": {},
   "outputs": [],
   "source": []
  },
  {
   "cell_type": "code",
   "execution_count": null,
   "metadata": {},
   "outputs": [],
   "source": []
  },
  {
   "cell_type": "code",
   "execution_count": null,
   "metadata": {},
   "outputs": [],
   "source": []
  },
  {
   "cell_type": "code",
   "execution_count": null,
   "metadata": {
    "ExecuteTime": {
     "end_time": "2019-08-14T23:11:27.975701Z",
     "start_time": "2019-08-14T23:10:00.060Z"
    },
    "scrolled": true
   },
   "outputs": [],
   "source": [
    "# classifier_df = pd.DataFrame(h, columns=['threshold','feature','direction'])\n",
    "# classifier_df['alpha'] = alpha\n",
    "# classifier_df.head()\n",
    "\n",
    "# training_set_x_df = pd.DataFrame(x)\n",
    "# training_set_x_df['sum_alpha'] = 0 \n",
    "# training_set_x_df['pos_votes'] = 0 \n",
    "# training_set_x_df['neg_votes'] = 0 \n",
    "\n",
    "# training_set_x_df = sum_classifier_votes_for_each_sample(x, training_set_x_df, classifier_df)\n",
    "# training_set_x_df.head()"
   ]
  },
  {
   "cell_type": "code",
   "execution_count": null,
   "metadata": {},
   "outputs": [],
   "source": []
  },
  {
   "cell_type": "code",
   "execution_count": null,
   "metadata": {},
   "outputs": [],
   "source": []
  },
  {
   "cell_type": "code",
   "execution_count": null,
   "metadata": {},
   "outputs": [],
   "source": []
  },
  {
   "cell_type": "code",
   "execution_count": null,
   "metadata": {},
   "outputs": [],
   "source": []
  },
  {
   "cell_type": "code",
   "execution_count": null,
   "metadata": {},
   "outputs": [],
   "source": []
  },
  {
   "cell_type": "code",
   "execution_count": null,
   "metadata": {},
   "outputs": [],
   "source": []
  },
  {
   "cell_type": "code",
   "execution_count": null,
   "metadata": {
    "ExecuteTime": {
     "end_time": "2019-08-14T23:11:27.978205Z",
     "start_time": "2019-08-14T23:10:00.111Z"
    },
    "hide_input": true
   },
   "outputs": [],
   "source": [
    "# features = ['TransactionAmt', 'C1','C2','C3','C4','C5','C6','C7','C8','C9','C10','C11','C12','C13','C14']\n",
    "\n",
    "\n",
    "# T=30\n",
    "# # h=np.zeros([T,3])\n",
    "\n",
    "# alpha = np.zeros(T, dtype=np.float64)\n",
    "\n",
    "# # err = np.ones(T, dtype=np.float64) * np.inf\n",
    "\n",
    "# weight=np.ones(len(X_train[features]), dtype=np.float64)/len(X_train[features])\n"
   ]
  },
  {
   "cell_type": "code",
   "execution_count": null,
   "metadata": {
    "ExecuteTime": {
     "end_time": "2019-08-14T23:11:27.981257Z",
     "start_time": "2019-08-14T23:10:00.119Z"
    },
    "hide_input": true
   },
   "outputs": [],
   "source": [
    "# # First implementation\n",
    "\n",
    "# from sklearn.tree import DecisionTreeClassifier\n",
    "\n",
    "# for t in range(T):\n",
    "#     Tree_model = DecisionTreeClassifier(criterion=\"gini\",max_depth=1)\n",
    "#     model = Tree_model.fit(X_train[features],y_train,sample_weight=weight)\n",
    "    \n",
    "#     predictions = model.predict(X_train[features])\n",
    "    \n",
    "#     score = model.score(X_train[features],y_train)\n",
    "#     model_error = 1 - score\n",
    "    \n",
    "#     misclassified = np.where(predictions != y_train, 1, 0)\n",
    "    \n",
    "# #     evaluation = np.where(predictions == y_train, 1, 0)\n",
    "# #     accuracy = sum(evaluation/len(evaluation))\n",
    "\n",
    "# #     misclassified = np.where(predictions != y_train, 1, 0)\n",
    "# #     misclassifcation = sum(misclassified/len(misclassified))\n",
    "\n",
    "# #     model_error = sum(weights*misclassified)/sum(weights)\n",
    "    \n",
    "    \n",
    "#     alpha = np.log((1-model_error)/model_error)\n",
    "#     alphas.append(alpha)\n",
    "    \n",
    "    \n",
    "#     X_train_weights *= np.exp(-1*alpha*misclassified)\n",
    "#     X_train_weights = X_train_weights / np.sum(X_train_weights)\n",
    "    \n",
    "    \n",
    "#     print(f'The Accuracy of the {t+1}. model is : {(score*100).round(3)}%')\n",
    "#     print(f'The misclassification rate is: {(model_error*100).round(3)}%')\n",
    "#     print('')"
   ]
  },
  {
   "cell_type": "code",
   "execution_count": null,
   "metadata": {
    "ExecuteTime": {
     "end_time": "2019-08-14T23:11:27.982719Z",
     "start_time": "2019-08-14T23:10:00.126Z"
    },
    "scrolled": true
   },
   "outputs": [],
   "source": [
    "\n",
    "# from sklearn.tree import DecisionTreeClassifier\n",
    "# features = ['TransactionAmt', 'C1', 'C2', 'C3', 'C4', 'C5',\n",
    "#             'C6', 'C7', 'C8', 'C9', 'C10', 'C11', 'C12', 'C13', 'C14']\n",
    "\n",
    "\n",
    "# T = 50\n",
    "# learning_rate = 0.5\n",
    "\n",
    "# weights = np.ones(len(X_train[features]),\n",
    "#                   dtype=np.float64)/len(X_train[features])\n",
    "\n",
    "\n",
    "# alphas = []\n",
    "# models = []\n",
    "\n",
    "# for t in range(T):\n",
    "#     Tree_model = DecisionTreeClassifier(criterion=\"entropy\", max_depth=1)\n",
    "\n",
    "#     model = Tree_model.fit(X_train[features], y_train, sample_weight=weights)\n",
    "\n",
    "#     # Save your model\n",
    "#     models.append(model)\n",
    "\n",
    "#     predictions = model.predict(X_train[features])\n",
    "#     accuracy = model.score(X_train[features], y_train)\n",
    "\n",
    "#     # Seperate correctly classified from uncorrrectly classified\n",
    "# #     classified = np.array(predictions==y_train).astype(int)   # Not sure what this is used for\n",
    "#     misclassified = np.where(predictions != y_train,1,0)\n",
    "\n",
    "#     # Misclassification rate\n",
    "#     misclassification_rate = sum(misclassified)/len(misclassified)\n",
    "\n",
    "#     # Model error\n",
    "#     model_error = np.sum(weights*misclassified)/np.sum(weights)\n",
    "\n",
    "#     # Calculate the alpha values\n",
    "#     alpha = np.log((1-model_error)/model_error)\n",
    "#     # Save our alpha\n",
    "#     alphas.append(alpha)\n",
    "\n",
    "#     # Update the training weights for next decision stump\n",
    "#     weights *= np.exp(alpha*misclassified)\n",
    "\n",
    "#     # Standardize the weights\n",
    "# #     weights = weights / np.sum(weights)\n",
    "\n",
    "# #     Evaluation = pd.DataFrame(y_train.copy())\n",
    "# #     Evaluation['weights'] = weights\n",
    "# #     Evaluation['predictions'] = predictions\n",
    "# #     Evaluation['classified'] = classified\n",
    "# #     Evaluation['misclassified'] = misclassified\n",
    "\n",
    "#     print(f'The Accuracy of the {t+1}th model is : {(accuracy*100).round(3)}%')\n",
    "#     print(\n",
    "#         f'The misclassification rate is: {(misclassification_rate * 100).round(3)}%')\n",
    "#     print('')"
   ]
  },
  {
   "cell_type": "code",
   "execution_count": null,
   "metadata": {
    "ExecuteTime": {
     "end_time": "2019-08-14T23:11:27.986301Z",
     "start_time": "2019-08-14T23:10:00.134Z"
    }
   },
   "outputs": [],
   "source": [
    "# classification_sum = np.float64(0)\n",
    "\n",
    "# accuracy = []\n",
    "# total_predictions = []\n",
    "\n",
    "# for alpha, model in zip(alphas, models):\n",
    "#     model_predictions = model.predict(X_test[features])\n",
    "# #     print(model.score(X_test[features], y_test))\n",
    "#     total_predictions.append(model_predictions*alpha)\n",
    "    \n",
    "#     accuracy.append(np.sum(np.sign(np.sum(np.array(total_predictions),axis=0))==y_test.values)/len(total_predictions[0]))\n",
    "    \n",
    "# total_predictions = np.sign(np.sum(np.array(predictions),axis=0))"
   ]
  },
  {
   "cell_type": "code",
   "execution_count": null,
   "metadata": {
    "ExecuteTime": {
     "end_time": "2019-08-14T23:11:27.988999Z",
     "start_time": "2019-08-14T23:10:00.142Z"
    }
   },
   "outputs": [],
   "source": [
    "# number_of_base_learners = 50\n",
    "# fig = plt.figure(figsize=(10,10))\n",
    "# ax0 = fig.add_subplot(111)\n",
    "# # for i in range(number_of_base_learners):\n",
    "# #     model = Boosting(dataset,i,dataset)\n",
    "# #     model.fit()\n",
    "# #     model.predict()\n",
    "# ax0.plot(range(len(accuracy)),accuracy,'-b')\n",
    "# ax0.set_xlabel('# models used for Boosting ')\n",
    "# ax0.set_ylabel('accuracy')\n",
    "# print('With a number of ',number_of_base_learners,'base models we receive an accuracy of ',accuracy[-1]*100,'%')    \n",
    "                 \n",
    "# plt.show()       "
   ]
  },
  {
   "cell_type": "code",
   "execution_count": null,
   "metadata": {},
   "outputs": [],
   "source": []
  }
 ],
 "metadata": {
  "hide_input": false,
  "kernelspec": {
   "display_name": "Python 3",
   "language": "python",
   "name": "python3"
  },
  "language_info": {
   "codemirror_mode": {
    "name": "ipython",
    "version": 3
   },
   "file_extension": ".py",
   "mimetype": "text/x-python",
   "name": "python",
   "nbconvert_exporter": "python",
   "pygments_lexer": "ipython3",
   "version": "3.7.3"
  },
  "varInspector": {
   "cols": {
    "lenName": 16,
    "lenType": 16,
    "lenVar": 40
   },
   "kernels_config": {
    "python": {
     "delete_cmd_postfix": "",
     "delete_cmd_prefix": "del ",
     "library": "var_list.py",
     "varRefreshCmd": "print(var_dic_list())"
    },
    "r": {
     "delete_cmd_postfix": ") ",
     "delete_cmd_prefix": "rm(",
     "library": "var_list.r",
     "varRefreshCmd": "cat(var_dic_list()) "
    }
   },
   "types_to_exclude": [
    "module",
    "function",
    "builtin_function_or_method",
    "instance",
    "_Feature"
   ],
   "window_display": false
  }
 },
 "nbformat": 4,
 "nbformat_minor": 2
}
